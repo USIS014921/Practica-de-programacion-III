{
  "cells": [
    {
      "cell_type": "markdown",
      "metadata": {
        "id": "view-in-github",
        "colab_type": "text"
      },
      "source": [
        "<a href=\"https://colab.research.google.com/github/USIS014921/Practica-de-programacion-III/blob/main/IA.ipynb\" target=\"_parent\"><img src=\"https://colab.research.google.com/assets/colab-badge.svg\" alt=\"Open In Colab\"/></a>"
      ]
    },
    {
      "cell_type": "markdown",
      "metadata": {
        "id": "F14qFK5gdViN"
      },
      "source": [
        "#Laboraorio 2 Computo 2 entrenamientode IA\n",
        "# Integrantes del Grupo\n",
        "\n",
        "# Roberto Fransisco Reyes Palomo____USIS032421\n",
        "\n",
        "# Julio Alexander Maravilla Umañana__USIS018420\n",
        "\n",
        "# Joan Steven Gomez Contreras___USIS014921\n",
        "\n",
        "# Rene Gustavo Garcia Gomez_USIS595218\n",
        "\n",
        "# Entrenamiento IA"
      ]
    },
    {
      "cell_type": "code",
      "execution_count": null,
      "metadata": {
        "id": "xrSAZNhVvfPF"
      },
      "outputs": [],
      "source": [
        "import tensorflow as tf\n",
        "import matplotlib.pyplot as plt\n",
        "import numpy as np\n",
        "import math\n",
        "import tensorflow_datasets as tfds"
      ]
    },
    {
      "cell_type": "code",
      "execution_count": null,
      "metadata": {
        "colab": {
          "background_save": true
        },
        "id": "HBVZJ6ICvkAz"
      },
      "outputs": [],
      "source": [
        "#2. Cargamos el dataset\n",
        "dataset, metadata = tfds.load('fashion_mnist', as_supervised=True, with_info=True)\n",
        "#print(dataset[\"train\"])\n",
        "datos_entrenamiento, datos_prueba = dataset[\"train\"], dataset[\"test\"]"
      ]
    },
    {
      "cell_type": "code",
      "execution_count": null,
      "metadata": {
        "id": "nUpFodq2vlRO"
      },
      "outputs": [],
      "source": [
        "#monstrar una imagen...\n",
        "for img in datos_entrenamiento.take(1):\n",
        "  print(img)\n",
        "  img = img[0].numpy().reshape(1,28,28,1)\n",
        "  plt.grid(False)\n",
        "  plt.imshow(img[0, ..., 0], cmap=plt.cm.binary)"
      ]
    },
    {
      "cell_type": "code",
      "execution_count": null,
      "metadata": {
        "id": "C5dDZltjvmyh"
      },
      "outputs": [],
      "source": [
        " #3. #asignar las etiquetas son 10\n",
        "numeros_letras = [\"Playera\", \"Pantalon\", \"Sueter\", \"Vestido\", \"Abrigo\", \"Sandalia\", \"Camisa\", \"Tenis\", \"Cartera\", \"Botas\"]"
      ]
    },
    {
      "cell_type": "code",
      "execution_count": null,
      "metadata": {
        "colab": {
          "base_uri": "https://localhost:8080/"
        },
        "id": "RM6z3wU9vtKh",
        "outputId": "2f941ab5-7613-4a0e-fa07-baf09f562a74"
      },
      "outputs": [
        {
          "name": "stdout",
          "output_type": "stream",
          "text": [
            "60000 10000\n"
          ]
        }
      ],
      "source": [
        "#4. obtener la cantidad de datos.\n",
        "#print(metadata)\n",
        "cantidad_numeros_entrenamiento = metadata.splits[\"train\"].num_examples\n",
        "cantidad_numeros_prueba = metadata.splits[\"test\"].num_examples\n",
        "print(cantidad_numeros_entrenamiento, cantidad_numeros_prueba)"
      ]
    },
    {
      "cell_type": "code",
      "execution_count": null,
      "metadata": {
        "id": "qz5jv1dBvuz6"
      },
      "outputs": [],
      "source": [
        "#5. funcion normalizadora de los pixeles de 0 - 255 que sean valores de 0 - 1\n",
        "def normalizacion(img, label):\n",
        "  img = tf.cast(img, tf.float32)\n",
        "  img /= 255 #236/255 = 0.004237288\n",
        "  return img, label"
      ]
    },
    {
      "cell_type": "code",
      "execution_count": null,
      "metadata": {
        "id": "PdQw1nLKvwxY"
      },
      "outputs": [],
      "source": [
        "#6. Llamamos la funcion normlizadora\n",
        "datos_entrenamiento = datos_entrenamiento.map(normalizacion)\n",
        "datos_prueba = datos_prueba.map(normalizacion)\n",
        "\n",
        "#for img in datos_entrenamiento.take(1):\n",
        "  #print(img[0])#5.58150468e-08 => 0.0000000558150468"
      ]
    },
    {
      "cell_type": "code",
      "execution_count": null,
      "metadata": {
        "id": "CqBeyJL8vyzg"
      },
      "outputs": [],
      "source": [
        "#7 estructuramos nuestra red neuronal \n",
        "modelo = tf.keras.Sequential([\n",
        "    tf.keras.layers.Flatten(input_shape =(28,28,1)),\n",
        "    tf.keras.layers.Dense(64, activation = tf.nn.relu),\n",
        "    tf.keras.layers.Dense(64, activation = tf.nn.relu),\n",
        "    tf.keras.layers.Dense(10, activation = tf.nn.softmax)\n",
        "])"
      ]
    },
    {
      "cell_type": "code",
      "execution_count": null,
      "metadata": {
        "id": "hrs5-EkOvzo0"
      },
      "outputs": [],
      "source": [
        "#8 compilamos el modelo de red neuronal e indicamos las funciones a utilizar \n",
        "modelo.compile(\n",
        "    optimizer= \"adam\",\n",
        "    loss = \"sparse_categorical_crossentropy\",\n",
        "    metrics =['accuracy']\n",
        ")"
      ]
    },
    {
      "cell_type": "code",
      "execution_count": null,
      "metadata": {
        "id": "RaDHZR-9v1Dc"
      },
      "outputs": [],
      "source": [
        "#9 entrenamiento por lotes\n",
        "size_lote = 32\n",
        "datos_entrenamiento = datos_entrenamiento.repeat().shuffle(cantidad_numeros_entrenamiento).batch(size_lote)\n",
        "datos_prueba = datos_prueba.repeat().shuffle(cantidad_numeros_prueba).batch(size_lote)"
      ]
    },
    {
      "cell_type": "code",
      "execution_count": null,
      "metadata": {
        "colab": {
          "base_uri": "https://localhost:8080/"
        },
        "id": "Cs7HikRDv2nQ",
        "outputId": "563a0c56-3f26-446a-bef1-14277e8adbc7"
      },
      "outputs": [
        {
          "name": "stdout",
          "output_type": "stream",
          "text": [
            "Epoch 1/5\n",
            "1875/1875 [==============================] - 14s 4ms/step - loss: 0.5094 - accuracy: 0.8199\n",
            "Epoch 2/5\n",
            "1875/1875 [==============================] - 7s 4ms/step - loss: 0.3782 - accuracy: 0.8620\n",
            "Epoch 3/5\n",
            "1875/1875 [==============================] - 8s 4ms/step - loss: 0.3518 - accuracy: 0.8712\n",
            "Epoch 4/5\n",
            "1875/1875 [==============================] - 8s 4ms/step - loss: 0.3226 - accuracy: 0.8812\n",
            "Epoch 5/5\n",
            "1875/1875 [==============================] - 9s 5ms/step - loss: 0.3029 - accuracy: 0.8886\n"
          ]
        },
        {
          "data": {
            "text/plain": [
              "<keras.callbacks.History at 0x7f4f74442410>"
            ]
          },
          "execution_count": 11,
          "metadata": {},
          "output_type": "execute_result"
        }
      ],
      "source": [
        "#10 entrenando nuestro modelo de datos \n",
        "modelo.fit(datos_entrenamiento,epochs= 5,\n",
        "           steps_per_epoch=math.ceil(cantidad_numeros_entrenamiento/size_lote))"
      ]
    },
    {
      "cell_type": "code",
      "execution_count": null,
      "metadata": {
        "colab": {
          "base_uri": "https://localhost:8080/"
        },
        "id": "25HuU_ILv4S4",
        "outputId": "d441a238-1c34-45e0-dad8-b99c23cd9dfb"
      },
      "outputs": [
        {
          "name": "stdout",
          "output_type": "stream",
          "text": [
            "313/313 [==============================] - 3s 5ms/step - loss: 0.3721 - accuracy: 0.8636\n",
            "Resultados de las pruebas 0.37205931544303894 0.8636181950569153\n"
          ]
        }
      ],
      "source": [
        "# Evaluamos el modelo con los datos de prueba \n",
        "test_loss,test_accuracy = modelo.evaluate(datos_prueba,steps=math.ceil(cantidad_numeros_prueba/size_lote))\n",
        "print(\"Resultados de las pruebas\", test_loss, test_accuracy) "
      ]
    },
    {
      "cell_type": "code",
      "execution_count": null,
      "metadata": {
        "id": "kffn8RyMv8E5"
      },
      "outputs": [],
      "source": [
        "#graficamos la salida para evaluar los resultados \n",
        "def graficar_imagen(i,predictions_array,true_labels,images):\n",
        "  predictions_array,true_labels,img = predictions_array[i], true_labels[i],images[i]\n",
        "  plt.grid (False)\n",
        "  plt.xticks([])\n",
        "  plt.yticks([])\n",
        "  plt.imshow(img[...,0],cmap = plt.cm.binary)\n",
        "\n",
        "  predicted_label = np.argmax(predictions_array)\n",
        "  if predicted_label == true_labels:\n",
        "    color = \"blue\"\n",
        "  else: \n",
        "     color = \"red\"\n",
        "     plt.xlabel(\"prediccion: {}\".format(numeros_letras[predicted_label]), color=color)"
      ]
    },
    {
      "cell_type": "code",
      "execution_count": null,
      "metadata": {
        "id": "nqmuv_-nv-S4"
      },
      "outputs": [],
      "source": [
        "#convertimos los tensores en matrices numpy\n",
        "for imagenes_prueba,etiquetas_prueba in datos_prueba.take(1):\n",
        "  imagenes_prueba = imagenes_prueba.numpy()\n",
        "  etiquetas_prueba = etiquetas_prueba.numpy()\n",
        "  predicciones = modelo.predict(imagenes_prueba)"
      ]
    },
    {
      "cell_type": "code",
      "execution_count": null,
      "metadata": {
        "colab": {
          "base_uri": "https://localhost:8080/",
          "height": 316
        },
        "id": "WtHEUYRjNheP",
        "outputId": "77e71cef-8af8-4cd4-822f-7896dd1964e4"
      },
      "outputs": [
        {
          "name": "stdout",
          "output_type": "stream",
          "text": [
            "8\n"
          ]
        },
        {
          "data": {
            "text/plain": [
              "Text(0.5, 0, 'Prediccion: Cartera')"
            ]
          },
          "execution_count": 15,
          "metadata": {},
          "output_type": "execute_result"
        },
        {
          "data": {
            "image/png": "[encoded data removed]",
            "text/plain": [
              "<Figure size 432x288 with 1 Axes>"
            ]
          },
          "metadata": {},
          "output_type": "display_data"
        }
      ],
      "source": [
        "#pruebas de entrenamiento\n",
        "i=0\n",
        "for miImagen, etiqueta in datos_entrenamiento.take(1):\n",
        "  etiqueta = etiqueta.numpy()\n",
        "  imagen = miImagen[0].numpy().reshape(1,28,28,1)\n",
        "  prediccion = modelo.predict(imagen, batch_size= 1)\n",
        "\n",
        "valor_prediccion = np.argmax(prediccion)\n",
        "print(valor_prediccion) #etiqueta[i] )\n",
        "\n",
        "img=imagen\n",
        "plt.grid(False)\n",
        "plt.imshow(img[0,...,0], cmap=plt.cm.binary)\n",
        "plt.xlabel(\"Prediccion: {}\".format(numeros_letras[valor_prediccion]), color=\"green\")"
      ]
    },
    {
      "cell_type": "code",
      "execution_count": null,
      "metadata": {
        "id": "fTY-udHRwADw"
      },
      "outputs": [],
      "source": [
        "#Graficamos los valores de la matriz para las imagenes y otra para las graficas de barras segun el acierto \n",
        "def graficar_valores_array(i, predictions_array,true_label):\n",
        "  predictions_array,true_label = predictions_array[i],true_label[i]\n",
        "  plt.grid(False)\n",
        "  plt.xticks([])\n",
        "  plt.yticks([])\n",
        "  thisplot =plt.bar(range(10),predictions_array,color= \"#888888\")\n",
        "  plt.ylim([0,1])\n",
        "  predicted_label = np.argmax(predictions_array)\n",
        "  thisplot[predicted_label]. set_color('red')\n",
        "  thisplot[true_label]. set_color('blue')"
      ]
    },
    {
      "cell_type": "code",
      "execution_count": null,
      "metadata": {
        "colab": {
          "base_uri": "https://localhost:8080/",
          "height": 572
        },
        "id": "zno4EnF5wB9A",
        "outputId": "b502a166-c5d4-497f-ab4e-29f1c722df07"
      },
      "outputs": [
        {
          "data": {
            "image/png": "[encoded data removed]",
            "text/plain": [
              "<Figure size 1440x720 with 50 Axes>"
            ]
          },
          "metadata": {},
          "output_type": "display_data"
        }
      ],
      "source": [
        "numrows = 5\n",
        "numcols = 5\n",
        "numimages = numrows * numcols\n",
        "\n",
        "plt.figure(figsize=(2*2*numcols,2*numrows))\n",
        "for i in range(numimages):\n",
        "  plt.subplot(numrows,2*numcols,2*i+1)\n",
        "  graficar_imagen(i, predicciones, etiquetas_prueba, imagenes_prueba)\n",
        "  plt.subplot(numrows,2*numcols,2*i+2)\n",
        "  graficar_valores_array(i,predicciones,etiquetas_prueba)\n",
        "\n",
        "plt.show()"
      ]
    },
    {
      "cell_type": "code",
      "execution_count": null,
      "metadata": {
        "colab": {
          "base_uri": "https://localhost:8080/",
          "height": 394
        },
        "id": "DxCsmNv9TW5y",
        "outputId": "1f9a5623-da90-40a0-9c54-32b26310d5d4"
      },
      "outputs": [
        {
          "data": {
            "text/html": [
              "\n",
              "     <input type=\"file\" id=\"files-0f18f8cb-eb67-48f7-8361-390c55dbb537\" name=\"files[]\" multiple disabled\n",
              "        style=\"border:none\" />\n",
              "     <output id=\"result-0f18f8cb-eb67-48f7-8361-390c55dbb537\">\n",
              "      Upload widget is only available when the cell has been executed in the\n",
              "      current browser session. Please rerun this cell to enable.\n",
              "      </output>\n",
              "      <script>// Copyright 2017 Google LLC\n",
              "//\n",
              "// Licensed under the Apache License, Version 2.0 (the \"License\");\n",
              "// you may not use this file except in compliance with the License.\n",
              "// You may obtain a copy of the License at\n",
              "//\n",
              "//      http://www.apache.org/licenses/LICENSE-2.0\n",
              "//\n",
              "// Unless required by applicable law or agreed to in writing, software\n",
              "// distributed under the License is distributed on an \"AS IS\" BASIS,\n",
              "// WITHOUT WARRANTIES OR CONDITIONS OF ANY KIND, either express or implied.\n",
              "// See the License for the specific language governing permissions and\n",
              "// limitations under the License.\n",
              "\n",
              "/**\n",
              " * @fileoverview Helpers for google.colab Python module.\n",
              " */\n",
              "(function(scope) {\n",
              "function span(text, styleAttributes = {}) {\n",
              "  const element = document.createElement('span');\n",
              "  element.textContent = text;\n",
              "  for (const key of Object.keys(styleAttributes)) {\n",
              "    element.style[key] = styleAttributes[key];\n",
              "  }\n",
              "  return element;\n",
              "}\n",
              "\n",
              "// Max number of bytes which will be uploaded at a time.\n",
              "const MAX_PAYLOAD_SIZE = 100 * 1024;\n",
              "\n",
              "function _uploadFiles(inputId, outputId) {\n",
              "  const steps = uploadFilesStep(inputId, outputId);\n",
              "  const outputElement = document.getElementById(outputId);\n",
              "  // Cache steps on the outputElement to make it available for the next call\n",
              "  // to uploadFilesContinue from Python.\n",
              "  outputElement.steps = steps;\n",
              "\n",
              "  return _uploadFilesContinue(outputId);\n",
              "}\n",
              "\n",
              "// This is roughly an async generator (not supported in the browser yet),\n",
              "// where there are multiple asynchronous steps and the Python side is going\n",
              "// to poll for completion of each step.\n",
              "// This uses a Promise to block the python side on completion of each step,\n",
              "// then passes the result of the previous step as the input to the next step.\n",
              "function _uploadFilesContinue(outputId) {\n",
              "  const outputElement = document.getElementById(outputId);\n",
              "  const steps = outputElement.steps;\n",
              "\n",
              "  const next = steps.next(outputElement.lastPromiseValue);\n",
              "  return Promise.resolve(next.value.promise).then((value) => {\n",
              "    // Cache the last promise value to make it available to the next\n",
              "    // step of the generator.\n",
              "    outputElement.lastPromiseValue = value;\n",
              "    return next.value.response;\n",
              "  });\n",
              "}\n",
              "\n",
              "/**\n",
              " * Generator function which is called between each async step of the upload\n",
              " * process.\n",
              " * @param {string} inputId Element ID of the input file picker element.\n",
              " * @param {string} outputId Element ID of the output display.\n",
              " * @return {!Iterable<!Object>} Iterable of next steps.\n",
              " */\n",
              "function* uploadFilesStep(inputId, outputId) {\n",
              "  const inputElement = document.getElementById(inputId);\n",
              "  inputElement.disabled = false;\n",
              "\n",
              "  const outputElement = document.getElementById(outputId);\n",
              "  outputElement.innerHTML = '';\n",
              "\n",
              "  const pickedPromise = new Promise((resolve) => {\n",
              "    inputElement.addEventListener('change', (e) => {\n",
              "      resolve(e.target.files);\n",
              "    });\n",
              "  });\n",
              "\n",
              "  const cancel = document.createElement('button');\n",
              "  inputElement.parentElement.appendChild(cancel);\n",
              "  cancel.textContent = 'Cancel upload';\n",
              "  const cancelPromise = new Promise((resolve) => {\n",
              "    cancel.onclick = () => {\n",
              "      resolve(null);\n",
              "    };\n",
              "  });\n",
              "\n",
              "  // Wait for the user to pick the files.\n",
              "  const files = yield {\n",
              "    promise: Promise.race([pickedPromise, cancelPromise]),\n",
              "    response: {\n",
              "      action: 'starting',\n",
              "    }\n",
              "  };\n",
              "\n",
              "  cancel.remove();\n",
              "\n",
              "  // Disable the input element since further picks are not allowed.\n",
              "  inputElement.disabled = true;\n",
              "\n",
              "  if (!files) {\n",
              "    return {\n",
              "      response: {\n",
              "        action: 'complete',\n",
              "      }\n",
              "    };\n",
              "  }\n",
              "\n",
              "  for (const file of files) {\n",
              "    const li = document.createElement('li');\n",
              "    li.append(span(file.name, {fontWeight: 'bold'}));\n",
              "    li.append(span(\n",
              "        `(${file.type || 'n/a'}) - ${file.size} bytes, ` +\n",
              "        `last modified: ${\n",
              "            file.lastModifiedDate ? file.lastModifiedDate.toLocaleDateString() :\n",
              "                                    'n/a'} - `));\n",
              "    const percent = span('0% done');\n",
              "    li.appendChild(percent);\n",
              "\n",
              "    outputElement.appendChild(li);\n",
              "\n",
              "    const fileDataPromise = new Promise((resolve) => {\n",
              "      const reader = new FileReader();\n",
              "      reader.onload = (e) => {\n",
              "        resolve(e.target.result);\n",
              "      };\n",
              "      reader.readAsArrayBuffer(file);\n",
              "    });\n",
              "    // Wait for the data to be ready.\n",
              "    let fileData = yield {\n",
              "      promise: fileDataPromise,\n",
              "      response: {\n",
              "        action: 'continue',\n",
              "      }\n",
              "    };\n",
              "\n",
              "    // Use a chunked sending to avoid message size limits. See b/62115660.\n",
              "    let position = 0;\n",
              "    do {\n",
              "      const length = Math.min(fileData.byteLength - position, MAX_PAYLOAD_SIZE);\n",
              "      const chunk = new Uint8Array(fileData, position, length);\n",
              "      position += length;\n",
              "\n",
              "      const base64 = btoa(String.fromCharCode.apply(null, chunk));\n",
              "      yield {\n",
              "        response: {\n",
              "          action: 'append',\n",
              "          file: file.name,\n",
              "          data: base64,\n",
              "        },\n",
              "      };\n",
              "\n",
              "      let percentDone = fileData.byteLength === 0 ?\n",
              "          100 :\n",
              "          Math.round((position / fileData.byteLength) * 100);\n",
              "      percent.textContent = `${percentDone}% done`;\n",
              "\n",
              "    } while (position < fileData.byteLength);\n",
              "  }\n",
              "\n",
              "  // All done.\n",
              "  yield {\n",
              "    response: {\n",
              "      action: 'complete',\n",
              "    }\n",
              "  };\n",
              "}\n",
              "\n",
              "scope.google = scope.google || {};\n",
              "scope.google.colab = scope.google.colab || {};\n",
              "scope.google.colab._files = {\n",
              "  _uploadFiles,\n",
              "  _uploadFilesContinue,\n",
              "};\n",
              "})(self);\n",
              "</script> "
            ],
            "text/plain": [
              "<IPython.core.display.HTML object>"
            ]
          },
          "metadata": {},
          "output_type": "display_data"
        },
        {
          "name": "stdout",
          "output_type": "stream",
          "text": [
            "Saving abrigo.png to abrigo.png\n",
            "Saving botas.png to botas.png\n",
            "Saving camisa.png to camisa.png\n",
            "Saving cartera.png to cartera.png\n",
            "Saving pantalon.png to pantalon.png\n",
            "Saving playera (2).png to playera (2).png\n",
            "Saving sandalia.png to sandalia.png\n",
            "Saving sueter.png to sueter.png\n",
            "Saving tenis.png to tenis.png\n",
            "Saving vestido.png to vestido.png\n"
          ]
        }
      ],
      "source": [
        "#creamos nuestro codigo para subir las imagenes \n",
        "#y hacemos las pruebas con la iganes ingresadas por el ususario\n",
        "from google.colab import files\n",
        "uploaded = files.upload()"
      ]
    },
    {
      "cell_type": "code",
      "execution_count": null,
      "metadata": {
        "colab": {
          "base_uri": "https://localhost:8080/",
          "height": 296
        },
        "id": "7DgeayESN1S3",
        "outputId": "e724a770-968f-4781-e648-00e3b78bffd6"
      },
      "outputs": [
        {
          "output_type": "stream",
          "name": "stdout",
          "text": [
            "4\n"
          ]
        },
        {
          "output_type": "display_data",
          "data": {
            "text/plain": [
              "<Figure size 432x288 with 1 Axes>"
            ],
            "image/png": "[encoded data removed]"
          },
          "metadata": {
            "needs_background": "light"
          }
        }
      ],
      "source": [
        "#Descargue le archivo zip de las imagenes usadas para la prueba final\n",
        "#link de archivo zip imagenes:https://drive.google.com/file/d/1AB-JQ45rQ1ZhtDrncE_LBcrY_lo-RyCd/view?usp=sharing \n",
        "#predicion numero 1\n",
        "import cv2\n",
        "#para agregar una imagen cambie el nombre del archivo png que desee predecir\n",
        "imagen_prueba = cv2.imread(\"abrigo.png\",cv2.IMREAD_GRAYSCALE)\n",
        "imagen_prueba = cv2.resize(imagen_prueba,(28,28))\n",
        "img_predic = modelo.predict(imagen_prueba.reshape(1,28,28,1))\n",
        "valor_prediccion = np.argmax(img_predic)\n",
        "\n",
        "i=0\n",
        "\n",
        "plt.grid(False)\n",
        "plt.imshow(imagen_prueba,cmap=plt.cm.binary)\n",
        "plt.xlabel(\"Prediccion: {}\".format(numeros_letras[valor_prediccion]), color=\"green\")\n",
        "print(valor_prediccion)"
      ]
    },
    {
      "cell_type": "code",
      "execution_count": null,
      "metadata": {
        "colab": {
          "base_uri": "https://localhost:8080/",
          "height": 296
        },
        "id": "m-dsfeC2q1k8",
        "outputId": "3e953539-3840-4749-a20b-bbcaae8ce02d"
      },
      "outputs": [
        {
          "output_type": "stream",
          "name": "stdout",
          "text": [
            "9\n"
          ]
        },
        {
          "output_type": "display_data",
          "data": {
            "text/plain": [
              "<Figure size 432x288 with 1 Axes>"
            ],
            "image/png": "[encoded data removed]"
          },
          "metadata": {
            "needs_background": "light"
          }
        }
      ],
      "source": [
        "#predicion numero 2\n",
        "import cv2\n",
        "#para agregar una imagen cambie el nombre del archivo png que desee predecir\n",
        "imagen_prueba = cv2.imread(\"botas.png\",cv2.IMREAD_GRAYSCALE)\n",
        "imagen_prueba = cv2.resize(imagen_prueba,(28,28))\n",
        "img_predic = modelo.predict(imagen_prueba.reshape(1,28,28,1))\n",
        "valor_prediccion = np.argmax(img_predic)\n",
        "\n",
        "i=0\n",
        "\n",
        "plt.grid(False)\n",
        "plt.imshow(imagen_prueba,cmap=plt.cm.binary)\n",
        "plt.xlabel(\"Prediccion: {}\".format(numeros_letras[valor_prediccion]), color=\"green\")\n",
        "print(valor_prediccion)"
      ]
    },
    {
      "cell_type": "code",
      "execution_count": null,
      "metadata": {
        "colab": {
          "base_uri": "https://localhost:8080/",
          "height": 296
        },
        "id": "LNMeEpdzq2Vj",
        "outputId": "e4cafdf5-09f7-4ddb-d0c3-09ac19dba870"
      },
      "outputs": [
        {
          "output_type": "stream",
          "name": "stdout",
          "text": [
            "9\n"
          ]
        },
        {
          "output_type": "display_data",
          "data": {
            "text/plain": [
              "<Figure size 432x288 with 1 Axes>"
            ],
            "image/png": "[encoded data removed]"
          },
          "metadata": {
            "needs_background": "light"
          }
        }
      ],
      "source": [
        "#predicion numero 3\n",
        "import cv2\n",
        "#para agregar una imagen cambie el nombre del archivo png que desee predecir\n",
        "imagen_prueba = cv2.imread(\"tenis.png\",cv2.IMREAD_GRAYSCALE)\n",
        "imagen_prueba = cv2.resize(imagen_prueba,(28,28))\n",
        "img_predic = modelo.predict(imagen_prueba.reshape(1,28,28,1))\n",
        "valor_prediccion = np.argmax(img_predic)\n",
        "\n",
        "i=0\n",
        "\n",
        "plt.grid(False)\n",
        "plt.imshow(imagen_prueba,cmap=plt.cm.binary)\n",
        "plt.xlabel(\"Prediccion: {}\".format(numeros_letras[valor_prediccion]), color=\"green\")\n",
        "print(valor_prediccion)"
      ]
    },
    {
      "cell_type": "code",
      "execution_count": null,
      "metadata": {
        "colab": {
          "base_uri": "https://localhost:8080/",
          "height": 296
        },
        "id": "BCZOFKWoq3Dq",
        "outputId": "015f34de-f531-4dac-87b1-de8a2fef5377"
      },
      "outputs": [
        {
          "output_type": "stream",
          "name": "stdout",
          "text": [
            "6\n"
          ]
        },
        {
          "output_type": "display_data",
          "data": {
            "text/plain": [
              "<Figure size 432x288 with 1 Axes>"
            ],
            "image/png": "[encoded data removed]"
          },
          "metadata": {
            "needs_background": "light"
          }
        }
      ],
      "source": [
        "#predicion numero 4\n",
        "import cv2\n",
        "#para agregar una imagen cambie el nombre del archivo png que desee predecir\n",
        "imagen_prueba = cv2.imread(\"camisa.png\",cv2.IMREAD_GRAYSCALE)\n",
        "imagen_prueba = cv2.resize(imagen_prueba,(28,28))\n",
        "img_predic = modelo.predict(imagen_prueba.reshape(1,28,28,1))\n",
        "valor_prediccion = np.argmax(img_predic)\n",
        "\n",
        "i=0\n",
        "\n",
        "plt.grid(False)\n",
        "plt.imshow(imagen_prueba,cmap=plt.cm.binary)\n",
        "plt.xlabel(\"Prediccion: {}\".format(numeros_letras[valor_prediccion]), color=\"green\")\n",
        "print(valor_prediccion)"
      ]
    },
    {
      "cell_type": "code",
      "execution_count": null,
      "metadata": {
        "colab": {
          "base_uri": "https://localhost:8080/",
          "height": 296
        },
        "id": "uM2soM62q660",
        "outputId": "2aa0db59-6417-40e6-c542-6b2d71a5a9b3"
      },
      "outputs": [
        {
          "output_type": "stream",
          "name": "stdout",
          "text": [
            "0\n"
          ]
        },
        {
          "output_type": "display_data",
          "data": {
            "text/plain": [
              "<Figure size 432x288 with 1 Axes>"
            ],
            "image/png": "[encoded data removed]"
          },
          "metadata": {
            "needs_background": "light"
          }
        }
      ],
      "source": [
        "#predicion numero 5\n",
        "import cv2\n",
        "#para agregar una imagen cambie el nombre del archivo png que desee predecir\n",
        "imagen_prueba = cv2.imread(\"playera.png\",cv2.IMREAD_GRAYSCALE)\n",
        "imagen_prueba = cv2.resize(imagen_prueba,(28,28))\n",
        "img_predic = modelo.predict(imagen_prueba.reshape(1,28,28,1))\n",
        "valor_prediccion = np.argmax(img_predic)\n",
        "\n",
        "i=0\n",
        "\n",
        "plt.grid(False)\n",
        "plt.imshow(imagen_prueba,cmap=plt.cm.binary)\n",
        "plt.xlabel(\"Prediccion: {}\".format(numeros_letras[valor_prediccion]), color=\"green\")\n",
        "print(valor_prediccion)"
      ]
    },
    {
      "cell_type": "code",
      "execution_count": null,
      "metadata": {
        "colab": {
          "base_uri": "https://localhost:8080/",
          "height": 296
        },
        "id": "kGnGNZ_BBWxO",
        "outputId": "099e1be2-9752-49ff-acec-34f918871a3a"
      },
      "outputs": [
        {
          "output_type": "stream",
          "name": "stdout",
          "text": [
            "8\n"
          ]
        },
        {
          "output_type": "display_data",
          "data": {
            "text/plain": [
              "<Figure size 432x288 with 1 Axes>"
            ],
            "image/png": "[encoded data removed]"
          },
          "metadata": {
            "needs_background": "light"
          }
        }
      ],
      "source": [
        "#predicion numero 6\n",
        "import cv2\n",
        "#para agregar una imagen cambie el nombre del archivo png que desee predecir\n",
        "imagen_prueba = cv2.imread(\"cartera.png\",cv2.IMREAD_GRAYSCALE)\n",
        "imagen_prueba = cv2.resize(imagen_prueba,(28,28))\n",
        "img_predic = modelo.predict(imagen_prueba.reshape(1,28,28,1))\n",
        "valor_prediccion = np.argmax(img_predic)\n",
        "\n",
        "i=0\n",
        "\n",
        "plt.grid(False)\n",
        "plt.imshow(imagen_prueba,cmap=plt.cm.binary)\n",
        "plt.xlabel(\"Prediccion: {}\".format(numeros_letras[valor_prediccion]), color=\"green\")\n",
        "print(valor_prediccion)"
      ]
    },
    {
      "cell_type": "code",
      "execution_count": null,
      "metadata": {
        "colab": {
          "base_uri": "https://localhost:8080/",
          "height": 296
        },
        "id": "kbEZV3ifBaPf",
        "outputId": "886bab22-2e5b-46a7-cf25-27520ca7d806"
      },
      "outputs": [
        {
          "output_type": "stream",
          "name": "stdout",
          "text": [
            "1\n"
          ]
        },
        {
          "output_type": "display_data",
          "data": {
            "text/plain": [
              "<Figure size 432x288 with 1 Axes>"
            ],
            "image/png": "[encoded data removed]"
          },
          "metadata": {
            "needs_background": "light"
          }
        }
      ],
      "source": [
        "#predicion numero 7\n",
        "import cv2\n",
        "#para agregar una imagen cambie el nombre del archivo png que desee predecir\n",
        "imagen_prueba = cv2.imread(\"pantalon.png\",cv2.IMREAD_GRAYSCALE)\n",
        "imagen_prueba = cv2.resize(imagen_prueba,(28,28))\n",
        "img_predic = modelo.predict(imagen_prueba.reshape(1,28,28,1))\n",
        "valor_prediccion = np.argmax(img_predic)\n",
        "\n",
        "i=0\n",
        "\n",
        "plt.grid(False)\n",
        "plt.imshow(imagen_prueba,cmap=plt.cm.binary)\n",
        "plt.xlabel(\"Prediccion: {}\".format(numeros_letras[valor_prediccion]), color=\"green\")\n",
        "print(valor_prediccion)"
      ]
    },
    {
      "cell_type": "code",
      "execution_count": null,
      "metadata": {
        "colab": {
          "base_uri": "https://localhost:8080/",
          "height": 297
        },
        "id": "v6AZYjJWBe22",
        "outputId": "1a593b4b-3452-4b4e-8f10-f7596dcbc6e9"
      },
      "outputs": [
        {
          "output_type": "stream",
          "name": "stdout",
          "text": [
            "2\n"
          ]
        },
        {
          "output_type": "display_data",
          "data": {
            "text/plain": [
              "<Figure size 432x288 with 1 Axes>"
            ],
            "image/png": "[encoded data removed]"
          },
          "metadata": {
            "needs_background": "light"
          }
        }
      ],
      "source": [
        "#predicion numero 8\n",
        "import cv2\n",
        "#para agregar una imagen cambie el nombre del archivo png que desee predecir\n",
        "imagen_prueba = cv2.imread(\"sueter.png\",cv2.IMREAD_GRAYSCALE)\n",
        "imagen_prueba = cv2.resize(imagen_prueba,(28,28))\n",
        "img_predic = modelo.predict(imagen_prueba.reshape(1,28,28,1))\n",
        "valor_prediccion = np.argmax(img_predic)\n",
        "\n",
        "i=0\n",
        "\n",
        "plt.grid(False)\n",
        "plt.imshow(imagen_prueba,cmap=plt.cm.binary)\n",
        "plt.xlabel(\"Prediccion: {}\".format(numeros_letras[valor_prediccion]), color=\"green\")\n",
        "print(valor_prediccion)"
      ]
    },
    {
      "cell_type": "code",
      "execution_count": null,
      "metadata": {
        "colab": {
          "base_uri": "https://localhost:8080/",
          "height": 296
        },
        "id": "Kffc2JGbBiz-",
        "outputId": "e4cdd787-e41b-410e-bcb4-82aae179855f"
      },
      "outputs": [
        {
          "output_type": "stream",
          "name": "stdout",
          "text": [
            "5\n"
          ]
        },
        {
          "output_type": "display_data",
          "data": {
            "text/plain": [
              "<Figure size 432x288 with 1 Axes>"
            ],
            "image/png": "[encoded data removed]"
          },
          "metadata": {
            "needs_background": "light"
          }
        }
      ],
      "source": [
        "#predicion numero 9\n",
        "import cv2\n",
        "#para agregar una imagen cambie el nombre del archivo png que desee predecir\n",
        "imagen_prueba = cv2.imread(\"sandalia.png\",cv2.IMREAD_GRAYSCALE)\n",
        "imagen_prueba = cv2.resize(imagen_prueba,(28,28))\n",
        "img_predic = modelo.predict(imagen_prueba.reshape(1,28,28,1))\n",
        "valor_prediccion = np.argmax(img_predic)\n",
        "\n",
        "i=0\n",
        "\n",
        "plt.grid(False)\n",
        "plt.imshow(imagen_prueba,cmap=plt.cm.binary)\n",
        "plt.xlabel(\"Prediccion: {}\".format(numeros_letras[valor_prediccion]), color=\"green\")\n",
        "print(valor_prediccion)"
      ]
    },
    {
      "cell_type": "code",
      "execution_count": null,
      "metadata": {
        "colab": {
          "base_uri": "https://localhost:8080/",
          "height": 296
        },
        "id": "Z3znPjG7Bjz2",
        "outputId": "be9f84a0-ecd8-4979-afc6-0828dd786fcc"
      },
      "outputs": [
        {
          "output_type": "stream",
          "name": "stdout",
          "text": [
            "3\n"
          ]
        },
        {
          "output_type": "display_data",
          "data": {
            "text/plain": [
              "<Figure size 432x288 with 1 Axes>"
            ],
            "image/png": "[encoded data removed]"
          },
          "metadata": {
            "needs_background": "light"
          }
        }
      ],
      "source": [
        "#predicion numero 10\n",
        "import cv2\n",
        "#para agregar una imagen cambie el nombre del archivo png que desee predecir\n",
        "imagen_prueba = cv2.imread(\"vestido.png\",cv2.IMREAD_GRAYSCALE)\n",
        "imagen_prueba = cv2.resize(imagen_prueba,(28,28))\n",
        "img_predic = modelo.predict(imagen_prueba.reshape(1,28,28,1))\n",
        "valor_prediccion = np.argmax(img_predic)\n",
        "\n",
        "i=0\n",
        "\n",
        "plt.grid(False)\n",
        "plt.imshow(imagen_prueba,cmap=plt.cm.binary)\n",
        "plt.xlabel(\"Prediccion: {}\".format(numeros_letras[valor_prediccion]), color=\"green\")\n",
        "print(valor_prediccion)"
      ]
    }
  ],
  "metadata": {
    "colab": {
      "collapsed_sections": [],
      "provenance": [],
      "include_colab_link": true
    },
    "kernelspec": {
      "display_name": "Python 3",
      "name": "python3"
    },
    "language_info": {
      "name": "python"
    }
  },
  "nbformat": 4,
  "nbformat_minor": 0
}