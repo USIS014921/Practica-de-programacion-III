{
  "cells": [
    {
      "cell_type": "markdown",
      "metadata": {
        "id": "view-in-github",
        "colab_type": "text"
      },
      "source": [
        "<a href=\"https://colab.research.google.com/github/USIS014921/Practica-de-programacion-III/blob/main/Parcial%20I%20Programacion.ipynb\" target=\"_parent\"><img src=\"https://colab.research.google.com/assets/colab-badge.svg\" alt=\"Open In Colab\"/></a>"
      ]
    },
    {
      "cell_type": "code",
      "source": [
        "medida = int(input(\"***MENU***\\n\"\n",
        "                   \"1. Pies^2 a Metros^2 \\n\"\n",
        "                   \"2. Metros^ a Hectareas \\n\"\n",
        "                   \"3. Metros^2 a Pies^2 \\n\"\n",
        "                   \"4. Yardas^2 a Pies^2 \\n\"\n",
        "                   \"5. Hectareas a Yardas^2 \"\n",
        "                   \"Ingrese al opcion que desea\"))"
      ],
      "metadata": {
        "id": "3XadmVrobFmA"
      },
      "execution_count": null,
      "outputs": []
    }
  ],
  "metadata": {
    "colab": {
      "collapsed_sections": [],
      "name": "Te damos la bienvenida a Colaboratory",
      "provenance": [],
      "include_colab_link": true
    },
    "kernelspec": {
      "display_name": "Python 3",
      "name": "python3"
    }
  },
  "nbformat": 4,
  "nbformat_minor": 0
}