{
  "cells": [
    {
      "cell_type": "markdown",
      "metadata": {
        "id": "view-in-github",
        "colab_type": "text"
      },
      "source": [
        "<a href=\"https://colab.research.google.com/github/USIS014921/Practica-de-programacion-III/blob/main/Parcial%20I%20Programacion.ipynb\" target=\"_parent\"><img src=\"https://colab.research.google.com/assets/colab-badge.svg\" alt=\"Open In Colab\"/></a>"
      ]
    },
    {
      "cell_type": "code",
      "source": [
        "def pies2_metros2 ():\n",
        "  pies2 = int(input(\"Ingrese la cantidad de pies cuadrados a convertir\"))\n",
        "  metros2 = pies2 / 10.764\n",
        "  print (pies2,\"Pies^2 equivalen a \",metros2,\"metros^2.\")\n",
        "\n",
        "def metros2_hectareas ():\n",
        "  metros2 = int(input(\"Ingrese la cantidad de metros cuadrados a convertir\"))\n",
        "  hectareas = metros2 / 10000\n",
        "  print (metros2,\"metros^2 equivalen a \",hectareas,\"hectareas.\")\n",
        "\n",
        "def metros2_pies2 ():\n",
        "  metros2 = int(input(\"Ingrese la cantidad de metros cuadrados a convertir\"))\n",
        "  pies2 = metros2 * 10.764\n",
        "  print (metros2,\"metros^2 equivalen a \",pies2,\"pies^2.\")\n",
        "\n",
        "def yardas2_pies2 ():\n",
        "  yardas2 = int(input(\"Ingrese la cantidad de yardas cuadradas a convertir\"))\n",
        "  pies2 = yardas2 * 9\n",
        "  print (yardas2,\"yardas^2 equivalen a \",pies2,\"pies^2.\")\n",
        "\n",
        "def hectareas_yardas2 ():\n",
        "  hectareas = int(input(\"Ingrese la cantidad de hectareas a convertir\"))\n",
        "  yardas2 = hectareas * 11960\n",
        "  print (hectareas,\"hectareas equivalen a \",yardas2,\"yardas2.\")\n",
        "\n",
        "def manzanas_varas2 ():\n",
        "  manzanas = int(input(\"Ingrese la cantidad de manzanas a convertir\"))\n",
        "  varas2 = manzanas * 0.84\n",
        "  print (manzanas,\"manzanas equivalen a \",varas2,\"varas2.\")\n",
        "\n",
        "\n",
        "def medidas_de_area(): \n",
        "  print (\"\\nELIJA LA CONVERSION\\n\")\n",
        "\n",
        "  conversion = int(input( \"1. Pies^2 a Metros^2 \\n\"\n",
        "                          \"2. Metros^2 a Hectareas \\n\"\n",
        "                          \"3. Metros^2 a Pies^2 \\n\"\n",
        "                          \"4. Yardas^2 a Pies^2 \\n\"\n",
        "                          \"5. Hectareas a Yardas^2 \\n\"\n",
        "                          \"6. Manzanas a Varas^2 \\n\"\n",
        "                          \"Ingrese al opcion que desea \\n\"))\n",
        "\n",
        "opcion_conversion = {1: pies2_metros2, 2: metros2_hectareas, 3: metros2_pies2, 4: yardas2_pies2, 5:hectareas_yardas2, 6:manzanas_varas2,}\n",
        "\n",
        "try:\n",
        "  opcion_conversion = [conversion]()\n",
        "except:\n",
        "  print(\"No ha elegido una opcion valida. \")\n",
        "        \n",
        "  \n",
        "medida = int(input(\"***MENU***\\n\\n\"\n",
        "                   \"1. MEDIDAS DE AREA\\n\\n\"\n",
        "                   \"Ingrese la opcion que desea \\n\\n\"))\n",
        "\n",
        "opcion_medida = {1: medidas_de_area,}\n",
        "\n",
        "try:\n",
        "  opcion_medida [medida]()\n",
        "except:\n",
        "  print(\"No ha elegido una opcion valida. \")\n"
      ],
      "metadata": {
        "id": "3XadmVrobFmA",
        "colab": {
          "base_uri": "https://localhost:8080/"
        },
        "outputId": "112816a5-d005-4663-dbb3-d277ba3e01a0"
      },
      "execution_count": 19,
      "outputs": [
        {
          "name": "stdout",
          "output_type": "stream",
          "text": [
            "No ha elegido una opcion valida. \n",
            "***MENU***\n",
            "\n",
            "1. MEDIDAS DE AREA\n",
            "\n",
            "Ingrese la opcion que desea \n",
            "\n",
            "1\n",
            "\n",
            "ELIJA LA CONVERSION\n",
            "\n",
            "1. Pies^2 a Metros^2 \n",
            "2. Metros^2 a Hectareas \n",
            "3. Metros^2 a Pies^2 \n",
            "4. Yardas^2 a Pies^2 \n",
            "5. Hectareas a Yardas^2 \n",
            "6. Manzanas a Varas^2 \n",
            "Ingrese al opcion que desea \n",
            "1\n"
          ]
        }
      ]
    }
  ],
  "metadata": {
    "colab": {
      "collapsed_sections": [],
      "name": "Te damos la bienvenida a Colaboratory",
      "provenance": [],
      "include_colab_link": true
    },
    "kernelspec": {
      "display_name": "Python 3",
      "name": "python3"
    }
  },
  "nbformat": 4,
  "nbformat_minor": 0
}