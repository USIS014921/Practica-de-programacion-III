{
  "cells": [
    {
      "cell_type": "markdown",
      "metadata": {
        "id": "view-in-github",
        "colab_type": "text"
      },
      "source": [
        "<a href=\"https://colab.research.google.com/github/USIS014921/Practica-de-programacion-III/blob/main/Parcial%20I%20Programacion.ipynb\" target=\"_parent\"><img src=\"https://colab.research.google.com/assets/colab-badge.svg\" alt=\"Open In Colab\"/></a>"
      ]
    },
    {
      "cell_type": "code",
      "source": [
        "def medidas_de_longitud():\n",
        "  print (\"\")\n",
        "\n",
        "\n",
        "medida = int(input(\"***MENU***\\n\"\n",
        "                   \"1. Pies^2 a Metros^2 \\n\"\n",
        "                   \"2. Metros^ a Hectareas \\n\"\n",
        "                   \"3. Metros^2 a Pies^2 \\n\"\n",
        "                   \"4. Yardas^2 a Pies^2 \\n\"\n",
        "                   \"5. Hectareas a Yardas^2 \\n\"\n",
        "                   \"6. Manzanas a Varas^2 \\n\"\n",
        "                   \"Ingrese al opcion que desea\"))\n",
        "\n",
        "opcion_medida = {1. Pies^2 a Metros^2, 2. Metros^ a Hectareas, 3. Metros^2 a Pies^2 ,4. Yardas^2 a Pies^2, 5. Hectareas a Yardas^2, 6. Manzanas a Varas^2}\n",
        "\n",
        "try:\n",
        "  opcion_medida [medida]()\n",
        "except:\n",
        "  print(\"No ha elegido una opcion valida. \")"
      ],
      "metadata": {
        "id": "3XadmVrobFmA"
      },
      "execution_count": null,
      "outputs": []
    }
  ],
  "metadata": {
    "colab": {
      "collapsed_sections": [],
      "name": "Te damos la bienvenida a Colaboratory",
      "provenance": [],
      "include_colab_link": true
    },
    "kernelspec": {
      "display_name": "Python 3",
      "name": "python3"
    }
  },
  "nbformat": 4,
  "nbformat_minor": 0
}