{
  "cells": [
    {
      "cell_type": "markdown",
      "metadata": {
        "id": "view-in-github",
        "colab_type": "text"
      },
      "source": [
        "<a href=\"https://colab.research.google.com/github/USIS014921/Practica-de-programacion-III/blob/main/Practica1.ipynb\" target=\"_parent\"><img src=\"https://colab.research.google.com/assets/colab-badge.svg\" alt=\"Open In Colab\"/></a>"
      ]
    },
    {
      "cell_type": "code",
      "source": [
        "F = 27"
      ],
      "metadata": {
        "id": "ojqzMXJ7mSlF"
      },
      "execution_count": null,
      "outputs": []
    },
    {
      "cell_type": "code",
      "source": [
        "def convertirFaC(F):\n",
        " return (F - 32) * 0.55555 "
      ],
      "metadata": {
        "id": "TZS6SC5xm60d"
      },
      "execution_count": null,
      "outputs": []
    },
    {
      "cell_type": "code",
      "source": [
        "print(\"Farenheit a C: \", convertirFaC(F))"
      ],
      "metadata": {
        "colab": {
          "base_uri": "https://localhost:8080/"
        },
        "id": "jbNH_A1Cohwf",
        "outputId": "f5ad8bdb-3d55-4be6-e255-e98699b44c4f"
      },
      "execution_count": null,
      "outputs": [
        {
          "output_type": "stream",
          "name": "stdout",
          "text": [
            "Farenheit a C:  -2.77775\n"
          ]
        }
      ]
    },
    {
      "cell_type": "code",
      "source": [
        "gradosCiudades = [27,30,32,35,40,45]"
      ],
      "metadata": {
        "id": "yqgQTzO8qBnL"
      },
      "execution_count": null,
      "outputs": []
    },
    {
      "cell_type": "code",
      "source": [
        "print(gradosCiudades,\"respuesta: \",list(map(convertirFaC,gradosCiudades)))"
      ],
      "metadata": {
        "colab": {
          "base_uri": "https://localhost:8080/"
        },
        "id": "myNRJ0OcqiQL",
        "outputId": "b97b6f4b-2f04-42aa-98e4-a4f5651322c8"
      },
      "execution_count": null,
      "outputs": [
        {
          "output_type": "stream",
          "name": "stdout",
          "text": [
            "[27, 30, 32, 35, 40, 45] respuesta:  [-2.77775, -1.1111, 0.0, 1.66665, 4.4444, 7.22215]\n"
          ]
        }
      ]
    },
    {
      "cell_type": "code",
      "source": [
        "C = 30"
      ],
      "metadata": {
        "id": "hcNyo-ebup5m"
      },
      "execution_count": null,
      "outputs": []
    },
    {
      "cell_type": "code",
      "source": [
        "def convertirCaF(C):\n",
        " return (C * 9/5) + 32"
      ],
      "metadata": {
        "id": "c3g1kcbsuv1-"
      },
      "execution_count": null,
      "outputs": []
    },
    {
      "cell_type": "code",
      "source": [
        "print(\"Celsius a F: \", convertirCaF(C))"
      ],
      "metadata": {
        "colab": {
          "base_uri": "https://localhost:8080/"
        },
        "id": "pOIN-dWTu_pX",
        "outputId": "a594a620-a5c5-42a0-afb4-cb7193588103"
      },
      "execution_count": null,
      "outputs": [
        {
          "output_type": "stream",
          "name": "stdout",
          "text": [
            "Celsius a F:  86.0\n"
          ]
        }
      ]
    },
    {
      "cell_type": "code",
      "source": [
        "gradosCiudades = [-2.77775, -1.1111, 0.0, 1.66665, 4.4444, 7.22215]"
      ],
      "metadata": {
        "id": "6Gq1E8TYvH8m"
      },
      "execution_count": null,
      "outputs": []
    },
    {
      "cell_type": "code",
      "source": [
        "print(gradosCiudades,\"respuesta: \",list(map(convertirCaF,gradosCiudades)))"
      ],
      "metadata": {
        "colab": {
          "base_uri": "https://localhost:8080/"
        },
        "id": "uGrSgkxjvRtR",
        "outputId": "e1a8793e-1549-4624-d9af-f0a0e7fb726f"
      },
      "execution_count": null,
      "outputs": [
        {
          "output_type": "stream",
          "name": "stdout",
          "text": [
            "[-2.77775, -1.1111, 0.0, 1.66665, 4.4444, 7.22215] respuesta:  [27.00005, 30.00002, 32.0, 34.99997, 39.99992, 44.99987]\n"
          ]
        }
      ]
    },
    {
      "cell_type": "code",
      "source": [
        "gradosCel= lambda c : c *  9/5 + 32\n",
        "grados=float(input(\"Ingrese un numero: \"))\n",
        "print(\"grados: \", gradosCel(grados))"
      ],
      "metadata": {
        "colab": {
          "base_uri": "https://localhost:8080/"
        },
        "id": "2DWXITyixTUI",
        "outputId": "24a2d19b-8d69-47e0-e5df-e421110a5933"
      },
      "execution_count": null,
      "outputs": [
        {
          "output_type": "stream",
          "name": "stdout",
          "text": [
            "Ingrese un numero: 40\n",
            "grados:  104.0\n"
          ]
        }
      ]
    },
    {
      "cell_type": "code",
      "source": [
        "#Celsius a Kelvin\n",
        "gradosC = lambda c : c + 273.15\n",
        "Celsius = float(input(\"Ingrese un grados Celsius: \"))\n",
        "print(\"Grados En Kelvin: \", gradosC(Celsius))"
      ],
      "metadata": {
        "colab": {
          "base_uri": "https://localhost:8080/"
        },
        "id": "gSeAUY57OU6I",
        "outputId": "29606531-94fa-4522-98e5-dad0e998a942"
      },
      "execution_count": 6,
      "outputs": [
        {
          "output_type": "stream",
          "name": "stdout",
          "text": [
            "Ingrese un grados Celsius: 45\n",
            "Grados En Kelvin:  318.15\n"
          ]
        }
      ]
    },
    {
      "cell_type": "code",
      "source": [
        "#kelvin a Celsius\n",
        "gradosK = lambda c : c - 273.15\n",
        "kelvin = float(input(\"Ingrese un grados Kelvin: \")) \n",
        "print(\"Grados En Celsius: \", gradosK(kelvin))"
      ],
      "metadata": {
        "colab": {
          "base_uri": "https://localhost:8080/"
        },
        "id": "5UW-Gfa8O_X_",
        "outputId": "df1e694c-0e82-4db0-9223-a07f5bc32eaf"
      },
      "execution_count": 7,
      "outputs": [
        {
          "output_type": "stream",
          "name": "stdout",
          "text": [
            "Ingrese un grados Kelvin: 45\n",
            "Grados En Celsius:  -228.14999999999998\n"
          ]
        }
      ]
    },
    {
      "cell_type": "code",
      "source": [
        "#Notas\n",
        "\n",
        "lambda calcularNota(lab1,lab2,parcial): (lab1 * 0.3) + (lab2 * 0.3) + (parcial * 0.4)\n",
        "lab1 = float(input(\"Ingrese su nota de laboratorio 1: \"))\n",
        "lab2 = float(input(\"Ingrese su nota de laboratorio 2: \"))\n",
        "parcial = float(input(\"Ingrese su nota de Parcial: \"))\n",
        "\n",
        "notaFinal = calcularNota(lab1,lab2,parcial)\n",
        "\n",
        "print(\"Su nota final es: \",notaFinal)\n"
      ],
      "metadata": {
        "colab": {
          "base_uri": "https://localhost:8080/",
          "height": 358
        },
        "id": "TChuK6J4Q8QX",
        "outputId": "76cdea02-9cf6-417b-d8b6-95c28cc2e0e9"
      },
      "execution_count": 26,
      "outputs": [
        {
          "output_type": "error",
          "ename": "NameError",
          "evalue": "ignored",
          "traceback": [
            "\u001b[0;31m---------------------------------------------------------------------------\u001b[0m",
            "\u001b[0;31mNameError\u001b[0m                                 Traceback (most recent call last)",
            "\u001b[0;32m<ipython-input-26-78173db00ada>\u001b[0m in \u001b[0;36m<module>\u001b[0;34m\u001b[0m\n\u001b[1;32m      2\u001b[0m \u001b[0mNotas\u001b[0m \u001b[0;34m=\u001b[0m \u001b[0;32mlambda\u001b[0m \u001b[0mnota\u001b[0m\u001b[0;34m:\u001b[0m\u001b[0;34m(\u001b[0m\u001b[0mlab1\u001b[0m \u001b[0;34m*\u001b[0m \u001b[0;36m0.3\u001b[0m\u001b[0;34m,\u001b[0m\u001b[0mlab2\u001b[0m \u001b[0;34m*\u001b[0m \u001b[0;36m0.3\u001b[0m\u001b[0;34m,\u001b[0m\u001b[0mParcial\u001b[0m \u001b[0;34m*\u001b[0m \u001b[0;36m0.4\u001b[0m\u001b[0;34m)\u001b[0m\u001b[0;34m\u001b[0m\u001b[0;34m\u001b[0m\u001b[0m\n\u001b[1;32m      3\u001b[0m \u001b[0;34m\u001b[0m\u001b[0m\n\u001b[0;32m----> 4\u001b[0;31m \u001b[0mlab1\u001b[0m \u001b[0;34m=\u001b[0m \u001b[0mNotas\u001b[0m\u001b[0;34m(\u001b[0m\u001b[0;36m8\u001b[0m\u001b[0;34m)\u001b[0m\u001b[0;34m\u001b[0m\u001b[0;34m\u001b[0m\u001b[0m\n\u001b[0m\u001b[1;32m      5\u001b[0m \u001b[0mlab2\u001b[0m \u001b[0;34m=\u001b[0m \u001b[0mNotas\u001b[0m\u001b[0;34m(\u001b[0m\u001b[0;36m7\u001b[0m\u001b[0;34m)\u001b[0m\u001b[0;34m\u001b[0m\u001b[0;34m\u001b[0m\u001b[0m\n\u001b[1;32m      6\u001b[0m \u001b[0mParcial\u001b[0m \u001b[0;34m=\u001b[0m \u001b[0mNotas\u001b[0m\u001b[0;34m(\u001b[0m\u001b[0;36m10\u001b[0m\u001b[0;34m)\u001b[0m\u001b[0;34m\u001b[0m\u001b[0;34m\u001b[0m\u001b[0m\n",
            "\u001b[0;32m<ipython-input-26-78173db00ada>\u001b[0m in \u001b[0;36m<lambda>\u001b[0;34m(nota)\u001b[0m\n\u001b[1;32m      1\u001b[0m \u001b[0;31m#Notas\u001b[0m\u001b[0;34m\u001b[0m\u001b[0;34m\u001b[0m\u001b[0;34m\u001b[0m\u001b[0m\n\u001b[0;32m----> 2\u001b[0;31m \u001b[0mNotas\u001b[0m \u001b[0;34m=\u001b[0m \u001b[0;32mlambda\u001b[0m \u001b[0mnota\u001b[0m\u001b[0;34m:\u001b[0m\u001b[0;34m(\u001b[0m\u001b[0mlab1\u001b[0m \u001b[0;34m*\u001b[0m \u001b[0;36m0.3\u001b[0m\u001b[0;34m,\u001b[0m\u001b[0mlab2\u001b[0m \u001b[0;34m*\u001b[0m \u001b[0;36m0.3\u001b[0m\u001b[0;34m,\u001b[0m\u001b[0mParcial\u001b[0m \u001b[0;34m*\u001b[0m \u001b[0;36m0.4\u001b[0m\u001b[0;34m)\u001b[0m\u001b[0;34m\u001b[0m\u001b[0;34m\u001b[0m\u001b[0m\n\u001b[0m\u001b[1;32m      3\u001b[0m \u001b[0;34m\u001b[0m\u001b[0m\n\u001b[1;32m      4\u001b[0m \u001b[0mlab1\u001b[0m \u001b[0;34m=\u001b[0m \u001b[0mNotas\u001b[0m\u001b[0;34m(\u001b[0m\u001b[0;36m8\u001b[0m\u001b[0;34m)\u001b[0m\u001b[0;34m\u001b[0m\u001b[0;34m\u001b[0m\u001b[0m\n\u001b[1;32m      5\u001b[0m \u001b[0mlab2\u001b[0m \u001b[0;34m=\u001b[0m \u001b[0mNotas\u001b[0m\u001b[0;34m(\u001b[0m\u001b[0;36m7\u001b[0m\u001b[0;34m)\u001b[0m\u001b[0;34m\u001b[0m\u001b[0;34m\u001b[0m\u001b[0m\n",
            "\u001b[0;31mNameError\u001b[0m: name 'Parcial' is not defined"
          ]
        }
      ]
    },
    {
      "cell_type": "code",
      "source": [
        "#lambda nota: (lab1 * 0.3) + (lab2 * 0.3) + (parcial * 0.4)\n",
        "def calcularNota(lab1,lab2,parcial):\n",
        "  return (lab1 * 0.3) + (lab2 * 0.3) + (parcial * 0.4)\n",
        "\n",
        "lab1 = float(input(\"Ingrese su nota de laboratorio 1: \"))\n",
        "lab2 = float(input(\"Ingrese su nota de laboratorio 2: \"))\n",
        "parcial = float(input(\"Ingrese su nota de Parcial: \"))\n",
        "\n",
        "notaFinal = calcularNota(lab1,lab2,parcial)\n",
        "\n",
        "print(\"Su nota final es: \",notaFinal)"
      ],
      "metadata": {
        "id": "gd2Z8Ylufg64"
      },
      "execution_count": null,
      "outputs": []
    }
  ],
  "metadata": {
    "colab": {
      "collapsed_sections": [],
      "name": "Te damos la bienvenida a Colaboratory",
      "provenance": [],
      "include_colab_link": true
    },
    "kernelspec": {
      "display_name": "Python 3",
      "name": "python3"
    },
    "gpuClass": "standard"
  },
  "nbformat": 4,
  "nbformat_minor": 0
}