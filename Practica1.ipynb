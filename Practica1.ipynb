{
  "cells": [
    {
      "cell_type": "markdown",
      "metadata": {
        "id": "view-in-github",
        "colab_type": "text"
      },
      "source": [
        "<a href=\"https://colab.research.google.com/github/USIS014921/Practica-de-programacion-III/blob/main/Practica1.ipynb\" target=\"_parent\"><img src=\"https://colab.research.google.com/assets/colab-badge.svg\" alt=\"Open In Colab\"/></a>"
      ]
    },
    {
      "cell_type": "code",
      "source": [
        "F = 27"
      ],
      "metadata": {
        "id": "ojqzMXJ7mSlF"
      },
      "execution_count": null,
      "outputs": []
    },
    {
      "cell_type": "code",
      "source": [
        "def convertirFaC(F):\n",
        " return (F - 32) * 0.55555 "
      ],
      "metadata": {
        "id": "TZS6SC5xm60d"
      },
      "execution_count": null,
      "outputs": []
    },
    {
      "cell_type": "code",
      "source": [
        "print(\"Farenheit a C: \", convertirFaC(F))"
      ],
      "metadata": {
        "colab": {
          "base_uri": "https://localhost:8080/"
        },
        "id": "jbNH_A1Cohwf",
        "outputId": "f5ad8bdb-3d55-4be6-e255-e98699b44c4f"
      },
      "execution_count": null,
      "outputs": [
        {
          "output_type": "stream",
          "name": "stdout",
          "text": [
            "Farenheit a C:  -2.77775\n"
          ]
        }
      ]
    },
    {
      "cell_type": "code",
      "source": [
        "gradosCiudades = [27,30,32,35,40,45]"
      ],
      "metadata": {
        "id": "yqgQTzO8qBnL"
      },
      "execution_count": null,
      "outputs": []
    },
    {
      "cell_type": "code",
      "source": [
        "print(gradosCiudades,\"respuesta: \",list(map(convertirFaC,gradosCiudades)))"
      ],
      "metadata": {
        "colab": {
          "base_uri": "https://localhost:8080/"
        },
        "id": "myNRJ0OcqiQL",
        "outputId": "b97b6f4b-2f04-42aa-98e4-a4f5651322c8"
      },
      "execution_count": null,
      "outputs": [
        {
          "output_type": "stream",
          "name": "stdout",
          "text": [
            "[27, 30, 32, 35, 40, 45] respuesta:  [-2.77775, -1.1111, 0.0, 1.66665, 4.4444, 7.22215]\n"
          ]
        }
      ]
    },
    {
      "cell_type": "code",
      "source": [
        "C = 30"
      ],
      "metadata": {
        "id": "hcNyo-ebup5m"
      },
      "execution_count": null,
      "outputs": []
    },
    {
      "cell_type": "code",
      "source": [
        "def convertirCaF(C):\n",
        " return (C * 9/5) + 32"
      ],
      "metadata": {
        "id": "c3g1kcbsuv1-"
      },
      "execution_count": null,
      "outputs": []
    },
    {
      "cell_type": "code",
      "source": [
        "print(\"Celsius a F: \", convertirCaF(C))"
      ],
      "metadata": {
        "colab": {
          "base_uri": "https://localhost:8080/"
        },
        "id": "pOIN-dWTu_pX",
        "outputId": "a594a620-a5c5-42a0-afb4-cb7193588103"
      },
      "execution_count": null,
      "outputs": [
        {
          "output_type": "stream",
          "name": "stdout",
          "text": [
            "Celsius a F:  86.0\n"
          ]
        }
      ]
    },
    {
      "cell_type": "code",
      "source": [
        "gradosCiudades = [-2.77775, -1.1111, 0.0, 1.66665, 4.4444, 7.22215]"
      ],
      "metadata": {
        "id": "6Gq1E8TYvH8m"
      },
      "execution_count": null,
      "outputs": []
    },
    {
      "cell_type": "code",
      "source": [
        "print(gradosCiudades,\"respuesta: \",list(map(convertirCaF,gradosCiudades)))"
      ],
      "metadata": {
        "colab": {
          "base_uri": "https://localhost:8080/"
        },
        "id": "uGrSgkxjvRtR",
        "outputId": "e1a8793e-1549-4624-d9af-f0a0e7fb726f"
      },
      "execution_count": null,
      "outputs": [
        {
          "output_type": "stream",
          "name": "stdout",
          "text": [
            "[-2.77775, -1.1111, 0.0, 1.66665, 4.4444, 7.22215] respuesta:  [27.00005, 30.00002, 32.0, 34.99997, 39.99992, 44.99987]\n"
          ]
        }
      ]
    },
    {
      "cell_type": "code",
      "source": [
        "gradosCel= lambda c : c *  9/5 + 32\n",
        "grados=float(input(\"Ingrese un numero: \"))\n",
        "print(\"grados: \", gradosCel(grados))"
      ],
      "metadata": {
        "colab": {
          "base_uri": "https://localhost:8080/"
        },
        "id": "2DWXITyixTUI",
        "outputId": "24a2d19b-8d69-47e0-e5df-e421110a5933"
      },
      "execution_count": null,
      "outputs": [
        {
          "output_type": "stream",
          "name": "stdout",
          "text": [
            "Ingrese un numero: 40\n",
            "grados:  104.0\n"
          ]
        }
      ]
    },
    {
      "cell_type": "code",
      "source": [
        "#Celsius a Kelvin Lambda\n",
        "gradosC = lambda c : c + 273.15\n",
        "Celsius = float(input(\"Ingrese un grados Celsius: \"))\n",
        "print(\"Grados En Kelvin: \", gradosC(Celsius))"
      ],
      "metadata": {
        "colab": {
          "base_uri": "https://localhost:8080/"
        },
        "id": "gSeAUY57OU6I",
        "outputId": "68c24479-015e-44f1-b653-7507f40fb68b"
      },
      "execution_count": null,
      "outputs": [
        {
          "output_type": "stream",
          "name": "stdout",
          "text": [
            "Ingrese un grados Celsius: 45\n",
            "Grados En Kelvin:  318.15\n"
          ]
        }
      ]
    },
    {
      "cell_type": "code",
      "source": [
        "#Celsius a Kelvin Funciones de Usuario\n",
        "K = float(input(\"Ingrese un grados Celius: \"))\n",
        "def convertirCaK(K):\n",
        "  return K + 273.15\n",
        "\n",
        "print(\" Respuesta: \",convertirCaK(K))"
      ],
      "metadata": {
        "id": "Vim0M4_ef0jc",
        "outputId": "c603f699-d36e-46d9-ec28-1f67c1cc9c10",
        "colab": {
          "base_uri": "https://localhost:8080/"
        }
      },
      "execution_count": null,
      "outputs": [
        {
          "output_type": "stream",
          "name": "stdout",
          "text": [
            "Ingrese un grados Celius: 45\n",
            " Respuesta:  318.15\n"
          ]
        }
      ]
    },
    {
      "cell_type": "code",
      "source": [
        "#kelvin a Celsius Lambda\n",
        "gradosK = lambda c : c - 273.15\n",
        "kelvin = float(input(\"Ingrese un grados Kelvin: \")) \n",
        "print(\"Grados En Celsius: \", gradosK(kelvin))"
      ],
      "metadata": {
        "colab": {
          "base_uri": "https://localhost:8080/"
        },
        "id": "5UW-Gfa8O_X_",
        "outputId": "d72b207c-a55c-4bff-cb7f-a593d7f9833a"
      },
      "execution_count": null,
      "outputs": [
        {
          "output_type": "stream",
          "name": "stdout",
          "text": [
            "Ingrese un grados Kelvin: 45\n",
            "Grados En Celsius:  -228.14999999999998\n"
          ]
        }
      ]
    },
    {
      "cell_type": "code",
      "source": [
        "#kelvin a Celsius Funciones de Usuario\n",
        "C = float(input(\"Ingrese un grados Kelvin: \"))\n",
        "def convertirKaC(C):\n",
        "  return C - 273.15\n",
        "\n",
        "print(\" Respuesta: \",convertirKaC(C))"
      ],
      "metadata": {
        "id": "qOYaES54tjdt",
        "outputId": "5859d44d-e63e-4ea8-e7de-15b4ef9c7b34",
        "colab": {
          "base_uri": "https://localhost:8080/"
        }
      },
      "execution_count": null,
      "outputs": [
        {
          "output_type": "stream",
          "name": "stdout",
          "text": [
            "Ingrese un grados Kelvin: 45\n",
            " Respuesta:  -228.14999999999998\n"
          ]
        }
      ]
    },
    {
      "cell_type": "code",
      "source": [
        "calcularNotaC1 = lambda n1: (n1 * 0.3)"
      ],
      "metadata": {
        "id": "NAPyHW6l5BCR"
      },
      "execution_count": null,
      "outputs": []
    },
    {
      "cell_type": "code",
      "source": [
        "#calcularora de notas con lambda\n",
        "print(\"Ingrese la nota del Primer Computo: \")\n",
        "lab1C1 = float(input())\n",
        "lab2C1 = float(input())\n",
        "Parcial1 = float(input())\n",
        "print(\"Ingrese la nota del Segundo Computo: \")\n",
        "lab1C2 = float(input())\n",
        "lab2C2 = float(input())\n",
        "Parcial2 = float(input())\n",
        "print(\"Ingrese la nota del Tercer Computo: \")\n",
        "lab1C3 = float(input())\n",
        "lab2C3 = float(input())\n",
        "Parcial3 = float(input())\n",
        "\n",
        "notas = lambda a,b,c: ( a * 0.3 ) + ( b * 0.3 ) + ( c * 0.4 )\n",
        "\n",
        "comp1=notas(lab1C1,lab2C1,Parcial1)\n",
        "comp2=notas(lab1C2,lab2C2,Parcial2)\n",
        "comp3=notas(lab1C3,lab2C3,Parcial3)\n",
        "\n",
        "notaFinal = (comp1 + comp2 + comp3)/3\n",
        "\n",
        "print(\"Su nota Final es: \",notaFinal)"
      ],
      "metadata": {
        "id": "C1Iwab2n5Yzx",
        "outputId": "99758ba6-b043-4f83-c6e7-05318407d454",
        "colab": {
          "base_uri": "https://localhost:8080/"
        }
      },
      "execution_count": 6,
      "outputs": [
        {
          "output_type": "stream",
          "name": "stdout",
          "text": [
            "Ingrese la nota del Primer Computo: \n",
            "8\n",
            "8\n",
            "8\n",
            "Ingrese la nota del Segundo Computo: \n",
            "9\n",
            "10\n",
            "8\n",
            "Ingrese la nota del Tercer Computo: \n",
            "9\n",
            "8\n",
            "8\n",
            " Su nota Final es:  8.4\n"
          ]
        }
      ]
    },
    {
      "cell_type": "code",
      "source": [
        "#calcularora de notas con Funciones de usuario\n",
        "print(\"Ingrese la nota del Primer Computo: \")\n",
        "lab1C1 = float(input())\n",
        "lab2C1 = float(input())\n",
        "Parcial1 = float(input())\n",
        "print(\"Ingrese la nota del Segundo Computo: \")\n",
        "lab1C2 = float(input())\n",
        "lab2C2 = float(input())\n",
        "Parcial2 = float(input())\n",
        "print(\"Ingrese la nota del Tercer Computo: \")\n",
        "lab1C3 = float(input())\n",
        "lab2C3 = float(input())\n",
        "Parcial3 = float(input())\n",
        "\n",
        "def notas (a,b,c) : \n",
        "  return ( a * 0.3 ) + ( b * 0.3 ) + ( c * 0.4 )\n",
        "\n",
        "comp1=notas(lab1C1,lab2C1,Parcial1)\n",
        "comp2=notas(lab1C2,lab2C2,Parcial2)\n",
        "comp3=notas(lab1C3,lab2C3,Parcial3)\n",
        "\n",
        "notaFinal = (comp1 + comp2 + comp3)/3\n",
        "\n",
        "print(\"Su nota Final es: \",notaFinal)"
      ],
      "metadata": {
        "id": "LGld8zIT2EvM",
        "outputId": "a8a2b2c1-0e5e-499e-fc96-d2ba5666f2a2",
        "colab": {
          "base_uri": "https://localhost:8080/"
        }
      },
      "execution_count": 7,
      "outputs": [
        {
          "output_type": "stream",
          "name": "stdout",
          "text": [
            "Ingrese la nota del Primer Computo: \n",
            "8\n",
            "8\n",
            "8\n",
            "Ingrese la nota del Segundo Computo: \n",
            "9\n",
            "7\n",
            "9\n",
            "Ingrese la nota del Tercer Computo: \n",
            "10\n",
            "8\n",
            "9\n",
            "Su nota Final es:  8.466666666666667\n"
          ]
        }
      ]
    }
  ],
  "metadata": {
    "colab": {
      "collapsed_sections": [],
      "name": "Te damos la bienvenida a Colaboratory",
      "provenance": [],
      "include_colab_link": true
    },
    "kernelspec": {
      "display_name": "Python 3",
      "name": "python3"
    },
    "gpuClass": "standard"
  },
  "nbformat": 4,
  "nbformat_minor": 0
}