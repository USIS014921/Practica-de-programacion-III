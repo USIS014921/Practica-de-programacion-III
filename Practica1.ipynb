{
  "cells": [
    {
      "cell_type": "markdown",
      "metadata": {
        "id": "view-in-github",
        "colab_type": "text"
      },
      "source": [
        "<a href=\"https://colab.research.google.com/github/USIS014921/Practica-de-programacion-III/blob/main/Practica1.ipynb\" target=\"_parent\"><img src=\"https://colab.research.google.com/assets/colab-badge.svg\" alt=\"Open In Colab\"/></a>"
      ]
    },
    {
      "cell_type": "code",
      "source": [
        "F = 27"
      ],
      "metadata": {
        "id": "ojqzMXJ7mSlF"
      },
      "execution_count": null,
      "outputs": []
    },
    {
      "cell_type": "code",
      "source": [
        "def convertirFaC(F):\n",
        " return (F - 32) * 0.55555 "
      ],
      "metadata": {
        "id": "TZS6SC5xm60d"
      },
      "execution_count": null,
      "outputs": []
    },
    {
      "cell_type": "code",
      "source": [
        "print(\"Farenheit a C: \", convertirFaC(F))"
      ],
      "metadata": {
        "colab": {
          "base_uri": "https://localhost:8080/"
        },
        "id": "jbNH_A1Cohwf",
        "outputId": "f5ad8bdb-3d55-4be6-e255-e98699b44c4f"
      },
      "execution_count": null,
      "outputs": [
        {
          "output_type": "stream",
          "name": "stdout",
          "text": [
            "Farenheit a C:  -2.77775\n"
          ]
        }
      ]
    },
    {
      "cell_type": "code",
      "source": [
        "gradosCiudades = [27,30,32,35,40,45]"
      ],
      "metadata": {
        "id": "yqgQTzO8qBnL"
      },
      "execution_count": null,
      "outputs": []
    },
    {
      "cell_type": "code",
      "source": [
        "print(gradosCiudades,\"respuesta: \",list(map(convertirFaC,gradosCiudades)))"
      ],
      "metadata": {
        "colab": {
          "base_uri": "https://localhost:8080/"
        },
        "id": "myNRJ0OcqiQL",
        "outputId": "b97b6f4b-2f04-42aa-98e4-a4f5651322c8"
      },
      "execution_count": null,
      "outputs": [
        {
          "output_type": "stream",
          "name": "stdout",
          "text": [
            "[27, 30, 32, 35, 40, 45] respuesta:  [-2.77775, -1.1111, 0.0, 1.66665, 4.4444, 7.22215]\n"
          ]
        }
      ]
    },
    {
      "cell_type": "code",
      "source": [
        "C = 30"
      ],
      "metadata": {
        "id": "hcNyo-ebup5m"
      },
      "execution_count": null,
      "outputs": []
    },
    {
      "cell_type": "code",
      "source": [
        "def convertirCaF(C):\n",
        " return (C * 9/5) + 32"
      ],
      "metadata": {
        "id": "c3g1kcbsuv1-"
      },
      "execution_count": null,
      "outputs": []
    },
    {
      "cell_type": "code",
      "source": [
        "print(\"Celsius a F: \", convertirCaF(C))"
      ],
      "metadata": {
        "colab": {
          "base_uri": "https://localhost:8080/"
        },
        "id": "pOIN-dWTu_pX",
        "outputId": "a594a620-a5c5-42a0-afb4-cb7193588103"
      },
      "execution_count": null,
      "outputs": [
        {
          "output_type": "stream",
          "name": "stdout",
          "text": [
            "Celsius a F:  86.0\n"
          ]
        }
      ]
    },
    {
      "cell_type": "code",
      "source": [
        "gradosCiudades = [-2.77775, -1.1111, 0.0, 1.66665, 4.4444, 7.22215]"
      ],
      "metadata": {
        "id": "6Gq1E8TYvH8m"
      },
      "execution_count": null,
      "outputs": []
    },
    {
      "cell_type": "code",
      "source": [
        "print(gradosCiudades,\"respuesta: \",list(map(convertirCaF,gradosCiudades)))"
      ],
      "metadata": {
        "colab": {
          "base_uri": "https://localhost:8080/"
        },
        "id": "uGrSgkxjvRtR",
        "outputId": "e1a8793e-1549-4624-d9af-f0a0e7fb726f"
      },
      "execution_count": null,
      "outputs": [
        {
          "output_type": "stream",
          "name": "stdout",
          "text": [
            "[-2.77775, -1.1111, 0.0, 1.66665, 4.4444, 7.22215] respuesta:  [27.00005, 30.00002, 32.0, 34.99997, 39.99992, 44.99987]\n"
          ]
        }
      ]
    },
    {
      "cell_type": "code",
      "source": [
        "gradosCel= lambda c : c *  9/5 + 32\n",
        "grados=float(input(\"Ingrese un numero: \"))\n",
        "print(\"grados: \", gradosCel(grados))"
      ],
      "metadata": {
        "colab": {
          "base_uri": "https://localhost:8080/"
        },
        "id": "2DWXITyixTUI",
        "outputId": "24a2d19b-8d69-47e0-e5df-e421110a5933"
      },
      "execution_count": null,
      "outputs": [
        {
          "output_type": "stream",
          "name": "stdout",
          "text": [
            "Ingrese un numero: 40\n",
            "grados:  104.0\n"
          ]
        }
      ]
    },
    {
      "cell_type": "code",
      "source": [
        "#Celsius a Kelvin\n",
        "gradosC = lambda c : c + 273.15\n",
        "Celsius = float(input(\"Ingrese un grados Celsius: \"))\n",
        "print(\"Grados En Kelvin: \", gradosC(Celsius))"
      ],
      "metadata": {
        "colab": {
          "base_uri": "https://localhost:8080/"
        },
        "id": "gSeAUY57OU6I",
        "outputId": "29606531-94fa-4522-98e5-dad0e998a942"
      },
      "execution_count": null,
      "outputs": [
        {
          "output_type": "stream",
          "name": "stdout",
          "text": [
            "Ingrese un grados Celsius: 45\n",
            "Grados En Kelvin:  318.15\n"
          ]
        }
      ]
    },
    {
      "cell_type": "code",
      "source": [
        "#kelvin a Celsius\n",
        "gradosK = lambda c : c - 273.15\n",
        "kelvin = float(input(\"Ingrese un grados Kelvin: \")) \n",
        "print(\"Grados En Celsius: \", gradosK(kelvin))"
      ],
      "metadata": {
        "colab": {
          "base_uri": "https://localhost:8080/"
        },
        "id": "5UW-Gfa8O_X_",
        "outputId": "c587986a-ac53-4722-9813-7cfd398647e8"
      },
      "execution_count": 1,
      "outputs": [
        {
          "output_type": "stream",
          "name": "stdout",
          "text": [
            "Ingrese un grados Kelvin: 45\n",
            "Grados En Celsius:  -228.14999999999998\n"
          ]
        }
      ]
    },
    {
      "cell_type": "code",
      "source": [
        "calcularNotaC1 = lambda n1: (n1 * 0.3)"
      ],
      "metadata": {
        "id": "NAPyHW6l5BCR"
      },
      "execution_count": 18,
      "outputs": []
    },
    {
      "cell_type": "code",
      "source": [
        "n1 = float(input(\"Ingrese la nota del laboratorio 1: \"))\n",
        "n2 = float(input(\"Ingrese la nota del laboratorio 2: \"))\n",
        "n3 = float(input(\"Ingrese la nota del Parcial: \"))\n",
        "\n",
        "NotaC1 = calcularNotaC1(n1,n2,n3)\n",
        "\n",
        "print (\"Su nota es: \",NotaC1)"
      ],
      "metadata": {
        "id": "C1Iwab2n5Yzx",
        "outputId": "e1aec60c-a70c-41d8-b915-4a42cb60c8ac",
        "colab": {
          "base_uri": "https://localhost:8080/",
          "height": 254
        }
      },
      "execution_count": 19,
      "outputs": [
        {
          "name": "stdout",
          "output_type": "stream",
          "text": [
            "Ingrese la nota del laboratorio 1: 10\n"
          ]
        },
        {
          "output_type": "error",
          "ename": "TypeError",
          "evalue": "ignored",
          "traceback": [
            "\u001b[0;31m---------------------------------------------------------------------------\u001b[0m",
            "\u001b[0;31mTypeError\u001b[0m                                 Traceback (most recent call last)",
            "\u001b[0;32m<ipython-input-19-3317658110c3>\u001b[0m in \u001b[0;36m<module>\u001b[0;34m\u001b[0m\n\u001b[1;32m      1\u001b[0m \u001b[0mn1\u001b[0m \u001b[0;34m=\u001b[0m \u001b[0mfloat\u001b[0m\u001b[0;34m(\u001b[0m\u001b[0minput\u001b[0m\u001b[0;34m(\u001b[0m\u001b[0;34m\"Ingrese la nota del laboratorio 1: \"\u001b[0m\u001b[0;34m)\u001b[0m\u001b[0;34m)\u001b[0m\u001b[0;34m\u001b[0m\u001b[0;34m\u001b[0m\u001b[0m\n\u001b[1;32m      2\u001b[0m \u001b[0;34m\u001b[0m\u001b[0m\n\u001b[0;32m----> 3\u001b[0;31m \u001b[0mcalcularNotaC1\u001b[0m \u001b[0;34m=\u001b[0m \u001b[0mNotaC1\u001b[0m\u001b[0;34m(\u001b[0m\u001b[0mn1\u001b[0m\u001b[0;34m)\u001b[0m\u001b[0;34m\u001b[0m\u001b[0;34m\u001b[0m\u001b[0m\n\u001b[0m\u001b[1;32m      4\u001b[0m \u001b[0;34m\u001b[0m\u001b[0m\n\u001b[1;32m      5\u001b[0m \u001b[0mprint\u001b[0m\u001b[0;34m(\u001b[0m\u001b[0;34m\"Su nota es: \"\u001b[0m\u001b[0;34m,\u001b[0m\u001b[0mNotaC1\u001b[0m\u001b[0;34m)\u001b[0m\u001b[0;34m\u001b[0m\u001b[0;34m\u001b[0m\u001b[0m\n",
            "\u001b[0;31mTypeError\u001b[0m: 'tuple' object is not callable"
          ]
        }
      ]
    }
  ],
  "metadata": {
    "colab": {
      "collapsed_sections": [],
      "name": "Te damos la bienvenida a Colaboratory",
      "provenance": [],
      "include_colab_link": true
    },
    "kernelspec": {
      "display_name": "Python 3",
      "name": "python3"
    },
    "gpuClass": "standard"
  },
  "nbformat": 4,
  "nbformat_minor": 0
}