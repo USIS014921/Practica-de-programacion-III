{
  "cells": [
    {
      "cell_type": "markdown",
      "metadata": {
        "id": "view-in-github",
        "colab_type": "text"
      },
      "source": [
        "<a href=\"https://colab.research.google.com/github/USIS014921/Practica-de-programacion-III/blob/main/Practica1.ipynb\" target=\"_parent\"><img src=\"https://colab.research.google.com/assets/colab-badge.svg\" alt=\"Open In Colab\"/></a>"
      ]
    },
    {
      "cell_type": "code",
      "source": [
        "F = 27"
      ],
      "metadata": {
        "id": "ojqzMXJ7mSlF"
      },
      "execution_count": null,
      "outputs": []
    },
    {
      "cell_type": "code",
      "source": [
        "def convertirFaC(F):\n",
        " return (F - 32) * 0.55555 "
      ],
      "metadata": {
        "id": "TZS6SC5xm60d"
      },
      "execution_count": null,
      "outputs": []
    },
    {
      "cell_type": "code",
      "source": [
        "print(\"Farenheit a C: \", convertirFaC(F))"
      ],
      "metadata": {
        "colab": {
          "base_uri": "https://localhost:8080/"
        },
        "id": "jbNH_A1Cohwf",
        "outputId": "f5ad8bdb-3d55-4be6-e255-e98699b44c4f"
      },
      "execution_count": null,
      "outputs": [
        {
          "output_type": "stream",
          "name": "stdout",
          "text": [
            "Farenheit a C:  -2.77775\n"
          ]
        }
      ]
    },
    {
      "cell_type": "code",
      "source": [
        "gradosCiudades = [27,30,32,35,40,45]"
      ],
      "metadata": {
        "id": "yqgQTzO8qBnL"
      },
      "execution_count": null,
      "outputs": []
    },
    {
      "cell_type": "code",
      "source": [
        "print(gradosCiudades,\"respuesta: \",list(map(convertirFaC,gradosCiudades)))"
      ],
      "metadata": {
        "colab": {
          "base_uri": "https://localhost:8080/"
        },
        "id": "myNRJ0OcqiQL",
        "outputId": "b97b6f4b-2f04-42aa-98e4-a4f5651322c8"
      },
      "execution_count": null,
      "outputs": [
        {
          "output_type": "stream",
          "name": "stdout",
          "text": [
            "[27, 30, 32, 35, 40, 45] respuesta:  [-2.77775, -1.1111, 0.0, 1.66665, 4.4444, 7.22215]\n"
          ]
        }
      ]
    },
    {
      "cell_type": "code",
      "source": [
        "C = 30"
      ],
      "metadata": {
        "id": "hcNyo-ebup5m"
      },
      "execution_count": null,
      "outputs": []
    },
    {
      "cell_type": "code",
      "source": [
        "def convertirCaF(C):\n",
        " return (C * 9/5) + 32"
      ],
      "metadata": {
        "id": "c3g1kcbsuv1-"
      },
      "execution_count": null,
      "outputs": []
    },
    {
      "cell_type": "code",
      "source": [
        "print(\"Celsius a F: \", convertirCaF(C))"
      ],
      "metadata": {
        "colab": {
          "base_uri": "https://localhost:8080/"
        },
        "id": "pOIN-dWTu_pX",
        "outputId": "a594a620-a5c5-42a0-afb4-cb7193588103"
      },
      "execution_count": null,
      "outputs": [
        {
          "output_type": "stream",
          "name": "stdout",
          "text": [
            "Celsius a F:  86.0\n"
          ]
        }
      ]
    },
    {
      "cell_type": "code",
      "source": [
        "gradosCiudades = [-2.77775, -1.1111, 0.0, 1.66665, 4.4444, 7.22215]"
      ],
      "metadata": {
        "id": "6Gq1E8TYvH8m"
      },
      "execution_count": null,
      "outputs": []
    },
    {
      "cell_type": "code",
      "source": [
        "print(gradosCiudades,\"respuesta: \",list(map(convertirCaF,gradosCiudades)))"
      ],
      "metadata": {
        "colab": {
          "base_uri": "https://localhost:8080/"
        },
        "id": "uGrSgkxjvRtR",
        "outputId": "e1a8793e-1549-4624-d9af-f0a0e7fb726f"
      },
      "execution_count": null,
      "outputs": [
        {
          "output_type": "stream",
          "name": "stdout",
          "text": [
            "[-2.77775, -1.1111, 0.0, 1.66665, 4.4444, 7.22215] respuesta:  [27.00005, 30.00002, 32.0, 34.99997, 39.99992, 44.99987]\n"
          ]
        }
      ]
    },
    {
      "cell_type": "code",
      "source": [
        "gradosCel= lambda c : c *  9/5 + 32\n",
        "grados=float(input(\"Ingrese un numero: \"))\n",
        "print(\"grados: \", gradosCel(grados))"
      ],
      "metadata": {
        "colab": {
          "base_uri": "https://localhost:8080/"
        },
        "id": "2DWXITyixTUI",
        "outputId": "24a2d19b-8d69-47e0-e5df-e421110a5933"
      },
      "execution_count": null,
      "outputs": [
        {
          "output_type": "stream",
          "name": "stdout",
          "text": [
            "Ingrese un numero: 40\n",
            "grados:  104.0\n"
          ]
        }
      ]
    },
    {
      "cell_type": "code",
      "source": [
        "#Celsius a Kelvin Lambda\n",
        "gradosC = lambda c : c + 273.15\n",
        "Celsius = float(input(\"Ingrese un grados Celsius: \"))\n",
        "print(\"Grados En Kelvin: \", gradosC(Celsius))"
      ],
      "metadata": {
        "colab": {
          "base_uri": "https://localhost:8080/"
        },
        "id": "gSeAUY57OU6I",
        "outputId": "68c24479-015e-44f1-b653-7507f40fb68b"
      },
      "execution_count": null,
      "outputs": [
        {
          "output_type": "stream",
          "name": "stdout",
          "text": [
            "Ingrese un grados Celsius: 45\n",
            "Grados En Kelvin:  318.15\n"
          ]
        }
      ]
    },
    {
      "cell_type": "code",
      "source": [
        "#Celsius a Kelvin Funciones de Usuario\n",
        "K = float(input(\"Ingrese un grados Celius: \"))\n",
        "def convertirCaK(K):\n",
        "  return K + 273.15\n",
        "\n",
        "print(\" Respuesta: \",convertirCaK(K))"
      ],
      "metadata": {
        "id": "Vim0M4_ef0jc",
        "outputId": "c603f699-d36e-46d9-ec28-1f67c1cc9c10",
        "colab": {
          "base_uri": "https://localhost:8080/"
        }
      },
      "execution_count": null,
      "outputs": [
        {
          "output_type": "stream",
          "name": "stdout",
          "text": [
            "Ingrese un grados Celius: 45\n",
            " Respuesta:  318.15\n"
          ]
        }
      ]
    },
    {
      "cell_type": "code",
      "source": [
        "#kelvin a Celsius Lambda\n",
        "gradosK = lambda c : c - 273.15\n",
        "kelvin = float(input(\"Ingrese un grados Kelvin: \")) \n",
        "print(\"Grados En Celsius: \", gradosK(kelvin))"
      ],
      "metadata": {
        "colab": {
          "base_uri": "https://localhost:8080/"
        },
        "id": "5UW-Gfa8O_X_",
        "outputId": "d72b207c-a55c-4bff-cb7f-a593d7f9833a"
      },
      "execution_count": null,
      "outputs": [
        {
          "output_type": "stream",
          "name": "stdout",
          "text": [
            "Ingrese un grados Kelvin: 45\n",
            "Grados En Celsius:  -228.14999999999998\n"
          ]
        }
      ]
    },
    {
      "cell_type": "code",
      "source": [
        "#kelvin a Celsius Funciones de Usuario\n",
        "C = float(input(\"Ingrese un grados Kelvin: \"))\n",
        "def convertirKaC(C):\n",
        "  return C - 273.15\n",
        "\n",
        "print(\" Respuesta: \",convertirKaC(C))"
      ],
      "metadata": {
        "id": "qOYaES54tjdt",
        "outputId": "5859d44d-e63e-4ea8-e7de-15b4ef9c7b34",
        "colab": {
          "base_uri": "https://localhost:8080/"
        }
      },
      "execution_count": null,
      "outputs": [
        {
          "output_type": "stream",
          "name": "stdout",
          "text": [
            "Ingrese un grados Kelvin: 45\n",
            " Respuesta:  -228.14999999999998\n"
          ]
        }
      ]
    },
    {
      "cell_type": "code",
      "source": [
        "calcularNotaC1 = lambda n1: (n1 * 0.3)"
      ],
      "metadata": {
        "id": "NAPyHW6l5BCR"
      },
      "execution_count": null,
      "outputs": []
    },
    {
      "cell_type": "code",
      "source": [
        "#calcularora de notas con lambda\n",
        "print(\"Ingrese la nota del Primer Computo: \")\n",
        "lab1C1 = float(input())\n",
        "lab2C1 = float(input())\n",
        "Parcial1 = float(input())\n",
        "print(\"Ingrese la nota del Segundo Computo: \")\n",
        "lab1C2 = float(input())\n",
        "lab2C2 = float(input())\n",
        "Parcial2 = float(input())\n",
        "print(\"Ingrese la nota del Tercer Computo: \")\n",
        "lab1C3 = float(input())\n",
        "lab2C3 = float(input())\n",
        "Parcial3 = float(input())\n",
        "\n",
        "notas = lambda a,b,c: ( a * 0.3 ) + ( b * 0.3 ) + ( c * 0.4 )\n",
        "\n",
        "comp1=notas(lab1C1,lab2C1,Parcial1)\n",
        "comp2=notas(lab1C2,lab2C2,Parcial2)\n",
        "comp3=notas(lab1C3,lab2C3,Parcial3)\n",
        "\n",
        "notaFinal = (comp1 + comp2 + comp3)/3\n",
        "\n",
        "print(\"Su nota Final es: \",notaFinal)"
      ],
      "metadata": {
        "id": "C1Iwab2n5Yzx",
        "outputId": "99758ba6-b043-4f83-c6e7-05318407d454",
        "colab": {
          "base_uri": "https://localhost:8080/"
        }
      },
      "execution_count": null,
      "outputs": [
        {
          "output_type": "stream",
          "name": "stdout",
          "text": [
            "Ingrese la nota del Primer Computo: \n",
            "8\n",
            "8\n",
            "8\n",
            "Ingrese la nota del Segundo Computo: \n",
            "9\n",
            "10\n",
            "8\n",
            "Ingrese la nota del Tercer Computo: \n",
            "9\n",
            "8\n",
            "8\n",
            " Su nota Final es:  8.4\n"
          ]
        }
      ]
    },
    {
      "cell_type": "code",
      "source": [
        "#calcularora de notas con Funciones de usuario\n",
        "print(\"Ingrese la nota del Primer Computo: \")\n",
        "lab1C1 = float(input())\n",
        "lab2C1 = float(input())\n",
        "Parcial1 = float(input())\n",
        "print(\"Ingrese la nota del Segundo Computo: \")\n",
        "lab1C2 = float(input())\n",
        "lab2C2 = float(input())\n",
        "Parcial2 = float(input())\n",
        "print(\"Ingrese la nota del Tercer Computo: \")\n",
        "lab1C3 = float(input())\n",
        "lab2C3 = float(input())\n",
        "Parcial3 = float(input())\n",
        "\n",
        "def notas (a,b,c) : \n",
        "  return ( a * 0.3 ) + ( b * 0.3 ) + ( c * 0.4 )\n",
        "\n",
        "comp1=notas(lab1C1,lab2C1,Parcial1)\n",
        "comp2=notas(lab1C2,lab2C2,Parcial2)\n",
        "comp3=notas(lab1C3,lab2C3,Parcial3)\n",
        "\n",
        "notaFinal = (comp1 + comp2 + comp3)/3\n",
        "\n",
        "print(\"Su nota Final es: \",notaFinal)"
      ],
      "metadata": {
        "id": "LGld8zIT2EvM",
        "outputId": "a8a2b2c1-0e5e-499e-fc96-d2ba5666f2a2",
        "colab": {
          "base_uri": "https://localhost:8080/"
        }
      },
      "execution_count": null,
      "outputs": [
        {
          "output_type": "stream",
          "name": "stdout",
          "text": [
            "Ingrese la nota del Primer Computo: \n",
            "8\n",
            "8\n",
            "8\n",
            "Ingrese la nota del Segundo Computo: \n",
            "9\n",
            "7\n",
            "9\n",
            "Ingrese la nota del Tercer Computo: \n",
            "10\n",
            "8\n",
            "9\n",
            "Su nota Final es:  8.466666666666667\n"
          ]
        }
      ]
    },
    {
      "cell_type": "code",
      "source": [
        "#Medidas De Longitud, Volumen y Masa con Condicionales.\n",
        "\n",
        "#MENU\n",
        "opcion_medida = int (input(\"***MENU PRINCIPAL*** \\n\"\n",
        "                           \"1. Medidas de Longitud \\n\"\n",
        "                           \"2. Medidas Volumen \\n\"\n",
        "                           \"3. Medidas de Masa \\n\"\n",
        "                           \"Escoja la pcion que desea: \"))\n",
        "#MEDIDAS DE LONGITUD\n",
        "if opcion_medida == 1:\n",
        "  print (\"\\n***MEDIDAS DE LONGITUD***\")\n",
        "  opcion_submenu = int(input(\"1. Pulgadas a Milimetros \\n\"\n",
        "                             \"2. Yardas a Metros \\n\"\n",
        "                             \"3. Pulgadas a Centimetros \\n\"\n",
        "                             \"4. Kilometros a Milla Nautica \\n\"\n",
        "                             \"5. Kilometros a Millas \\n\"\n",
        "                             \"6. Pies a Yardas \\n\"\n",
        "                             \"7. Acres a Hectareas \\n\"\n",
        "                             \"8. Millas a Metros \\n\"\n",
        "                             \"9. Pies a Centrimetros \\n\"\n",
        "                             \"10. Milimetros a Pulgadas \\n\"\n",
        "                             \"Escoja la opcion que desea: \"))\n",
        "#Pulgadas a Milimetros\n",
        "  if opcion_submenu == 1:\n",
        "    print(\"-----------------------------------------------------------------------------\")\n",
        "    pulgadas = int(input(\"Ingrese la cantidad de Pulgadas a convertir: \"))\n",
        "    milimetros = pulgadas * 25.4\n",
        "    print(pulgadas, \"Pulgadas equivalen a: \", milimetros,\" Milimetros\")\n",
        "\n",
        "#Yardas a Metros\n",
        "  elif opcion_submenu == 2:\n",
        "    print(\"-----------------------------------------------------------------------------\")\n",
        "    yardas = int(input(\"Ingrese la cantidad de Yardas a convertir: \"))\n",
        "    metros = yardas * 0.9144\n",
        "    print(yardas, \"Yardas equivalen a: \", metros,\" Metros\")\n",
        "\n",
        "#Pulgadas a Centimetros\n",
        "  elif opcion_submenu == 3:\n",
        "    print(\"-----------------------------------------------------------------------------\")\n",
        "    pulgadas = int(input(\"Ingrese la cantidad de Pulgadas a convertir: \"))\n",
        "    centimetros = pulgadas * 2.54\n",
        "    print(pulgadas, \"Pulgadas equivalen a: \", centimetros,\" Centimetros\")\n",
        "\n",
        "#Kilometros a Millas Nauticas\n",
        "  elif opcion_submenu == 4:\n",
        "    print(\"-----------------------------------------------------------------------------\")\n",
        "    kilometros = int(input(\"Ingrese la cantidad de Kilometros a convertir: \"))\n",
        "    milla_nautica = kilometros / 1.852\n",
        "    print(kilometros, \"Kilometros equivalen a: \", milla_nautica,\" Millas Nauticas\")\n",
        "\n",
        "#Kilometros a Millas\n",
        "  elif opcion_submenu == 5:\n",
        "    print(\"-----------------------------------------------------------------------------\")\n",
        "    kilometros = int(input(\"Ingrese la cantidad de Kilometros a convertir: \"))\n",
        "    milla = kilometros / 1.609\n",
        "    print(kilometros, \"Kilometros equivalen a: \", milla,\" Millas\")\n",
        "\n",
        "#Pies a Yardas\n",
        "  elif opcion_submenu == 6:\n",
        "    print(\"-----------------------------------------------------------------------------\")\n",
        "    pies = int(input(\"Ingrese la cantidad de Pies a convertir: \"))\n",
        "    yarda = pies / 3\n",
        "    print(pies, \"Pies equivalen a: \", yarda,\" Yarda\")\n",
        "\n",
        "#Acres a Hectareas\n",
        "  elif opcion_submenu == 7:\n",
        "    print(\"-----------------------------------------------------------------------------\")\n",
        "    acres = int(input(\"Ingrese la cantidad de Acres  a convertir: \"))\n",
        "    hectareas = acres  * 0.4047\n",
        "    print(acres , \"Acres  equivalen a: \", hectareas,\" Hectareas\")\n",
        "\n",
        "#Millas a Metros\n",
        "  elif opcion_submenu == 8:\n",
        "    print(\"-----------------------------------------------------------------------------\")\n",
        "    millas = int(input(\"Ingrese la cantidad de Millas a convertir: \"))\n",
        "    metros = millas * 1609\n",
        "    print(millas, \"Millas equivalen a: \", metros,\" Metros\")\n",
        "\n",
        " #Pies a Centimetros\n",
        "  elif opcion_submenu == 9:\n",
        "    print(\"-----------------------------------------------------------------------------\")\n",
        "    pies = int(input(\"Ingrese la cantidad de Pies a convertir: \"))\n",
        "    centimetros = pies * 30.48\n",
        "    print(pies, \"Pies equivalen a: \", centimetros,\" Centimetros\")   \n",
        "\n",
        " #Milimetros a Pulgadas \n",
        "  elif opcion_submenu == 10:\n",
        "    print(\"-----------------------------------------------------------------------------\")\n",
        "    milimetros = int(input(\"Ingrese la cantidad de Milimetros a convertir: \"))\n",
        "    pulgadas = milimetros / 25.4\n",
        "    print(milimetros, \"Milimetros equivalen a: \", pulgadas,\" Pulgadas\")   \n",
        "\n",
        "  else: \n",
        "    print(\"La opcion que escogio no existe\")\n",
        "\n",
        "#_______________________________________________________________________________________________________________\n",
        "#MEDIDAS DE VOLUMEN\n",
        "elif opcion_medida == 2:\n",
        "  print (\"\\n***MEDIDAS DE VOLUMEN***\")\n",
        "  opcion_submenu = int(input(\"1. Pies^3 a Metros^3 \\n\"\n",
        "                             \"2. Yardas^3 a Metros^3 \\n\"\n",
        "                             \"3. Galon a Litro \\n\"\n",
        "                             \"4. Pies^3 a Pulgadas^3 \\n\"\n",
        "                             \"5. Tazas a Cucharadas \\n\"\n",
        "                             \"6. Pinta a Litro \\n\"\n",
        "                             \"7. Metro^3 a Pulgada^3 \\n\"\n",
        "                             \"8. Taza a Litro \\n\"\n",
        "                             \"9. Onza al Mililitro \\n\"\n",
        "                             \"10. Cucharadas a Mililitros \\n\"\n",
        "                             \"Escoja la pcion que desea: \"))\n",
        "#Pies^3 a Metros^3\n",
        "  if opcion_submenu == 1:\n",
        "    print(\"-----------------------------------------------------------------------------\")\n",
        "    pies_3 = int(input(\"Ingrese la cantidad de Pies^3 a convertir: \"))\n",
        "    metros_3 = pies_3 * 0.02382\n",
        "    print(pies_3, \"Pies^3 equivalen a: \", metros_3,\" Metros^3\")\n",
        "\n",
        "#Yardas^3 a Metros^3\n",
        "  elif opcion_submenu == 2:\n",
        "    print(\"-----------------------------------------------------------------------------\")\n",
        "    yardas_3 = int(input(\"Ingrese la cantidad de Yardas^3 a convertir: \"))\n",
        "    metros_3 = yardas_3 * 0.7646\n",
        "    print(yardas_3, \"Yardas equivalen a: \", metros_3,\" Metros\")\n",
        "\n",
        "#Galon a Litro\n",
        "  elif opcion_submenu == 3:\n",
        "    print(\"-----------------------------------------------------------------------------\")\n",
        "    galon = int(input(\"Ingrese la cantidad de Galon a convertir: \"))\n",
        "    litro = galon * 3.785\n",
        "    print(galon, \"Galon equivalen a: \", litro,\" Litro\")\n",
        "\n",
        "#Pies^3 a Pulgadas^3\n",
        "  elif opcion_submenu == 4:\n",
        "    print(\"-----------------------------------------------------------------------------\")\n",
        "    pies_3 = int(input(\"Ingrese la cantidad de Pies^3 a convertir: \"))\n",
        "    pulgadas_3 = pies_3 * 1728\n",
        "    print(pies_3, \"Pies^3 equivalen a: \", pulgadas_3,\" Pulgadas^3\")\n",
        "\n",
        "#Tazas a Cucharadas\n",
        "  elif opcion_submenu == 5:\n",
        "    print(\"-----------------------------------------------------------------------------\")\n",
        "    tazas = int(input(\"Ingrese la cantidad de Tazas a convertir: \"))\n",
        "    cucharadas = tazas * 16.231\n",
        "    print(tazas, \"Tazas equivalen a: \", cucharadas,\" Cucharadas\")\n",
        "\n",
        "#Pinta a Litro\n",
        "  elif opcion_submenu == 6:\n",
        "    print(\"-----------------------------------------------------------------------------\")\n",
        "    pinta = int(input(\"Ingrese la cantidad de Pintas a convertir: \"))\n",
        "    litro = pinta / 2.113\n",
        "    print(pinta, \"Pintas equivalen a: \", litro,\" Litros\")\n",
        "\n",
        "#Metro^3 a Pulgada^3\n",
        "  elif opcion_submenu == 7:\n",
        "    print(\"-----------------------------------------------------------------------------\")\n",
        "    metro_3 = int(input(\"Ingrese la cantidad de Metros^3 a convertir: \"))\n",
        "    pulgada_3 = metro_3 * 61020\n",
        "    print(metro_3, \"Metros^3 equivalen a: \", pulgada_3,\" Pulgadas^3\")\n",
        "\n",
        "#Taza a Litro\n",
        "  elif opcion_submenu == 8:\n",
        "    print(\"-----------------------------------------------------------------------------\")\n",
        "    taza = int(input(\"Ingrese la cantidad de Tazas a convertir: \"))\n",
        "    litro = taza * 4.167\n",
        "    print(taza, \"Tazas equivalen a: \", litro,\" Litros\")\n",
        "\n",
        "#Onza al Mililitro\n",
        "  elif opcion_submenu == 9:\n",
        "    print(\"-----------------------------------------------------------------------------\")\n",
        "    onza = int(input(\"Ingrese la cantidad de Onzas a convertir: \"))\n",
        "    mililitro = onza * 29.574\n",
        "    print(onza, \"Onzas equivalen a: \", mililitro,\" Mililitros\")\n",
        "\n",
        "#Cucharadas a Mililitros\n",
        "  elif opcion_submenu == 10:\n",
        "    print(\"-----------------------------------------------------------------------------\")\n",
        "    cucharadas = int(input(\"Ingrese la cantidad de Cucharadas a convertir: \"))\n",
        "    mililitros = cucharadas * 0.45359\n",
        "    print(cucharadas, \"Cucharadas equivalen a: \", mililitros,\" Mililitros\")\n",
        "\n",
        "  else: \n",
        "    print(\"La opcion que escogio no existe\")\n",
        "\n",
        "#_______________________________________________________________________________________________________________\n",
        "#MEDIDAD DE MASA\n",
        "elif opcion_medida == 3:\n",
        "  print (\"\\n***MEDIDAS DE MASA***\")\n",
        "  opcion_submenu = int(input(\"1. Onzas a Gramos \\n\"\n",
        "                             \"2. Libras a Kilogramos \\n\"\n",
        "                             \"3. Toneladas a Onzas \\n\"\n",
        "                             \"4. Gramos a Miligramos \\n\"\n",
        "                             \"5. Toneladas a Libras \\n\"\n",
        "                             \"6. Onzas a Libras  \\n\"\n",
        "                             \"7. Toneladas a Kilogramos \\n\"\n",
        "                             \"8. Kilogramos a Libras \\n\"\n",
        "                             \"9. Libras a Gramos \\n\"\n",
        "                             \"10. \\n\"\n",
        "                             \"Escoja la pcion que desea: \"))\n",
        "#Onzas a Gramos\n",
        "  if opcion_submenu == 1:\n",
        "    print(\"-----------------------------------------------------------------------------\")\n",
        "    onzas = int(input(\"Ingrese la cantidad de Onzas a convertir: \"))\n",
        "    gramos = onzas * 28.35\n",
        "    print(onzas, \"Onzas equivalen a: \", gramos,\" Gramos\")\n",
        "\n",
        "#Libras a Kilogramos\n",
        "  elif opcion_submenu == 2:\n",
        "    print(\"-----------------------------------------------------------------------------\")\n",
        "    libras = int(input(\"Ingrese la cantidad de Libras a convertir: \"))\n",
        "    kilogramos = libras * 0.45359\n",
        "    print(libras, \"Libras equivalen a: \", kilogramos,\" Kilogramos\")\n",
        "\n",
        "#Toneladas a Onzas\n",
        "  elif opcion_submenu == 3:\n",
        "    print(\"-----------------------------------------------------------------------------\")\n",
        "    tonelada = int(input(\"Ingrese la cantidad de Toneladas a convertir: \"))\n",
        "    onza = tonelada * 35270\n",
        "    print(tonelada, \"Toneladas equivalen a: \", onza,\" Onzas\")\n",
        "\n",
        "#Gramos a Miligramos\n",
        "  elif opcion_submenu == 4:\n",
        "    print(\"-----------------------------------------------------------------------------\")\n",
        "    gramo = int(input(\"Ingrese la cantidad de Gramos a convertir: \"))\n",
        "    miligramo = gramo * 1000\n",
        "    print(gramo, \"Gramos equivalen a: \", miligramo ,\" Miligramos\")\n",
        "\n",
        "#Toneladas a Libras\n",
        "  elif opcion_submenu == 5:\n",
        "    print(\"-----------------------------------------------------------------------------\")\n",
        "    toneladas = int(input(\"Ingrese la cantidad de Toneladas a convertir: \"))\n",
        "    libras = toneladas * 2240\n",
        "    print(toneladas, \"Toneladas equivalen a: \", libras,\" Libras\")\n",
        "\n",
        "#Onzas a Libras \n",
        "  elif opcion_submenu == 6:\n",
        "    print(\"-----------------------------------------------------------------------------\")\n",
        "    onzas = int(input(\"Ingrese la cantidad de Onzas a convertir: \"))\n",
        "    libras = onzas / 16\n",
        "    print(onzas, \"Onzas equivalen a: \", libras,\" Libras\")\n",
        "\n",
        "#Toneladas a Kilogramos\n",
        "  elif opcion_submenu == 7:\n",
        "    print(\"-----------------------------------------------------------------------------\")\n",
        "    toneladas = int(input(\"Ingrese la cantidad de Toneladas a convertir: \"))\n",
        "    kilogramos = toneladas * 1000\n",
        "    print(toneladas, \"Toneladas equivalen a: \", kilogramos,\" Kilogramos\")\n",
        "\n",
        "#Kilogramos a Libras\n",
        "  elif opcion_submenu == 8:\n",
        "    print(\"-----------------------------------------------------------------------------\")\n",
        "    kilogramos = int(input(\"Ingrese la cantidad de Kilogramos a convertir: \"))\n",
        "    libras = kilogramos * 2.205\n",
        "    print(kilogramos, \"Kilogramos equivalen a: \", libras,\" Libras\")\n",
        "\n",
        "#Libras a Gramos\n",
        "  elif opcion_submenu == 9:\n",
        "    print(\"-----------------------------------------------------------------------------\")\n",
        "    libras = int(input(\"Ingrese la cantidad de Libras a convertir: \"))\n",
        "    gramos = libras * 453.6\n",
        "    print(libras, \"Libras equivalen a: \", gramos,\" Gramos\")\n",
        "\n",
        "#Gramos a Libras\n",
        "  elif opcion_submenu == 10:\n",
        "    print(\"-----------------------------------------------------------------------------\")\n",
        "    gramos = int(input(\"Ingrese la cantidad de Gramos a convertir: \"))\n",
        "    libras = gramos / 453.6\n",
        "    print(gramos, \"Gramos equivalen a: \", libras,\" Libras\")\n",
        "\n",
        "  else: \n",
        "    print(\"La opcion que escogio no existe\")\n",
        "else:\n",
        "  print(\"La opcion que escogio no existe\")"
      ],
      "metadata": {
        "colab": {
          "base_uri": "https://localhost:8080/"
        },
        "id": "I48aKXM9ADmq",
        "outputId": "fd9ed033-d49c-4e6f-ef6d-b5a356477b43"
      },
      "execution_count": 13,
      "outputs": [
        {
          "output_type": "stream",
          "name": "stdout",
          "text": [
            "***MENU PRINCIPAL*** \n",
            "1. Medidas de Longitud \n",
            "2. Medidas Volumen\n",
            "3. Medidas de Peso\n",
            "Escoja la pcion que desea: 9\n",
            "La opcion que escogio no existe\n"
          ]
        }
      ]
    }
  ],
  "metadata": {
    "colab": {
      "collapsed_sections": [],
      "name": "Te damos la bienvenida a Colaboratory",
      "provenance": [],
      "include_colab_link": true
    },
    "kernelspec": {
      "display_name": "Python 3",
      "name": "python3"
    },
    "gpuClass": "standard"
  },
  "nbformat": 4,
  "nbformat_minor": 0
}