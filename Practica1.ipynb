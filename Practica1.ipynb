{
  "cells": [
    {
      "cell_type": "markdown",
      "metadata": {
        "id": "view-in-github",
        "colab_type": "text"
      },
      "source": [
        "<a href=\"https://colab.research.google.com/github/USIS014921/Practica-de-programacion-III/blob/main/Practica1.ipynb\" target=\"_parent\"><img src=\"https://colab.research.google.com/assets/colab-badge.svg\" alt=\"Open In Colab\"/></a>"
      ]
    },
    {
      "cell_type": "code",
      "source": [
        "F = 27"
      ],
      "metadata": {
        "id": "ojqzMXJ7mSlF"
      },
      "execution_count": null,
      "outputs": []
    },
    {
      "cell_type": "code",
      "source": [
        "def convertirFaC(F):\n",
        " return (F - 32) * 0.55555 "
      ],
      "metadata": {
        "id": "TZS6SC5xm60d"
      },
      "execution_count": null,
      "outputs": []
    },
    {
      "cell_type": "code",
      "source": [
        "print(\"Farenheit a C: \", convertirFaC(F))"
      ],
      "metadata": {
        "colab": {
          "base_uri": "https://localhost:8080/"
        },
        "id": "jbNH_A1Cohwf",
        "outputId": "f5ad8bdb-3d55-4be6-e255-e98699b44c4f"
      },
      "execution_count": null,
      "outputs": [
        {
          "output_type": "stream",
          "name": "stdout",
          "text": [
            "Farenheit a C:  -2.77775\n"
          ]
        }
      ]
    },
    {
      "cell_type": "code",
      "source": [
        "gradosCiudades = [27,30,32,35,40,45]"
      ],
      "metadata": {
        "id": "yqgQTzO8qBnL"
      },
      "execution_count": null,
      "outputs": []
    },
    {
      "cell_type": "code",
      "source": [
        "print(gradosCiudades,\"respuesta: \",list(map(convertirFaC,gradosCiudades)))"
      ],
      "metadata": {
        "colab": {
          "base_uri": "https://localhost:8080/"
        },
        "id": "myNRJ0OcqiQL",
        "outputId": "b97b6f4b-2f04-42aa-98e4-a4f5651322c8"
      },
      "execution_count": null,
      "outputs": [
        {
          "output_type": "stream",
          "name": "stdout",
          "text": [
            "[27, 30, 32, 35, 40, 45] respuesta:  [-2.77775, -1.1111, 0.0, 1.66665, 4.4444, 7.22215]\n"
          ]
        }
      ]
    },
    {
      "cell_type": "code",
      "source": [
        "C = 30"
      ],
      "metadata": {
        "id": "hcNyo-ebup5m"
      },
      "execution_count": null,
      "outputs": []
    },
    {
      "cell_type": "code",
      "source": [
        "def convertirCaF(C):\n",
        " return (C * 9/5) + 32"
      ],
      "metadata": {
        "id": "c3g1kcbsuv1-"
      },
      "execution_count": null,
      "outputs": []
    },
    {
      "cell_type": "code",
      "source": [
        "print(\"Celsius a F: \", convertirCaF(C))"
      ],
      "metadata": {
        "colab": {
          "base_uri": "https://localhost:8080/"
        },
        "id": "pOIN-dWTu_pX",
        "outputId": "a594a620-a5c5-42a0-afb4-cb7193588103"
      },
      "execution_count": null,
      "outputs": [
        {
          "output_type": "stream",
          "name": "stdout",
          "text": [
            "Celsius a F:  86.0\n"
          ]
        }
      ]
    },
    {
      "cell_type": "code",
      "source": [
        "gradosCiudades = [-2.77775, -1.1111, 0.0, 1.66665, 4.4444, 7.22215]"
      ],
      "metadata": {
        "id": "6Gq1E8TYvH8m"
      },
      "execution_count": null,
      "outputs": []
    },
    {
      "cell_type": "code",
      "source": [
        "print(gradosCiudades,\"respuesta: \",list(map(convertirCaF,gradosCiudades)))"
      ],
      "metadata": {
        "colab": {
          "base_uri": "https://localhost:8080/"
        },
        "id": "uGrSgkxjvRtR",
        "outputId": "e1a8793e-1549-4624-d9af-f0a0e7fb726f"
      },
      "execution_count": null,
      "outputs": [
        {
          "output_type": "stream",
          "name": "stdout",
          "text": [
            "[-2.77775, -1.1111, 0.0, 1.66665, 4.4444, 7.22215] respuesta:  [27.00005, 30.00002, 32.0, 34.99997, 39.99992, 44.99987]\n"
          ]
        }
      ]
    },
    {
      "cell_type": "code",
      "source": [
        "gradosCel= lambda c : c *  9/5 + 32\n",
        "grados=float(input(\"Ingrese un numero: \"))\n",
        "print(\"grados: \", gradosCel(grados))"
      ],
      "metadata": {
        "colab": {
          "base_uri": "https://localhost:8080/"
        },
        "id": "2DWXITyixTUI",
        "outputId": "24a2d19b-8d69-47e0-e5df-e421110a5933"
      },
      "execution_count": null,
      "outputs": [
        {
          "output_type": "stream",
          "name": "stdout",
          "text": [
            "Ingrese un numero: 40\n",
            "grados:  104.0\n"
          ]
        }
      ]
    },
    {
      "cell_type": "code",
      "source": [
        "#Celsius a Kelvin Lambda\n",
        "gradosC = lambda c : c + 273.15\n",
        "Celsius = float(input(\"Ingrese un grados Celsius: \"))\n",
        "print(\"Grados En Kelvin: \", gradosC(Celsius))"
      ],
      "metadata": {
        "colab": {
          "base_uri": "https://localhost:8080/"
        },
        "id": "gSeAUY57OU6I",
        "outputId": "68c24479-015e-44f1-b653-7507f40fb68b"
      },
      "execution_count": null,
      "outputs": [
        {
          "output_type": "stream",
          "name": "stdout",
          "text": [
            "Ingrese un grados Celsius: 45\n",
            "Grados En Kelvin:  318.15\n"
          ]
        }
      ]
    },
    {
      "cell_type": "code",
      "source": [
        "#Celsius a Kelvin Funciones de Usuario\n",
        "K = float(input(\"Ingrese un grados Celius: \"))\n",
        "def convertirCaK(K):\n",
        "  return K + 273.15\n",
        "\n",
        "print(\" Respuesta: \",convertirCaK(K))"
      ],
      "metadata": {
        "id": "Vim0M4_ef0jc",
        "outputId": "c603f699-d36e-46d9-ec28-1f67c1cc9c10",
        "colab": {
          "base_uri": "https://localhost:8080/"
        }
      },
      "execution_count": null,
      "outputs": [
        {
          "output_type": "stream",
          "name": "stdout",
          "text": [
            "Ingrese un grados Celius: 45\n",
            " Respuesta:  318.15\n"
          ]
        }
      ]
    },
    {
      "cell_type": "code",
      "source": [
        "#kelvin a Celsius Lambda\n",
        "gradosK = lambda c : c - 273.15\n",
        "kelvin = float(input(\"Ingrese un grados Kelvin: \")) \n",
        "print(\"Grados En Celsius: \", gradosK(kelvin))"
      ],
      "metadata": {
        "colab": {
          "base_uri": "https://localhost:8080/"
        },
        "id": "5UW-Gfa8O_X_",
        "outputId": "d72b207c-a55c-4bff-cb7f-a593d7f9833a"
      },
      "execution_count": null,
      "outputs": [
        {
          "output_type": "stream",
          "name": "stdout",
          "text": [
            "Ingrese un grados Kelvin: 45\n",
            "Grados En Celsius:  -228.14999999999998\n"
          ]
        }
      ]
    },
    {
      "cell_type": "code",
      "source": [
        "#kelvin a Celsius Funciones de Usuario\n",
        "C = float(input(\"Ingrese un grados Kelvin: \"))\n",
        "def convertirKaC(C):\n",
        "  return C - 273.15\n",
        "\n",
        "print(\" Respuesta: \",convertirKaC(C))"
      ],
      "metadata": {
        "id": "qOYaES54tjdt",
        "outputId": "5859d44d-e63e-4ea8-e7de-15b4ef9c7b34",
        "colab": {
          "base_uri": "https://localhost:8080/"
        }
      },
      "execution_count": null,
      "outputs": [
        {
          "output_type": "stream",
          "name": "stdout",
          "text": [
            "Ingrese un grados Kelvin: 45\n",
            " Respuesta:  -228.14999999999998\n"
          ]
        }
      ]
    },
    {
      "cell_type": "code",
      "source": [
        "calcularNotaC1 = lambda n1: (n1 * 0.3)"
      ],
      "metadata": {
        "id": "NAPyHW6l5BCR"
      },
      "execution_count": null,
      "outputs": []
    },
    {
      "cell_type": "code",
      "source": [
        "#calcularora de notas con lambda\n",
        "print(\"Ingrese la nota del Primer Computo: \")\n",
        "lab1C1 = float(input())\n",
        "lab2C1 = float(input())\n",
        "Parcial1 = float(input())\n",
        "print(\"Ingrese la nota del Segundo Computo: \")\n",
        "lab1C2 = float(input())\n",
        "lab2C2 = float(input())\n",
        "Parcial2 = float(input())\n",
        "print(\"Ingrese la nota del Tercer Computo: \")\n",
        "lab1C3 = float(input())\n",
        "lab2C3 = float(input())\n",
        "Parcial3 = float(input())\n",
        "\n",
        "notas = lambda a,b,c: ( a * 0.3 ) + ( b * 0.3 ) + ( c * 0.4 )\n",
        "\n",
        "comp1=notas(lab1C1,lab2C1,Parcial1)\n",
        "comp2=notas(lab1C2,lab2C2,Parcial2)\n",
        "comp3=notas(lab1C3,lab2C3,Parcial3)\n",
        "\n",
        "notaFinal = (comp1 + comp2 + comp3)/3\n",
        "\n",
        "print(\"Su nota Final es: \",notaFinal)"
      ],
      "metadata": {
        "id": "C1Iwab2n5Yzx",
        "outputId": "99758ba6-b043-4f83-c6e7-05318407d454",
        "colab": {
          "base_uri": "https://localhost:8080/"
        }
      },
      "execution_count": null,
      "outputs": [
        {
          "output_type": "stream",
          "name": "stdout",
          "text": [
            "Ingrese la nota del Primer Computo: \n",
            "8\n",
            "8\n",
            "8\n",
            "Ingrese la nota del Segundo Computo: \n",
            "9\n",
            "10\n",
            "8\n",
            "Ingrese la nota del Tercer Computo: \n",
            "9\n",
            "8\n",
            "8\n",
            " Su nota Final es:  8.4\n"
          ]
        }
      ]
    },
    {
      "cell_type": "code",
      "source": [
        "#calcularora de notas con Funciones de usuario\n",
        "print(\"Ingrese la nota del Primer Computo: \")\n",
        "lab1C1 = float(input())\n",
        "lab2C1 = float(input())\n",
        "Parcial1 = float(input())\n",
        "print(\"Ingrese la nota del Segundo Computo: \")\n",
        "lab1C2 = float(input())\n",
        "lab2C2 = float(input())\n",
        "Parcial2 = float(input())\n",
        "print(\"Ingrese la nota del Tercer Computo: \")\n",
        "lab1C3 = float(input())\n",
        "lab2C3 = float(input())\n",
        "Parcial3 = float(input())\n",
        "\n",
        "def notas (a,b,c) : \n",
        "  return ( a * 0.3 ) + ( b * 0.3 ) + ( c * 0.4 )\n",
        "\n",
        "comp1=notas(lab1C1,lab2C1,Parcial1)\n",
        "comp2=notas(lab1C2,lab2C2,Parcial2)\n",
        "comp3=notas(lab1C3,lab2C3,Parcial3)\n",
        "\n",
        "notaFinal = (comp1 + comp2 + comp3)/3\n",
        "\n",
        "print(\"Su nota Final es: \",notaFinal)"
      ],
      "metadata": {
        "id": "LGld8zIT2EvM",
        "outputId": "a8a2b2c1-0e5e-499e-fc96-d2ba5666f2a2",
        "colab": {
          "base_uri": "https://localhost:8080/"
        }
      },
      "execution_count": null,
      "outputs": [
        {
          "output_type": "stream",
          "name": "stdout",
          "text": [
            "Ingrese la nota del Primer Computo: \n",
            "8\n",
            "8\n",
            "8\n",
            "Ingrese la nota del Segundo Computo: \n",
            "9\n",
            "7\n",
            "9\n",
            "Ingrese la nota del Tercer Computo: \n",
            "10\n",
            "8\n",
            "9\n",
            "Su nota Final es:  8.466666666666667\n"
          ]
        }
      ]
    },
    {
      "cell_type": "code",
      "source": [
        "#MESES_______________________________________\n",
        "sueldo=float(input(\"su salario es: \"))\n",
        "ISSS= sueldo*0.03\n",
        "AFP= sueldo*0.0625\n",
        "descuento=(ISSS+AFP) \n",
        "salario_liquido= sueldo-(ISSS+AFP) \n",
        "\n",
        "print(\"su des cuento de AFP es: \",AFP,\"Su decuento de ISSS es:\",ISSS)\n",
        "\n",
        "if (salario_liquido<=472.00): \n",
        "  print(\"su salario neto es: \",salario_liquido)\n",
        "  print(\"libre de Impuestos\")\n",
        "elif(salario_liquido<=895.24):\n",
        "    tramoII=salario_liquido*0.10\n",
        "    salario_sobre_renta = (salario_liquido-tramoII)\n",
        "    print(\"Su Impuesto a pagar es de: \",tramoII)\n",
        "    print(\"su salario es: \",salario_sobre_renta)\n",
        "elif(salario_liquido<=2038.10):\n",
        "   tramoIII=salario_liquido*0.20\n",
        "   salario_sobre_renta = (salario_liquido-tramoIII)\n",
        "   print(\"Su impuesto a pagar es de:\",tramoIII)\n",
        "   print(\"su salario es: \",salario_sobre_renta)\n",
        "elif(salario_liquido>=2038.11):\n",
        "    tramoIV=salario_liquido*0.30\n",
        "    salario_sobre_renta = (salario_liquido-tramoIV)\n",
        "    print(\"Su Impuesto a pagar es: \",tramoIV)\n",
        "    print(\"su salario es: \",salario_sobre_renta)\n",
        "else:\n",
        "  print(\"libre de impuestos\")\n",
        "\n",
        "#segundo ejercicio\n",
        "agua_consumida= int(input(\"ingrese la cantidad de metros consumidos: \"))\n",
        "cuota_fija=6\n",
        "\n",
        "if(agua_consumida<=18):\n",
        "  print(\"la tarifa a pagar es de: 6 dolares\")\n",
        "elif(agua_consumida<=28):\n",
        "  sobre_cargo= (agua_consumida-18)*0.45+(cuota_fija)\n",
        "  print(\"su tarifa a pagar es:\",sobre_cargo,\"dolaes\")\n",
        "elif(agua_consumida>=29):\n",
        "  sobre_cargodos=((agua_consumida-28)*0.65)+4.50+cuota_fija\n",
        "  print(\"su tarifa a pagar es:\",sobre_cargodos,\"dolares\")\n",
        "else:\n",
        "  print(\"fin de la coversion\")"
      ],
      "metadata": {
        "colab": {
          "base_uri": "https://localhost:8080/"
        },
        "id": "O6shqAJE8EE6",
        "outputId": "c45d34db-606a-45c2-fafd-7d1ef35e78ec"
      },
      "execution_count": null,
      "outputs": [
        {
          "output_type": "stream",
          "name": "stdout",
          "text": [
            "su salario es: 6000\n",
            "su des cuento de AFP es:  375.0 Su decuento de ISSS es: 180.0\n",
            "Su Impuesto a pagar es:  1633.5\n",
            "su salario es:  3811.5\n",
            "ingrese la cantidad de metros consumidos: 5000\n",
            "su tarifa a pagar es: 3242.3 dolares\n"
          ]
        }
      ]
    },
    {
      "cell_type": "code",
      "source": [
        "#Medidas De Longitud, Volumen y Masa con Condicionales.\n",
        "\n",
        "#MENU\n",
        "opcion_medida = int (input(\"***MENU PRINCIPAL*** \\n\"\n",
        "                           \"1. Medidas de Longitud \\n\"\n",
        "                           \"2. Medidas Volumen \\n\"\n",
        "                           \"3. Medidas de Masa \\n\"\n",
        "                           \"4. Medidas de Almacenamiento \\n\"\n",
        "                           \"5. Medidas de Tiempo \\n\"\n",
        "                           \"6. Medidas de Areas \\n\"\n",
        "                           \"Escoja la pcion que desea: \"))\n",
        "#MEDIDAS DE LONGITUD\n",
        "if opcion_medida == 1:\n",
        "  print (\"\\n***MEDIDAS DE LONGITUD***\")\n",
        "  opcion_submenu = int(input(\"1. Pulgadas a Milimetros \\n\"\n",
        "                             \"2. Yardas a Metros \\n\"\n",
        "                             \"3. Pulgadas a Centimetros \\n\"\n",
        "                             \"4. Kilometros a Milla Nautica \\n\"\n",
        "                             \"5. Kilometros a Millas \\n\"\n",
        "                             \"6. Pies a Yardas \\n\"\n",
        "                             \"7. Acres a Hectareas \\n\"\n",
        "                             \"8. Millas a Metros \\n\"\n",
        "                             \"9. Pies a Centrimetros \\n\"\n",
        "                             \"10. Milimetros a Pulgadas \\n\"\n",
        "                             \"Escoja la opcion que desea: \"))\n",
        "#Pulgadas a Milimetros\n",
        "  if opcion_submenu == 1:\n",
        "    print(\"-----------------------------------------------------------------------------\")\n",
        "    pulgadas = int(input(\"Ingrese la cantidad de Pulgadas a convertir: \"))\n",
        "    milimetros = pulgadas * 25.4\n",
        "    print(pulgadas, \"Pulgadas equivalen a: \", milimetros,\" Milimetros\")\n",
        "\n",
        "#Yardas a Metros\n",
        "  elif opcion_submenu == 2:\n",
        "    print(\"-----------------------------------------------------------------------------\")\n",
        "    yardas = int(input(\"Ingrese la cantidad de Yardas a convertir: \"))\n",
        "    metros = yardas * 0.9144\n",
        "    print(yardas, \"Yardas equivalen a: \", metros,\" Metros\")\n",
        "\n",
        "#Pulgadas a Centimetros\n",
        "  elif opcion_submenu == 3:\n",
        "    print(\"-----------------------------------------------------------------------------\")\n",
        "    pulgadas = int(input(\"Ingrese la cantidad de Pulgadas a convertir: \"))\n",
        "    centimetros = pulgadas * 2.54\n",
        "    print(pulgadas, \"Pulgadas equivalen a: \", centimetros,\" Centimetros\")\n",
        "\n",
        "#Kilometros a Millas Nauticas\n",
        "  elif opcion_submenu == 4:\n",
        "    print(\"-----------------------------------------------------------------------------\")\n",
        "    kilometros = int(input(\"Ingrese la cantidad de Kilometros a convertir: \"))\n",
        "    milla_nautica = kilometros / 1.852\n",
        "    print(kilometros, \"Kilometros equivalen a: \", milla_nautica,\" Millas Nauticas\")\n",
        "\n",
        "#Kilometros a Millas\n",
        "  elif opcion_submenu == 5:\n",
        "    print(\"-----------------------------------------------------------------------------\")\n",
        "    kilometros = int(input(\"Ingrese la cantidad de Kilometros a convertir: \"))\n",
        "    milla = kilometros / 1.609\n",
        "    print(kilometros, \"Kilometros equivalen a: \", milla,\" Millas\")\n",
        "\n",
        "#Pies a Yardas\n",
        "  elif opcion_submenu == 6:\n",
        "    print(\"-----------------------------------------------------------------------------\")\n",
        "    pies = int(input(\"Ingrese la cantidad de Pies a convertir: \"))\n",
        "    yarda = pies / 3\n",
        "    print(pies, \"Pies equivalen a: \", yarda,\" Yarda\")\n",
        "\n",
        "#Acres a Hectareas\n",
        "  elif opcion_submenu == 7:\n",
        "    print(\"-----------------------------------------------------------------------------\")\n",
        "    acres = int(input(\"Ingrese la cantidad de Acres  a convertir: \"))\n",
        "    hectareas = acres  * 0.4047\n",
        "    print(acres , \"Acres  equivalen a: \", hectareas,\" Hectareas\")\n",
        "\n",
        "#Millas a Metros\n",
        "  elif opcion_submenu == 8:\n",
        "    print(\"-----------------------------------------------------------------------------\")\n",
        "    millas = int(input(\"Ingrese la cantidad de Millas a convertir: \"))\n",
        "    metros = millas * 1609\n",
        "    print(millas, \"Millas equivalen a: \", metros,\" Metros\")\n",
        "\n",
        " #Pies a Centimetros\n",
        "  elif opcion_submenu == 9:\n",
        "    print(\"-----------------------------------------------------------------------------\")\n",
        "    pies = int(input(\"Ingrese la cantidad de Pies a convertir: \"))\n",
        "    centimetros = pies * 30.48\n",
        "    print(pies, \"Pies equivalen a: \", centimetros,\" Centimetros\")   \n",
        "\n",
        " #Milimetros a Pulgadas \n",
        "  elif opcion_submenu == 10:\n",
        "    print(\"-----------------------------------------------------------------------------\")\n",
        "    milimetros = int(input(\"Ingrese la cantidad de Milimetros a convertir: \"))\n",
        "    pulgadas = milimetros / 25.4\n",
        "    print(milimetros, \"Milimetros equivalen a: \", pulgadas,\" Pulgadas\")   \n",
        "\n",
        "  else: \n",
        "    print(\"La opcion que escogio no existe\")\n",
        "\n",
        "#_______________________________________________________________________________________________________________\n",
        "#MEDIDAS DE VOLUMEN\n",
        "elif opcion_medida == 2:\n",
        "  print (\"\\n***MEDIDAS DE VOLUMEN***\")\n",
        "  opcion_submenu = int(input(\"1. Pies^3 a Metros^3 \\n\"\n",
        "                             \"2. Yardas^3 a Metros^3 \\n\"\n",
        "                             \"3. Galon a Litro \\n\"\n",
        "                             \"4. Pies^3 a Pulgadas^3 \\n\"\n",
        "                             \"5. Tazas a Cucharadas \\n\"\n",
        "                             \"6. Pinta a Litro \\n\"\n",
        "                             \"7. Metro^3 a Pulgada^3 \\n\"\n",
        "                             \"8. Taza a Litro \\n\"\n",
        "                             \"9. Onza al Mililitro \\n\"\n",
        "                             \"10. Cucharadas a Mililitros \\n\"\n",
        "                             \"Escoja la pcion que desea: \"))\n",
        "#Pies^3 a Metros^3\n",
        "  if opcion_submenu == 1:\n",
        "    print(\"-----------------------------------------------------------------------------\")\n",
        "    pies_3 = int(input(\"Ingrese la cantidad de Pies^3 a convertir: \"))\n",
        "    metros_3 = pies_3 * 0.02382\n",
        "    print(pies_3, \"Pies^3 equivalen a: \", metros_3,\" Metros^3\")\n",
        "\n",
        "#Yardas^3 a Metros^3\n",
        "  elif opcion_submenu == 2:\n",
        "    print(\"-----------------------------------------------------------------------------\")\n",
        "    yardas_3 = int(input(\"Ingrese la cantidad de Yardas^3 a convertir: \"))\n",
        "    metros_3 = yardas_3 * 0.7646\n",
        "    print(yardas_3, \"Yardas equivalen a: \", metros_3,\" Metros\")\n",
        "\n",
        "#Galon a Litro\n",
        "  elif opcion_submenu == 3:\n",
        "    print(\"-----------------------------------------------------------------------------\")\n",
        "    galon = int(input(\"Ingrese la cantidad de Galon a convertir: \"))\n",
        "    litro = galon * 3.785\n",
        "    print(galon, \"Galon equivalen a: \", litro,\" Litro\")\n",
        "\n",
        "#Pies^3 a Pulgadas^3\n",
        "  elif opcion_submenu == 4:\n",
        "    print(\"-----------------------------------------------------------------------------\")\n",
        "    pies_3 = int(input(\"Ingrese la cantidad de Pies^3 a convertir: \"))\n",
        "    pulgadas_3 = pies_3 * 1728\n",
        "    print(pies_3, \"Pies^3 equivalen a: \", pulgadas_3,\" Pulgadas^3\")\n",
        "\n",
        "#Tazas a Cucharadas\n",
        "  elif opcion_submenu == 5:\n",
        "    print(\"-----------------------------------------------------------------------------\")\n",
        "    tazas = int(input(\"Ingrese la cantidad de Tazas a convertir: \"))\n",
        "    cucharadas = tazas * 16.231\n",
        "    print(tazas, \"Tazas equivalen a: \", cucharadas,\" Cucharadas\")\n",
        "\n",
        "#Pinta a Litro\n",
        "  elif opcion_submenu == 6:\n",
        "    print(\"-----------------------------------------------------------------------------\")\n",
        "    pinta = int(input(\"Ingrese la cantidad de Pintas a convertir: \"))\n",
        "    litro = pinta / 2.113\n",
        "    print(pinta, \"Pintas equivalen a: \", litro,\" Litros\")\n",
        "\n",
        "#Metro^3 a Pulgada^3\n",
        "  elif opcion_submenu == 7:\n",
        "    print(\"-----------------------------------------------------------------------------\")\n",
        "    metro_3 = int(input(\"Ingrese la cantidad de Metros^3 a convertir: \"))\n",
        "    pulgada_3 = metro_3 * 61020\n",
        "    print(metro_3, \"Metros^3 equivalen a: \", pulgada_3,\" Pulgadas^3\")\n",
        "\n",
        "#Taza a Litro\n",
        "  elif opcion_submenu == 8:\n",
        "    print(\"-----------------------------------------------------------------------------\")\n",
        "    taza = int(input(\"Ingrese la cantidad de Tazas a convertir: \"))\n",
        "    litro = taza * 4.167\n",
        "    print(taza, \"Tazas equivalen a: \", litro,\" Litros\")\n",
        "\n",
        "#Onza al Mililitro\n",
        "  elif opcion_submenu == 9:\n",
        "    print(\"-----------------------------------------------------------------------------\")\n",
        "    onza = int(input(\"Ingrese la cantidad de Onzas a convertir: \"))\n",
        "    mililitro = onza * 29.574\n",
        "    print(onza, \"Onzas equivalen a: \", mililitro,\" Mililitros\")\n",
        "\n",
        "#Cucharadas a Mililitros\n",
        "  elif opcion_submenu == 10:\n",
        "    print(\"-----------------------------------------------------------------------------\")\n",
        "    cucharadas = int(input(\"Ingrese la cantidad de Cucharadas a convertir: \"))\n",
        "    mililitros = cucharadas * 0.45359\n",
        "    print(cucharadas, \"Cucharadas equivalen a: \", mililitros,\" Mililitros\")\n",
        "\n",
        "  else: \n",
        "    print(\"La opcion que escogio no existe\")\n",
        "\n",
        "#_______________________________________________________________________________________________________________\n",
        "#MEDIDAD DE MASA\n",
        "elif opcion_medida == 3:\n",
        "  print (\"\\n***MEDIDAS DE MASA***\")\n",
        "  opcion_submenu = int(input(\"1. Onzas a Gramos \\n\"\n",
        "                             \"2. Libras a Kilogramos \\n\"\n",
        "                             \"3. Toneladas a Onzas \\n\"\n",
        "                             \"4. Gramos a Miligramos \\n\"\n",
        "                             \"5. Toneladas a Libras \\n\"\n",
        "                             \"6. Onzas a Libras  \\n\"\n",
        "                             \"7. Toneladas a Kilogramos \\n\"\n",
        "                             \"8. Kilogramos a Libras \\n\"\n",
        "                             \"9. Libras a Gramos \\n\"\n",
        "                             \"10. Gramos a Libras\\n\"\n",
        "                             \"Escoja la pcion que desea: \"))\n",
        "#Onzas a Gramos\n",
        "  if opcion_submenu == 1:\n",
        "    print(\"-----------------------------------------------------------------------------\")\n",
        "    onzas = int(input(\"Ingrese la cantidad de Onzas a convertir: \"))\n",
        "    gramos = onzas * 28.35\n",
        "    print(onzas, \"Onzas equivalen a: \", gramos,\" Gramos\")\n",
        "\n",
        "#Libras a Kilogramos\n",
        "  elif opcion_submenu == 2:\n",
        "    print(\"-----------------------------------------------------------------------------\")\n",
        "    libras = int(input(\"Ingrese la cantidad de Libras a convertir: \"))\n",
        "    kilogramos = libras * 0.45359\n",
        "    print(libras, \"Libras equivalen a: \", kilogramos,\" Kilogramos\")\n",
        "\n",
        "#Toneladas a Onzas\n",
        "  elif opcion_submenu == 3:\n",
        "    print(\"-----------------------------------------------------------------------------\")\n",
        "    tonelada = int(input(\"Ingrese la cantidad de Toneladas a convertir: \"))\n",
        "    onza = tonelada * 35270\n",
        "    print(tonelada, \"Toneladas equivalen a: \", onza,\" Onzas\")\n",
        "\n",
        "#Gramos a Miligramos\n",
        "  elif opcion_submenu == 4:\n",
        "    print(\"-----------------------------------------------------------------------------\")\n",
        "    gramo = int(input(\"Ingrese la cantidad de Gramos a convertir: \"))\n",
        "    miligramo = gramo * 1000\n",
        "    print(gramo, \"Gramos equivalen a: \", miligramo ,\" Miligramos\")\n",
        "\n",
        "#Toneladas a Libras\n",
        "  elif opcion_submenu == 5:\n",
        "    print(\"-----------------------------------------------------------------------------\")\n",
        "    toneladas = int(input(\"Ingrese la cantidad de Toneladas a convertir: \"))\n",
        "    libras = toneladas * 2240\n",
        "    print(toneladas, \"Toneladas equivalen a: \", libras,\" Libras\")\n",
        "\n",
        "#Onzas a Libras \n",
        "  elif opcion_submenu == 6:\n",
        "    print(\"-----------------------------------------------------------------------------\")\n",
        "    onzas = int(input(\"Ingrese la cantidad de Onzas a convertir: \"))\n",
        "    libras = onzas / 16\n",
        "    print(onzas, \"Onzas equivalen a: \", libras,\" Libras\")\n",
        "\n",
        "#Toneladas a Kilogramos\n",
        "  elif opcion_submenu == 7:\n",
        "    print(\"-----------------------------------------------------------------------------\")\n",
        "    toneladas = int(input(\"Ingrese la cantidad de Toneladas a convertir: \"))\n",
        "    kilogramos = toneladas * 1000\n",
        "    print(toneladas, \"Toneladas equivalen a: \", kilogramos,\" Kilogramos\")\n",
        "\n",
        "#Kilogramos a Libras\n",
        "  elif opcion_submenu == 8:\n",
        "    print(\"-----------------------------------------------------------------------------\")\n",
        "    kilogramos = int(input(\"Ingrese la cantidad de Kilogramos a convertir: \"))\n",
        "    libras = kilogramos * 2.205\n",
        "    print(kilogramos, \"Kilogramos equivalen a: \", libras,\" Libras\")\n",
        "\n",
        "#Libras a Gramos\n",
        "  elif opcion_submenu == 9:\n",
        "    print(\"-----------------------------------------------------------------------------\")\n",
        "    libras = int(input(\"Ingrese la cantidad de Libras a convertir: \"))\n",
        "    gramos = libras * 453.6\n",
        "    print(libras, \"Libras equivalen a: \", gramos,\" Gramos\")\n",
        "\n",
        "#Gramos a Libras\n",
        "  elif opcion_submenu == 10:\n",
        "    print(\"-----------------------------------------------------------------------------\")\n",
        "    gramos = int(input(\"Ingrese la cantidad de Gramos a convertir: \"))\n",
        "    libras = gramos / 453.6\n",
        "    print(gramos, \"Gramos equivalen a: \", libras,\" Libras\")\n",
        "\n",
        "  else: \n",
        "    print(\"La opcion que escogio no existe\")\n",
        "\n",
        "#_______________________________________________________________________________________________________________\n",
        "#MEDIDAD DE ALMACCENAMIENTO\n",
        "elif opcion_medida == 4:\n",
        "  print (\"\\n***MEDIDAS DE ALMACENAMIENTO***\")\n",
        "  opcion_submenu = int(input(\"1. Megabyte a Gigabyte \\n\"\n",
        "                             \"2. Gigabyte a Terabite \\n\"\n",
        "                             \"3. Byte a kilobyte \\n\"\n",
        "                             \"4. Kibibyte a kilobyte \\n\"\n",
        "                             \"5. Gigabyte a Gibibyte \\n\"\n",
        "                             \"6. Petabit a Gibibyte \\n\"\n",
        "                             \"7. Tebibit a Gibibyte \\n\"\n",
        "                             \"8. Terabyte a Gigabyte \\n\"\n",
        "                             \"9. Mebibyte a Kibibyte \\n\"\n",
        "                             \"10. Gramos a Libras\\n\"\n",
        "                             \"Escoja la pcion que desea: \"))\n",
        "\n",
        "#Megabyte a Gigabyte\n",
        "  if opcion_submenu == 1:\n",
        "    print(\"-----------------------------------------------------------------------------\")\n",
        "    Megabyte = int(input(\"Ingrese la cantidad de Megabyte a convertir: \"))\n",
        "    Gigabyte = Megabyte / 1000\n",
        "    print(Megabyte, \"Megabyte equivalen a: \", Gigabyte,\" Gigabyte\")\n",
        "\n",
        "#Gigabyte a Terabite\n",
        "  elif opcion_submenu == 2:\n",
        "    print(\"-----------------------------------------------------------------------------\")\n",
        "    Gigabyte = int(input(\"Ingrese la cantidad de Gigabyte a convertir: \"))\n",
        "    Terabite = Gigabyte / 125\n",
        "    print(Gigabyte, \"Gigabyte equivalen a: \", Terabite,\" Terabite\")\n",
        "\n",
        "#Byte a kilobyte\n",
        "  elif opcion_submenu == 3:\n",
        "    print(\"-----------------------------------------------------------------------------\")\n",
        "    Byte = int(input(\"Ingrese la cantidad de Byte a convertir: \"))\n",
        "    kilobyte = Byte / 1000\n",
        "    print(Byte, \"Byte equivalen a: \", kilobyte,\" kilobyte\")\n",
        "\n",
        "#Kibibyte a kilobyte\n",
        "  elif opcion_submenu == 4:\n",
        "    print(\"-----------------------------------------------------------------------------\")\n",
        "    Kibibyte = int(input(\"Ingrese la cantidad de Kibibyte a convertir: \"))\n",
        "    kilobyte = Kibibyte * 1.024\n",
        "    print(Kibibyte, \"Kibibyte equivalen a: \", kilobyte,\" kilobyte\")\n",
        "\n",
        "#Gigabyte a Gibibyte\n",
        "  elif opcion_submenu == 5:\n",
        "    print(\"-----------------------------------------------------------------------------\")\n",
        "    Gigabyte = int(input(\"Ingrese la cantidad de Gigabyte a convertir: \"))\n",
        "    Gibibyte = Gigabyte / 1.074\n",
        "    print(Gigabyte, \"Gigabyte equivalen a: \", Gibibyte,\" Gibibyte\")\n",
        "\n",
        "#Petabit a Gibibyte\n",
        "  elif opcion_submenu == 6:\n",
        "    print(\"-----------------------------------------------------------------------------\")\n",
        "    Petabit = int(input(\"Ingrese la cantidad de Petabit a convertir: \"))\n",
        "    Gibibyte = Petabit * 116400\n",
        "    print(Petabit, \"Petabit equivalen a: \", Gibibyte,\" Gibibyte\")\n",
        "\n",
        "#Tebibit a Gibibyte\n",
        "  elif opcion_submenu == 7:\n",
        "    print(\"-----------------------------------------------------------------------------\")\n",
        "    Tebibit = int(input(\"Ingrese la cantidad de Tebibit a convertir: \"))\n",
        "    Gibibyte = Tebibit * 128\n",
        "    print(Tebibit, \"Tebibit equivalen a: \", Gibibyte,\" Gibibyte\")\n",
        "\n",
        "#Terabyte a Gigabyte\n",
        "  elif opcion_submenu == 8:\n",
        "    print(\"-----------------------------------------------------------------------------\")\n",
        "    Terabyte = int(input(\"Ingrese la cantidad de Terabyte a convertir: \"))\n",
        "    Gigabyte = Terabyte * 1000\n",
        "    print(Terabyte, \"Terabyte equivalen a: \", Gigabyte,\" Gigabyte\")\n",
        "\n",
        "#Mebibyte a Kibibyte\n",
        "  elif opcion_submenu == 9:\n",
        "    print(\"-----------------------------------------------------------------------------\")\n",
        "    Mebibyte = int(input(\"Ingrese la cantidad de Mebibyte a convertir: \"))\n",
        "    Kibibyte = Mebibyte * 1024\n",
        "    print(Mebibyte, \"Mebibyte equivalen a: \", Kibibyte,\" Kibibyte\")\n",
        "\n",
        "#Mebibit a Gibibyte\n",
        "  elif opcion_submenu == 10:\n",
        "    print(\"-----------------------------------------------------------------------------\")\n",
        "    Mebibit = int(input(\"Ingrese la cantidad de Mebibit a convertir: \"))\n",
        "    Gibibyte = Mebibit / 8192\n",
        "    print(Mebibit, \"Mebibit equivalen a: \", Gibibyte,\" Gibibyte\")\n",
        "\n",
        "  else: \n",
        "    print(\"La opcion que escogio no existe\")\n",
        "\n",
        "#_______________________________________________________________________________________________________________\n",
        "#MEDIDAD DE TIEMPO\n",
        "elif opcion_medida == 5:\n",
        "  print (\"\\n***MEDIDAS DE TIEMPO***\")\n",
        "  opcion_submenu = int(input(\"1. Dias a Minutos \\n\"\n",
        "                             \"2. Segundos a Minutos \\n\"\n",
        "                             \"3. Horas a Segundos \\n\"\n",
        "                             \"4. Semanas a Segundos \\n\"\n",
        "                             \"5. Meses a Semanas \\n\"\n",
        "                             \"6. Años a Meses \\n\"\n",
        "                             \"7. Años a Dias \\n\"\n",
        "                             \"8. Años a Decada \\n\"\n",
        "                             \"9. Segundos a Milisegundos \\n\"\n",
        "                             \"10. Decadas a Siglos \\n\"\n",
        "                             \"Escoja la pcion que desea: \"))\n",
        "\n",
        "#Dias a Minutos\n",
        "  if opcion_submenu == 1:\n",
        "    print(\"-----------------------------------------------------------------------------\")\n",
        "    Dia = int(input(\"Ingrese la cantidad de Dias a convertir: \"))\n",
        "    Minuto = Dia * 1440\n",
        "    print(Dia, \"Dia equivalen a: \", Minuto,\" Minuto\")\n",
        "\n",
        "#Segundos a Minutos\n",
        "  elif opcion_submenu == 2:\n",
        "    print(\"-----------------------------------------------------------------------------\")\n",
        "    Segundo = int(input(\"Ingrese la cantidad de Segundos a convertir: \"))\n",
        "    Minuto = Segundo / 60\n",
        "    print(Segundo, \"Segundo equivalen a: \", Minuto,\" Minuto\")\n",
        "\n",
        "#Horas a Segundos\n",
        "  elif opcion_submenu == 3:\n",
        "    print(\"-----------------------------------------------------------------------------\")\n",
        "    Horas = int(input(\"Ingrese la cantidad de Horas a convertir: \"))\n",
        "    Segundos = Horas / 60\n",
        "    print(Horas, \"Horas equivalen a: \", Segundos,\" Segundos\")\n",
        "\n",
        "#Semanas a Segundos\n",
        "  elif opcion_submenu == 4:\n",
        "    print(\"-----------------------------------------------------------------------------\")\n",
        "    Semanas = int(input(\"Ingrese la cantidad de Semanas a convertir: \"))\n",
        "    Segundos = Semanas * 604800\n",
        "    print(Semanas, \"Semanas equivalen a: \", Segundos,\" Segundos\")\n",
        "\n",
        "#Meses a Semanas\n",
        "  elif opcion_submenu == 5:\n",
        "    print(\"-----------------------------------------------------------------------------\")\n",
        "    Meses = int(input(\"Ingrese la cantidad de Meses a convertir: \"))\n",
        "    Semanas = Meses * 4.345\n",
        "    print(Meses, \"Meses equivalen a: \", Semanas,\" Semanas\")\n",
        "\n",
        "#Años a Meses\n",
        "  elif opcion_submenu == 6:\n",
        "    print(\"-----------------------------------------------------------------------------\")\n",
        "    Años = int(input(\"Ingrese la cantidad de Años a convertir: \"))\n",
        "    Meses = Años * 12\n",
        "    print(Años, \"Años equivalen a: \", Meses,\" Meses\")\n",
        "\n",
        "#Años a Dias\n",
        "  elif opcion_submenu == 7:\n",
        "    print(\"-----------------------------------------------------------------------------\")\n",
        "    Años = int(input(\"Ingrese la cantidad de Años a convertir: \"))\n",
        "    Dias = Años * 365\n",
        "    print(Años, \"Años equivalen a: \", Dias,\" Dias\")\n",
        "\n",
        "#Años a Decada\n",
        "  elif opcion_submenu == 8:\n",
        "    print(\"-----------------------------------------------------------------------------\")\n",
        "    Años = int(input(\"Ingrese la cantidad de Años a convertir: \"))\n",
        "    Decada = Años / 10\n",
        "    print(Años, \"Años equivalen a: \", Decada,\" Decada\")\n",
        "\n",
        "#Segundos a Milisegundos\n",
        "  elif opcion_submenu == 9:\n",
        "    print(\"-----------------------------------------------------------------------------\")\n",
        "    Segundos = int(input(\"Ingrese la cantidad de Segundos a convertir: \"))\n",
        "    Milisegundos = Segundos * 1000\n",
        "    print(Segundos, \"Segundos equivalen a: \", Milisegundos,\" Milisegundos\")\n",
        "\n",
        "#Decadas a Siglos\n",
        "  elif opcion_submenu == 10:\n",
        "    print(\"-----------------------------------------------------------------------------\")\n",
        "    Decadas = int(input(\"Ingrese la cantidad de Decadas a convertir: \"))\n",
        "    Siglos = Decadas / 10\n",
        "    print(Decadas, \"Decadas equivalen a: \", Siglos,\" Siglos\")\n",
        "\n",
        "  else:\n",
        "   print(\"La opcion que escogio no existe\")\n",
        "\n",
        "#_______________________________________________________________________________________________________________\n",
        "#MEDIDAD DE AREA\n",
        "elif opcion_medida == 6:\n",
        "  print (\"\\n***MEDIDAS DE AREA***\")\n",
        "  opcion_submenu = int(input(\"1. Metros^2 a Pulgadas^2 \\n\"\n",
        "                             \"2. Millas^2 a Kilometros^2 \\n\"\n",
        "                             \"3. Yardas^2 a Pies^2 \\n\"\n",
        "                             \"4. Kilometros^2 a Hectareas \\n\"\n",
        "                             \"5. Kilometros^2 a Acres \\n\"\n",
        "                             \"6. Herctareas a Acres \\n\"\n",
        "                             \"7. Pulgadas^2 a Pies^2 \\n\"\n",
        "                             \"8. Yardas^2 a Metros^2 \\n\"\n",
        "                             \"9. Metros^2 a Yardas^2 \\n\"\n",
        "                             \"10. Metros^2 a Pies^2 \\n\"\n",
        "                             \"Escoja la pcion que desea: \"))\n",
        "\n",
        "#Metros^2 a Pulgadas^2\n",
        "  if opcion_submenu == 1:\n",
        "    print(\"-----------------------------------------------------------------------------\")\n",
        "    metro_2 = int(input(\"Ingrese la cantidad de Metros^2 a convertir: \"))\n",
        "    pulgada_2 = metro_2 * 1550\n",
        "    print(metro_2, \"Metros^2 equivalen a: \", pulgada_2,\" Pulgadas^2\")\n",
        "\n",
        "#Millas^2 a Kilometros^2\n",
        "  if opcion_submenu == 2:\n",
        "    print(\"-----------------------------------------------------------------------------\")\n",
        "    Millas_2 = int(input(\"Ingrese la cantidad de Millas^2 a convertir: \"))\n",
        "    Kilometros_2 = Millas_2 * 2.59\n",
        "    print(Millas_2, \"Millas^2 equivalen a: \", Kilometros_2,\" Kilometros^2\")\n",
        "\n",
        "#Yardas^2 a Pies^2\n",
        "  if opcion_submenu == 3:\n",
        "    print(\"-----------------------------------------------------------------------------\")\n",
        "    Yardas_2 = int(input(\"Ingrese la cantidad de Yardas^2 a convertir: \"))\n",
        "    Pies_2 = Yardas_2 * 9\n",
        "    print(Yardas_2, \"Yardas^2 equivalen a: \", Pies_2,\" Pies^2\")\n",
        "\n",
        "#Kilometros^2 a Hectareas\n",
        "  if opcion_submenu == 4:\n",
        "    print(\"-----------------------------------------------------------------------------\")\n",
        "    Kilometros_2 = int(input(\"Ingrese la cantidad de Kilometros^2 a convertir: \"))\n",
        "    Hectareas = Kilometros_2 * 100\n",
        "    print(Kilometros_2, \"Kilometros^2 equivalen a: \", Hectareas,\" Hectareas\")\n",
        "\n",
        "#Kilometros^2 a Acres\n",
        "  if opcion_submenu == 5:\n",
        "    print(\"-----------------------------------------------------------------------------\")\n",
        "    Kilometros_2 = int(input(\"Ingrese la cantidad de Kilometros^2 a convertir: \"))\n",
        "    Acre = Kilometros_2 * 247.1\n",
        "    print(Kilometros_2, \"Kilometros^2 equivalen a: \", Acre,\" Acre\")\n",
        "\n",
        "#Herctareas a Acres\n",
        "  if opcion_submenu == 6:\n",
        "    print(\"-----------------------------------------------------------------------------\")\n",
        "    Herctareas = int(input(\"Ingrese la cantidad de Herctareas a convertir: \"))\n",
        "    Acre = Herctareas * 2.471\n",
        "    print(Herctareas, \"Herctareas equivalen a: \", Acre,\" Acre\")\n",
        "\n",
        "#Pulgadas^2 a Pies^2\n",
        "  if opcion_submenu == 7:\n",
        "    print(\"-----------------------------------------------------------------------------\")\n",
        "    Pulgadas_2 = int(input(\"Ingrese la cantidad de Pulgadas^2 a convertir: \"))\n",
        "    Pies_2 = Pulgadas_2 / 144\n",
        "    print(Pulgadas_2, \"Pulgadas^2 equivalen a: \", Pies_2,\" Pies^2\")\n",
        "\n",
        "#Yardas^2 a Metros^2\n",
        "  if opcion_submenu == 8:\n",
        "    print(\"-----------------------------------------------------------------------------\")\n",
        "    Yardas_2 = int(input(\"Ingrese la cantidad de Yardas^2 a convertir: \"))\n",
        "    Metros_2 = Yardas_2 / 1.196\n",
        "    print(Yardas_2, \"Yardas^2 equivalen a: \", Metros_2,\" Metros^2\")\n",
        "\n",
        "#Metros^2 a Yardas^2\n",
        "  if opcion_submenu == 9:\n",
        "    print(\"-----------------------------------------------------------------------------\")\n",
        "    Metros_2 = int(input(\"Ingrese la cantidad de Metros^2 a convertir: \"))\n",
        "    Yardas_2 = Metros_2 * 1.196\n",
        "    print(Metros_2, \"Metros^2 equivalen a: \", Yardas_2,\" Yardas^2\")\n",
        "\n",
        "#Metros^2 a Pies^2\n",
        "  if opcion_submenu == 10:\n",
        "    print(\"-----------------------------------------------------------------------------\")\n",
        "    Metros_2 = int(input(\"Ingrese la cantidad de Pies^2 a convertir: \"))\n",
        "    Pies_2 = Pies_2 * 10.764\n",
        "    print(Pies_2, \"Pies^2 equivalen a: \", Yardas_2,\" Yardas^2\")\n",
        "\n",
        "  else:\n",
        "   print(\"La opcion que escogio no existe\")\n",
        "\n",
        "else:\n",
        "  print(\"La opcion que escogio no existe\")"
      ],
      "metadata": {
        "colab": {
          "base_uri": "https://localhost:8080/"
        },
        "id": "I48aKXM9ADmq",
        "outputId": "f6926207-d414-4c0e-8bc4-58668e271f24"
      },
      "execution_count": null,
      "outputs": [
        {
          "output_type": "stream",
          "name": "stdout",
          "text": [
            "***MENU PRINCIPAL*** \n",
            "1. Medidas de Longitud \n",
            "2. Medidas Volumen \n",
            "3. Medidas de Masa \n",
            "4. Medidas de Almacenamiento \n",
            "5. MEdidas de Tiempo \n",
            "Escoja la pcion que desea: 5\n",
            "\n",
            "***MEDIDAS DE Alacenamiento***\n",
            "1. Dias a Minutos \n",
            "2. Segundos a Minutos \n",
            "3. Horas a Segundos \n",
            "4. Semanas a Segundos \n",
            "5. Meses a Semanas \n",
            "6. Años a Meses \n",
            "7. Años a Dias \n",
            "8. Años a Decada \n",
            "9. Segundos a Milisegundos \n",
            "10. Decadas a Siglos \n",
            "Escoja la pcion que desea: 9\n",
            "-----------------------------------------------------------------------------\n",
            "Ingrese la cantidad de Segundos a convertir: 30000\n",
            "30000 Segundos equivalen a:  30000000  Milisegundos\n"
          ]
        }
      ]
    },
    {
      "cell_type": "code",
      "source": [
        "#CAJAS A UNIDADES___________________________________________\n",
        "#Conversion de caja a unidades\n",
        "print(\"1 caja equivale a 25 unidades\")\n",
        "print(\"\")\n",
        "caja = float(input(\"Ingrese una cantidad de Cajas: \"))\n",
        "unidades = caja * 25\n",
        "print(caja,\"cajas equivalen a\",unidades,\"Unidades\")\n",
        "\n",
        "#Viseversa\n",
        "u = float(input(\"Ingrese una cantidad de Unidades: \"))\n",
        "c = u / 25\n",
        "print(u,\"Unidades equivalen a\",c,\"Cajas\")"
      ],
      "metadata": {
        "colab": {
          "base_uri": "https://localhost:8080/"
        },
        "id": "oAJBbCUpQuOj",
        "outputId": "884fad67-303f-48e8-ddae-25ac2bc7368a"
      },
      "execution_count": null,
      "outputs": [
        {
          "output_type": "stream",
          "name": "stdout",
          "text": [
            "1 caja equivale a 25 unidades\n",
            "\n",
            "Ingrese una cantidad de cajas: 5\n",
            "5.0 cajas equivalen a 125.0 unidades\n",
            "Ingrese una cantidad de unidades: 600\n",
            "600.0 unidades equivalen a 24.0 cajas\n"
          ]
        }
      ]
    },
    {
      "cell_type": "code",
      "source": [
        "#SACOS A LIBRAS___________________________________________\n",
        "#Conversion de Sacos a Libras\n",
        "print(\"1 Saco equivale a 25 Libras\")\n",
        "print(\"\")\n",
        "Saco = float(input(\"Ingrese una cantidad de Sacos: \"))\n",
        "Libras = Saco * 50\n",
        "print(Saco,\"Sacos equivalen a\",Libras,\"Libras\")\n",
        "\n",
        "#Viseversa\n",
        "l = float(input(\"Ingrese una cantidad de Libras: \"))\n",
        "s = l / 50\n",
        "print(l,\"Libras equivalen a\",s,\"Sacos\")"
      ],
      "metadata": {
        "colab": {
          "base_uri": "https://localhost:8080/"
        },
        "id": "5Ty11mTZRrAa",
        "outputId": "1ee01c1e-e292-4355-d55b-6ade93db7d1a"
      },
      "execution_count": null,
      "outputs": [
        {
          "output_type": "stream",
          "name": "stdout",
          "text": [
            "1 Saco equivale a 25 Libras\n",
            "\n",
            "Ingrese una cantidad de Sacos: 45\n",
            "45.0 Sacos equivalen a 2250.0 Libras\n",
            "Ingrese una cantidad de Libras: 50000\n",
            "50000.0 Libras equivalen a 1000.0 Sacos\n"
          ]
        }
      ]
    },
    {
      "cell_type": "code",
      "source": [
        "#FARDOS A UNIDADES___________________________________________\n",
        "#Conversion de Fardos a unidades\n",
        "print(\"1 Fardos equivale a 25 unidades\")\n",
        "print(\"\")\n",
        "Fardos = float(input(\"Ingrese una cantidad de Fardos: \"))\n",
        "unidades = Fardos * 5\n",
        "print(Fardos,\"Fardos equivalen a\",unidades,\"Unidades\")\n",
        "\n",
        "#Viseversa\n",
        "u = float(input(\"Ingrese una cantidad de Unidades: \"))\n",
        "f = u / 5\n",
        "print(u,\"Unidades equivalen a\",f,\"Fardos\")"
      ],
      "metadata": {
        "colab": {
          "base_uri": "https://localhost:8080/"
        },
        "id": "QFJobxNtSBdC",
        "outputId": "e268d251-59b5-483e-8e05-631ebccf8a96"
      },
      "execution_count": null,
      "outputs": [
        {
          "output_type": "stream",
          "name": "stdout",
          "text": [
            "1 Fardos equivale a 25 unidades\n",
            "\n",
            "Ingrese una cantidad de Fardos: 4\n",
            "4.0 Fardos equivalen a 20.0 unidades\n",
            "Ingrese una cantidad de unidades: 30\n",
            "30.0 unidades equivalen a 6.0 Fardos\n"
          ]
        }
      ]
    },
    {
      "cell_type": "code",
      "source": [
        "metros_consumidos = int(input(\"Ingrese la cantidad de metros consumidos: \"))\n",
        "def mc(a):\n",
        "  if a <= 18:\n",
        "    print(\"El valor a pagar segun los metros consumidos es de : $6.00\")\n",
        "  elif a <= 28:\n",
        "    excesom = float(a-18)\n",
        "    m = excesom * 0.45\n",
        "    total = m + 6.00\n",
        "    print(\"El valor a pagar segun los metros consumidos es de: \",total)\n",
        "\n",
        "  else:\n",
        "    exce = float (a-28)\n",
        "    c = exce * 0.65\n",
        "    total1 = c + 10.5\n",
        "    print(\"El valor a pagar segun los metros consumidos es de: \",total1)\n",
        "\n",
        "print(mc(metros_consumidos))"
      ],
      "metadata": {
        "id": "T4O9faUmYv2p",
        "outputId": "e414ddd0-1dcb-474d-d1ed-1adc0e47e686",
        "colab": {
          "base_uri": "https://localhost:8080/"
        }
      },
      "execution_count": null,
      "outputs": [
        {
          "output_type": "stream",
          "name": "stdout",
          "text": [
            "Ingrese la cantidad de metros consumidos: 50\n",
            "El valor a pagar segun los metros consumidos es de:  24.8\n",
            "None\n"
          ]
        }
      ]
    },
    {
      "cell_type": "code",
      "source": [
        "class deducciones:\n",
        "\n",
        "  def __init__(self,sueldo,porsentajeIsss, porentajeAfp,tablasIsrp):\n",
        "    self.sueldo = sueldo\n",
        "    self.porsentajeIsss = porsentajeIsss\n",
        "    self.porsentajeAfp = porsentajeAfp\n",
        "\n",
        "  def calcularIsss(self):\n",
        "    return self.sueldo * self.porsentajeIsss/100\n",
        "\n",
        "  def calcularAfp(self):  \n",
        "    return self.sueldo * self.porsentajeAfp/100\n",
        "\n",
        "  def calcularIsrp(self):\n",
        "    self.sueldoNeto = self.sueldo - (self.calcularIsss() + self.calcularAfp())\n",
        "    isr = 0\n",
        "    for tramo in self.tablasIsrp:\n",
        "      if self.sueldoNeto >= tramo[0] and self.sueldoNeto <= tramo[1]:\n",
        "        isr = (self.sueldoNeto - tramo [0]) * tramo[2] + tramo[3]\n",
        "    return isr\n",
        "\n"
      ],
      "metadata": {
        "id": "d87RL1wQ9Bx6"
      },
      "execution_count": null,
      "outputs": []
    },
    {
      "cell_type": "code",
      "source": [
        "#Personas\n",
        "porsentajeIsssP = 3\n",
        "porsentajeAfpP = 6.75\n",
        "\n",
        "tablasIsrp = [\n",
        "    [0.01, 472, 0, 0 ,0],\n",
        "    [472.01, 895.24, 0.1, 17.67],\n",
        "    [895.25, 2038.10, 0.2, 60],\n",
        "    [2038.11, 999999,0.30, 288.57]\n",
        "] "
      ],
      "metadata": {
        "id": "4qxHx7IeBeRZ"
      },
      "execution_count": null,
      "outputs": []
    },
    {
      "cell_type": "code",
      "source": [
        "#Empresas\n",
        "porsentajeIsssE = 7.5\n",
        "porsentajeAfpE = 7.75"
      ],
      "metadata": {
        "id": "06NCM0T7BgOg"
      },
      "execution_count": null,
      "outputs": []
    },
    {
      "cell_type": "markdown",
      "source": [
        "#Temperatura\n"
      ],
      "metadata": {
        "id": "0fzVi4hD-dsK"
      }
    },
    {
      "cell_type": "code",
      "source": [
        "import tensorflow as tf\n",
        "import matplotlib.pyplot as plt\n",
        "import pandas as pd\n",
        "import seaborn as sb "
      ],
      "metadata": {
        "id": "tR93Muof-cFO"
      },
      "execution_count": null,
      "outputs": []
    },
    {
      "cell_type": "code",
      "source": [
        "temperatura = pd.read_csv('/content/temperatura.csv', sep = \",\")\n",
        "print (temperatura)"
      ],
      "metadata": {
        "id": "H0qjhR7B_LgA",
        "outputId": "f6c825d7-8bc1-4f3a-e56a-ad22bd286a6a",
        "colab": {
          "base_uri": "https://localhost:8080/"
        }
      },
      "execution_count": null,
      "outputs": [
        {
          "output_type": "stream",
          "name": "stdout",
          "text": [
            "     c       k\n",
            "0  -40  233.15\n",
            "1  -30  243.15\n",
            "2  -20  253.15\n",
            "3  -10  263.15\n",
            "4   -5  268.15\n",
            "5   -4  269.15\n",
            "6   -3  270.15\n",
            "7   -2  271.15\n",
            "8   -1  272.15\n",
            "9    0  273.15\n",
            "10   1  274.15\n",
            "11   2  275.15\n",
            "12   3  276.15\n",
            "13   4  277.15\n",
            "14   5  278.15\n",
            "15  10  283.15\n",
            "16  20  293.15\n",
            "17  30  303.15\n",
            "18  40  313.15\n"
          ]
        }
      ]
    },
    {
      "cell_type": "code",
      "source": [
        "c = temperatura[\"c\"]\n",
        "k = temperatura[\"k\"]"
      ],
      "metadata": {
        "id": "PYG1IKNLA0XB"
      },
      "execution_count": null,
      "outputs": []
    },
    {
      "cell_type": "code",
      "source": [
        "sb.scatterplot(c,k)\n",
        "plt.show()"
      ],
      "metadata": {
        "id": "vbHfvfqoA8T_"
      },
      "execution_count": null,
      "outputs": []
    },
    {
      "cell_type": "code",
      "source": [
        "modelo = tf.keras.Sequential()\n",
        "modelo.add(tf.keras.layers.Dense(units = 1, input_shape = [1]))"
      ],
      "metadata": {
        "id": "tUd1XHTkBLFB"
      },
      "execution_count": null,
      "outputs": []
    },
    {
      "cell_type": "code",
      "source": [
        "modelo.compile(optimizer = tf.keras.optimizers.Adam(1), loss = \"mean_squared_error\")"
      ],
      "metadata": {
        "id": "SwTdsyN8CFK8"
      },
      "execution_count": null,
      "outputs": []
    },
    {
      "cell_type": "code",
      "source": [
        "epocas = modelo.fit(c,k, epochs = 100, verbose = 1)"
      ],
      "metadata": {
        "id": "vpNiQ2oaCujp"
      },
      "execution_count": null,
      "outputs": []
    },
    {
      "cell_type": "code",
      "source": [
        "resp = modelo.predict([40])\n",
        "print(resp)"
      ],
      "metadata": {
        "id": "Gas77qVKEP5y",
        "outputId": "62e2c271-b087-4174-8164-4a6f78fa2685",
        "colab": {
          "base_uri": "https://localhost:8080/"
        }
      },
      "execution_count": null,
      "outputs": [
        {
          "output_type": "stream",
          "name": "stdout",
          "text": [
            "[[313.1496]]\n"
          ]
        }
      ]
    },
    {
      "cell_type": "code",
      "source": [
        "import tensorflow as tf\n",
        "import matplotlib.pyplot as plt\n",
        "import numpy as np\n",
        "import math\n",
        "import tensorflow_datasets as tfds"
      ],
      "metadata": {
        "id": "9Nm7E81IDLXU"
      },
      "execution_count": 1,
      "outputs": []
    },
    {
      "cell_type": "code",
      "source": [
        "#2. Cargamos el dataset\n",
        "dataset, metadata = tfds.load('mnist', as_supervised=True, with_info=True)\n",
        "#print(dataset[\"train\"])\n",
        "datos_entrenamiento, datos_prueba = dataset[\"train\"], dataset[\"test\"]"
      ],
      "metadata": {
        "id": "Za-v3YJ-Dtgh",
        "outputId": "93e81d4b-b282-444d-cff2-49de86218c7b",
        "colab": {
          "base_uri": "https://localhost:8080/",
          "height": 84,
          "referenced_widgets": [
            "4ffecb7971e24e128a596bf98e1b67d5",
            "7aad3da8c4b1486ba98f1fb618728caa",
            "a6a6e4e21c5e4c48a7c9b97b0890d3bb",
            "53798fb94838418c88bd77edbbfa4602",
            "c4574730b6c24b15b7385a7afe0aa166",
            "ba90ffc2d1fa43789a1b7ea014fefcd4",
            "543a6fd241ff4257a935ad3444d8fc74",
            "2216ceec66864ae9a6c99a970745bd54",
            "ba48c0d3a5e342d5b4226984596d7d63",
            "4f55a4d33e0c4db080b0c13c6f10bf94",
            "9212e2fea717433185eec99dbd77e876"
          ]
        }
      },
      "execution_count": 2,
      "outputs": [
        {
          "output_type": "stream",
          "name": "stdout",
          "text": [
            "\u001b[1mDownloading and preparing dataset 11.06 MiB (download: 11.06 MiB, generated: 21.00 MiB, total: 32.06 MiB) to ~/tensorflow_datasets/mnist/3.0.1...\u001b[0m\n"
          ]
        },
        {
          "output_type": "display_data",
          "data": {
            "text/plain": [
              "Dl Completed...:   0%|          | 0/4 [00:00<?, ? file/s]"
            ],
            "application/vnd.jupyter.widget-view+json": {
              "version_major": 2,
              "version_minor": 0,
              "model_id": "4ffecb7971e24e128a596bf98e1b67d5"
            }
          },
          "metadata": {}
        },
        {
          "output_type": "stream",
          "name": "stdout",
          "text": [
            "\u001b[1mDataset mnist downloaded and prepared to ~/tensorflow_datasets/mnist/3.0.1. Subsequent calls will reuse this data.\u001b[0m\n"
          ]
        }
      ]
    },
    {
      "cell_type": "code",
      "source": [
        "#monstrar una imagen...\n",
        "for img in datos_entrenamiento.take(1):\n",
        "  print(img)\n",
        "  img = img[0].numpy().reshape(1,28,28,1)\n",
        "  plt.grid(False)\n",
        "  plt.imshow(img[0, ..., 0], cmap=plt.cm.binary)"
      ],
      "metadata": {
        "id": "4puFcHtfFiNV",
        "outputId": "8cbcd24f-f6bb-4e5d-89e9-e6e8ad6d9176",
        "colab": {
          "base_uri": "https://localhost:8080/",
          "height": 1000
        }
      },
      "execution_count": 3,
      "outputs": [
        {
          "output_type": "stream",
          "name": "stdout",
          "text": [
            "(<tf.Tensor: shape=(28, 28, 1), dtype=uint8, numpy=\n",
            "array([[[  0],\n",
            "        [  0],\n",
            "        [  0],\n",
            "        [  0],\n",
            "        [  0],\n",
            "        [  0],\n",
            "        [  0],\n",
            "        [  0],\n",
            "        [  0],\n",
            "        [  0],\n",
            "        [  0],\n",
            "        [  0],\n",
            "        [  0],\n",
            "        [  0],\n",
            "        [  0],\n",
            "        [  0],\n",
            "        [  0],\n",
            "        [  0],\n",
            "        [  0],\n",
            "        [  0],\n",
            "        [  0],\n",
            "        [  0],\n",
            "        [  0],\n",
            "        [  0],\n",
            "        [  0],\n",
            "        [  0],\n",
            "        [  0],\n",
            "        [  0]],\n",
            "\n",
            "       [[  0],\n",
            "        [  0],\n",
            "        [  0],\n",
            "        [  0],\n",
            "        [  0],\n",
            "        [  0],\n",
            "        [  0],\n",
            "        [  0],\n",
            "        [  0],\n",
            "        [  0],\n",
            "        [  0],\n",
            "        [  0],\n",
            "        [  0],\n",
            "        [  0],\n",
            "        [  0],\n",
            "        [  0],\n",
            "        [  0],\n",
            "        [  0],\n",
            "        [  0],\n",
            "        [  0],\n",
            "        [  0],\n",
            "        [  0],\n",
            "        [  0],\n",
            "        [  0],\n",
            "        [  0],\n",
            "        [  0],\n",
            "        [  0],\n",
            "        [  0]],\n",
            "\n",
            "       [[  0],\n",
            "        [  0],\n",
            "        [  0],\n",
            "        [  0],\n",
            "        [  0],\n",
            "        [  0],\n",
            "        [  0],\n",
            "        [  0],\n",
            "        [  0],\n",
            "        [  0],\n",
            "        [  0],\n",
            "        [  0],\n",
            "        [  0],\n",
            "        [  0],\n",
            "        [  0],\n",
            "        [  0],\n",
            "        [  0],\n",
            "        [  0],\n",
            "        [  0],\n",
            "        [  0],\n",
            "        [  0],\n",
            "        [  0],\n",
            "        [  0],\n",
            "        [  0],\n",
            "        [  0],\n",
            "        [  0],\n",
            "        [  0],\n",
            "        [  0]],\n",
            "\n",
            "       [[  0],\n",
            "        [  0],\n",
            "        [  0],\n",
            "        [  0],\n",
            "        [  0],\n",
            "        [  0],\n",
            "        [  0],\n",
            "        [  0],\n",
            "        [  0],\n",
            "        [  0],\n",
            "        [  0],\n",
            "        [  0],\n",
            "        [  0],\n",
            "        [  0],\n",
            "        [  0],\n",
            "        [  0],\n",
            "        [  0],\n",
            "        [  0],\n",
            "        [  0],\n",
            "        [  0],\n",
            "        [  0],\n",
            "        [  0],\n",
            "        [  0],\n",
            "        [  0],\n",
            "        [  0],\n",
            "        [  0],\n",
            "        [  0],\n",
            "        [  0]],\n",
            "\n",
            "       [[  0],\n",
            "        [  0],\n",
            "        [  0],\n",
            "        [  0],\n",
            "        [  0],\n",
            "        [  0],\n",
            "        [  0],\n",
            "        [  0],\n",
            "        [  0],\n",
            "        [  0],\n",
            "        [  0],\n",
            "        [  0],\n",
            "        [  0],\n",
            "        [  0],\n",
            "        [  0],\n",
            "        [  0],\n",
            "        [  0],\n",
            "        [  0],\n",
            "        [  0],\n",
            "        [  0],\n",
            "        [  0],\n",
            "        [  0],\n",
            "        [  0],\n",
            "        [  0],\n",
            "        [  0],\n",
            "        [  0],\n",
            "        [  0],\n",
            "        [  0]],\n",
            "\n",
            "       [[  0],\n",
            "        [  0],\n",
            "        [  0],\n",
            "        [  0],\n",
            "        [  0],\n",
            "        [  0],\n",
            "        [  0],\n",
            "        [  0],\n",
            "        [  0],\n",
            "        [  0],\n",
            "        [  0],\n",
            "        [  0],\n",
            "        [  0],\n",
            "        [  0],\n",
            "        [  0],\n",
            "        [  0],\n",
            "        [  0],\n",
            "        [ 84],\n",
            "        [254],\n",
            "        [101],\n",
            "        [  0],\n",
            "        [  0],\n",
            "        [  0],\n",
            "        [  0],\n",
            "        [  0],\n",
            "        [  0],\n",
            "        [  0],\n",
            "        [  0]],\n",
            "\n",
            "       [[  0],\n",
            "        [  0],\n",
            "        [  0],\n",
            "        [  0],\n",
            "        [  0],\n",
            "        [  0],\n",
            "        [  0],\n",
            "        [  0],\n",
            "        [  0],\n",
            "        [  0],\n",
            "        [  0],\n",
            "        [  0],\n",
            "        [  0],\n",
            "        [  0],\n",
            "        [  0],\n",
            "        [  0],\n",
            "        [  0],\n",
            "        [174],\n",
            "        [253],\n",
            "        [119],\n",
            "        [  0],\n",
            "        [  0],\n",
            "        [  0],\n",
            "        [  0],\n",
            "        [  0],\n",
            "        [  0],\n",
            "        [  0],\n",
            "        [  0]],\n",
            "\n",
            "       [[  0],\n",
            "        [  0],\n",
            "        [  0],\n",
            "        [  0],\n",
            "        [  0],\n",
            "        [  0],\n",
            "        [  0],\n",
            "        [  0],\n",
            "        [  0],\n",
            "        [  0],\n",
            "        [  0],\n",
            "        [  0],\n",
            "        [  0],\n",
            "        [  0],\n",
            "        [  0],\n",
            "        [  0],\n",
            "        [ 31],\n",
            "        [247],\n",
            "        [202],\n",
            "        [ 29],\n",
            "        [  0],\n",
            "        [  0],\n",
            "        [  0],\n",
            "        [  0],\n",
            "        [  0],\n",
            "        [  0],\n",
            "        [  0],\n",
            "        [  0]],\n",
            "\n",
            "       [[  0],\n",
            "        [  0],\n",
            "        [  0],\n",
            "        [  0],\n",
            "        [  0],\n",
            "        [  0],\n",
            "        [  0],\n",
            "        [  0],\n",
            "        [  0],\n",
            "        [  1],\n",
            "        [  1],\n",
            "        [  0],\n",
            "        [  0],\n",
            "        [  0],\n",
            "        [  0],\n",
            "        [  0],\n",
            "        [141],\n",
            "        [253],\n",
            "        [168],\n",
            "        [  0],\n",
            "        [  0],\n",
            "        [  0],\n",
            "        [  0],\n",
            "        [  0],\n",
            "        [  0],\n",
            "        [  0],\n",
            "        [  0],\n",
            "        [  0]],\n",
            "\n",
            "       [[  0],\n",
            "        [  0],\n",
            "        [  0],\n",
            "        [  0],\n",
            "        [  0],\n",
            "        [  0],\n",
            "        [  0],\n",
            "        [  0],\n",
            "        [  0],\n",
            "        [ 66],\n",
            "        [208],\n",
            "        [ 56],\n",
            "        [  0],\n",
            "        [  0],\n",
            "        [  0],\n",
            "        [  0],\n",
            "        [186],\n",
            "        [253],\n",
            "        [120],\n",
            "        [  0],\n",
            "        [  0],\n",
            "        [  0],\n",
            "        [  0],\n",
            "        [  0],\n",
            "        [  0],\n",
            "        [  0],\n",
            "        [  0],\n",
            "        [  0]],\n",
            "\n",
            "       [[  0],\n",
            "        [  0],\n",
            "        [  0],\n",
            "        [  0],\n",
            "        [  0],\n",
            "        [  0],\n",
            "        [  0],\n",
            "        [  0],\n",
            "        [  0],\n",
            "        [ 57],\n",
            "        [253],\n",
            "        [119],\n",
            "        [  0],\n",
            "        [  0],\n",
            "        [  0],\n",
            "        [ 28],\n",
            "        [249],\n",
            "        [240],\n",
            "        [ 25],\n",
            "        [  0],\n",
            "        [  0],\n",
            "        [  0],\n",
            "        [  0],\n",
            "        [  0],\n",
            "        [  0],\n",
            "        [  0],\n",
            "        [  0],\n",
            "        [  0]],\n",
            "\n",
            "       [[  0],\n",
            "        [  0],\n",
            "        [  0],\n",
            "        [  0],\n",
            "        [  0],\n",
            "        [  0],\n",
            "        [  0],\n",
            "        [  0],\n",
            "        [  0],\n",
            "        [ 34],\n",
            "        [253],\n",
            "        [119],\n",
            "        [  0],\n",
            "        [  0],\n",
            "        [  0],\n",
            "        [109],\n",
            "        [254],\n",
            "        [197],\n",
            "        [  0],\n",
            "        [  0],\n",
            "        [  0],\n",
            "        [  0],\n",
            "        [  0],\n",
            "        [  0],\n",
            "        [  0],\n",
            "        [  0],\n",
            "        [  0],\n",
            "        [  0]],\n",
            "\n",
            "       [[  0],\n",
            "        [  0],\n",
            "        [  0],\n",
            "        [  0],\n",
            "        [  0],\n",
            "        [  0],\n",
            "        [  0],\n",
            "        [  0],\n",
            "        [  0],\n",
            "        [ 53],\n",
            "        [253],\n",
            "        [119],\n",
            "        [  0],\n",
            "        [  0],\n",
            "        [  0],\n",
            "        [135],\n",
            "        [254],\n",
            "        [133],\n",
            "        [  0],\n",
            "        [  0],\n",
            "        [  0],\n",
            "        [  0],\n",
            "        [  0],\n",
            "        [  0],\n",
            "        [  0],\n",
            "        [  0],\n",
            "        [  0],\n",
            "        [  0]],\n",
            "\n",
            "       [[  0],\n",
            "        [  0],\n",
            "        [  0],\n",
            "        [  0],\n",
            "        [  0],\n",
            "        [  0],\n",
            "        [  0],\n",
            "        [  0],\n",
            "        [  0],\n",
            "        [133],\n",
            "        [254],\n",
            "        [119],\n",
            "        [  0],\n",
            "        [  0],\n",
            "        [ 27],\n",
            "        [240],\n",
            "        [255],\n",
            "        [ 35],\n",
            "        [  0],\n",
            "        [  0],\n",
            "        [  0],\n",
            "        [  0],\n",
            "        [  0],\n",
            "        [  0],\n",
            "        [  0],\n",
            "        [  0],\n",
            "        [  0],\n",
            "        [  0]],\n",
            "\n",
            "       [[  0],\n",
            "        [  0],\n",
            "        [  0],\n",
            "        [  0],\n",
            "        [  0],\n",
            "        [  0],\n",
            "        [  0],\n",
            "        [  0],\n",
            "        [  7],\n",
            "        [235],\n",
            "        [253],\n",
            "        [208],\n",
            "        [151],\n",
            "        [169],\n",
            "        [215],\n",
            "        [253],\n",
            "        [206],\n",
            "        [  2],\n",
            "        [  0],\n",
            "        [  0],\n",
            "        [  0],\n",
            "        [  0],\n",
            "        [  0],\n",
            "        [  0],\n",
            "        [  0],\n",
            "        [  0],\n",
            "        [  0],\n",
            "        [  0]],\n",
            "\n",
            "       [[  0],\n",
            "        [  0],\n",
            "        [  0],\n",
            "        [  0],\n",
            "        [  0],\n",
            "        [  0],\n",
            "        [  0],\n",
            "        [  0],\n",
            "        [ 97],\n",
            "        [253],\n",
            "        [253],\n",
            "        [253],\n",
            "        [254],\n",
            "        [253],\n",
            "        [253],\n",
            "        [253],\n",
            "        [ 86],\n",
            "        [  0],\n",
            "        [  0],\n",
            "        [  0],\n",
            "        [  0],\n",
            "        [  0],\n",
            "        [  0],\n",
            "        [  0],\n",
            "        [  0],\n",
            "        [  0],\n",
            "        [  0],\n",
            "        [  0]],\n",
            "\n",
            "       [[  0],\n",
            "        [  0],\n",
            "        [  0],\n",
            "        [  0],\n",
            "        [  0],\n",
            "        [  0],\n",
            "        [  0],\n",
            "        [  0],\n",
            "        [150],\n",
            "        [244],\n",
            "        [145],\n",
            "        [119],\n",
            "        [101],\n",
            "        [ 82],\n",
            "        [253],\n",
            "        [253],\n",
            "        [ 14],\n",
            "        [  0],\n",
            "        [  0],\n",
            "        [  0],\n",
            "        [  0],\n",
            "        [  0],\n",
            "        [  0],\n",
            "        [  0],\n",
            "        [  0],\n",
            "        [  0],\n",
            "        [  0],\n",
            "        [  0]],\n",
            "\n",
            "       [[  0],\n",
            "        [  0],\n",
            "        [  0],\n",
            "        [  0],\n",
            "        [  0],\n",
            "        [  0],\n",
            "        [  0],\n",
            "        [  0],\n",
            "        [  0],\n",
            "        [  0],\n",
            "        [  0],\n",
            "        [  0],\n",
            "        [  0],\n",
            "        [ 84],\n",
            "        [254],\n",
            "        [172],\n",
            "        [  0],\n",
            "        [  0],\n",
            "        [  0],\n",
            "        [  0],\n",
            "        [  0],\n",
            "        [  0],\n",
            "        [  0],\n",
            "        [  0],\n",
            "        [  0],\n",
            "        [  0],\n",
            "        [  0],\n",
            "        [  0]],\n",
            "\n",
            "       [[  0],\n",
            "        [  0],\n",
            "        [  0],\n",
            "        [  0],\n",
            "        [  0],\n",
            "        [  0],\n",
            "        [  0],\n",
            "        [  0],\n",
            "        [  0],\n",
            "        [  0],\n",
            "        [  0],\n",
            "        [  0],\n",
            "        [  0],\n",
            "        [174],\n",
            "        [253],\n",
            "        [119],\n",
            "        [  0],\n",
            "        [  0],\n",
            "        [  0],\n",
            "        [  0],\n",
            "        [  0],\n",
            "        [  0],\n",
            "        [  0],\n",
            "        [  0],\n",
            "        [  0],\n",
            "        [  0],\n",
            "        [  0],\n",
            "        [  0]],\n",
            "\n",
            "       [[  0],\n",
            "        [  0],\n",
            "        [  0],\n",
            "        [  0],\n",
            "        [  0],\n",
            "        [  0],\n",
            "        [  0],\n",
            "        [  0],\n",
            "        [  0],\n",
            "        [  0],\n",
            "        [  0],\n",
            "        [  0],\n",
            "        [  0],\n",
            "        [237],\n",
            "        [252],\n",
            "        [ 56],\n",
            "        [  0],\n",
            "        [  0],\n",
            "        [  0],\n",
            "        [  0],\n",
            "        [  0],\n",
            "        [  0],\n",
            "        [  0],\n",
            "        [  0],\n",
            "        [  0],\n",
            "        [  0],\n",
            "        [  0],\n",
            "        [  0]],\n",
            "\n",
            "       [[  0],\n",
            "        [  0],\n",
            "        [  0],\n",
            "        [  0],\n",
            "        [  0],\n",
            "        [  0],\n",
            "        [  0],\n",
            "        [  0],\n",
            "        [  0],\n",
            "        [  0],\n",
            "        [  0],\n",
            "        [  0],\n",
            "        [ 50],\n",
            "        [241],\n",
            "        [182],\n",
            "        [  0],\n",
            "        [  0],\n",
            "        [  0],\n",
            "        [  0],\n",
            "        [  0],\n",
            "        [  0],\n",
            "        [  0],\n",
            "        [  0],\n",
            "        [  0],\n",
            "        [  0],\n",
            "        [  0],\n",
            "        [  0],\n",
            "        [  0]],\n",
            "\n",
            "       [[  0],\n",
            "        [  0],\n",
            "        [  0],\n",
            "        [  0],\n",
            "        [  0],\n",
            "        [  0],\n",
            "        [  0],\n",
            "        [  0],\n",
            "        [  0],\n",
            "        [  0],\n",
            "        [  0],\n",
            "        [  0],\n",
            "        [187],\n",
            "        [254],\n",
            "        [249],\n",
            "        [105],\n",
            "        [  0],\n",
            "        [  0],\n",
            "        [  0],\n",
            "        [  0],\n",
            "        [  0],\n",
            "        [  0],\n",
            "        [  0],\n",
            "        [  0],\n",
            "        [  0],\n",
            "        [  0],\n",
            "        [  0],\n",
            "        [  0]],\n",
            "\n",
            "       [[  0],\n",
            "        [  0],\n",
            "        [  0],\n",
            "        [  0],\n",
            "        [  0],\n",
            "        [  0],\n",
            "        [  0],\n",
            "        [  0],\n",
            "        [  0],\n",
            "        [  0],\n",
            "        [  0],\n",
            "        [  0],\n",
            "        [186],\n",
            "        [253],\n",
            "        [206],\n",
            "        [ 21],\n",
            "        [  0],\n",
            "        [  0],\n",
            "        [  0],\n",
            "        [  0],\n",
            "        [  0],\n",
            "        [  0],\n",
            "        [  0],\n",
            "        [  0],\n",
            "        [  0],\n",
            "        [  0],\n",
            "        [  0],\n",
            "        [  0]],\n",
            "\n",
            "       [[  0],\n",
            "        [  0],\n",
            "        [  0],\n",
            "        [  0],\n",
            "        [  0],\n",
            "        [  0],\n",
            "        [  0],\n",
            "        [  0],\n",
            "        [  0],\n",
            "        [  0],\n",
            "        [  0],\n",
            "        [  0],\n",
            "        [227],\n",
            "        [242],\n",
            "        [ 32],\n",
            "        [  0],\n",
            "        [  0],\n",
            "        [  0],\n",
            "        [  0],\n",
            "        [  0],\n",
            "        [  0],\n",
            "        [  0],\n",
            "        [  0],\n",
            "        [  0],\n",
            "        [  0],\n",
            "        [  0],\n",
            "        [  0],\n",
            "        [  0]],\n",
            "\n",
            "       [[  0],\n",
            "        [  0],\n",
            "        [  0],\n",
            "        [  0],\n",
            "        [  0],\n",
            "        [  0],\n",
            "        [  0],\n",
            "        [  0],\n",
            "        [  0],\n",
            "        [  0],\n",
            "        [  0],\n",
            "        [  0],\n",
            "        [236],\n",
            "        [219],\n",
            "        [  0],\n",
            "        [  0],\n",
            "        [  0],\n",
            "        [  0],\n",
            "        [  0],\n",
            "        [  0],\n",
            "        [  0],\n",
            "        [  0],\n",
            "        [  0],\n",
            "        [  0],\n",
            "        [  0],\n",
            "        [  0],\n",
            "        [  0],\n",
            "        [  0]],\n",
            "\n",
            "       [[  0],\n",
            "        [  0],\n",
            "        [  0],\n",
            "        [  0],\n",
            "        [  0],\n",
            "        [  0],\n",
            "        [  0],\n",
            "        [  0],\n",
            "        [  0],\n",
            "        [  0],\n",
            "        [  0],\n",
            "        [  0],\n",
            "        [  0],\n",
            "        [  0],\n",
            "        [  0],\n",
            "        [  0],\n",
            "        [  0],\n",
            "        [  0],\n",
            "        [  0],\n",
            "        [  0],\n",
            "        [  0],\n",
            "        [  0],\n",
            "        [  0],\n",
            "        [  0],\n",
            "        [  0],\n",
            "        [  0],\n",
            "        [  0],\n",
            "        [  0]],\n",
            "\n",
            "       [[  0],\n",
            "        [  0],\n",
            "        [  0],\n",
            "        [  0],\n",
            "        [  0],\n",
            "        [  0],\n",
            "        [  0],\n",
            "        [  0],\n",
            "        [  0],\n",
            "        [  0],\n",
            "        [  0],\n",
            "        [  0],\n",
            "        [  0],\n",
            "        [  0],\n",
            "        [  0],\n",
            "        [  0],\n",
            "        [  0],\n",
            "        [  0],\n",
            "        [  0],\n",
            "        [  0],\n",
            "        [  0],\n",
            "        [  0],\n",
            "        [  0],\n",
            "        [  0],\n",
            "        [  0],\n",
            "        [  0],\n",
            "        [  0],\n",
            "        [  0]],\n",
            "\n",
            "       [[  0],\n",
            "        [  0],\n",
            "        [  0],\n",
            "        [  0],\n",
            "        [  0],\n",
            "        [  0],\n",
            "        [  0],\n",
            "        [  0],\n",
            "        [  0],\n",
            "        [  0],\n",
            "        [  0],\n",
            "        [  0],\n",
            "        [  0],\n",
            "        [  0],\n",
            "        [  0],\n",
            "        [  0],\n",
            "        [  0],\n",
            "        [  0],\n",
            "        [  0],\n",
            "        [  0],\n",
            "        [  0],\n",
            "        [  0],\n",
            "        [  0],\n",
            "        [  0],\n",
            "        [  0],\n",
            "        [  0],\n",
            "        [  0],\n",
            "        [  0]]], dtype=uint8)>, <tf.Tensor: shape=(), dtype=int64, numpy=4>)\n"
          ]
        },
        {
          "output_type": "display_data",
          "data": {
            "text/plain": [
              "<Figure size 432x288 with 1 Axes>"
            ],
            "image/png": "[encoded data removed]"
          },
          "metadata": {
            "needs_background": "light"
          }
        }
      ]
    },
    {
      "cell_type": "code",
      "source": [
        "#3. #asignar las etiquetas son 10\n",
        "numeros_letras = [\"Cero\", \"Uno\", \"Dos\", \"Tres\", \"Cuatro\", \"Cinco\", \"Seis\", \"Siete\", \"Ocho\", \"Nueve\"]"
      ],
      "metadata": {
        "id": "8RwTT9vVGuMz"
      },
      "execution_count": 4,
      "outputs": []
    },
    {
      "cell_type": "code",
      "source": [
        "#4. obtener la cantidad de datos.\n",
        "#print(metadata)\n",
        "cantidad_numeros_entrenamiento = metadata.splits[\"train\"].num_examples\n",
        "cantidad_numeros_prueba = metadata.splits[\"test\"].num_examples\n",
        "print(cantidad_numeros_entrenamiento, cantidad_numeros_prueba)"
      ],
      "metadata": {
        "id": "2TvJxgcZLgVt",
        "outputId": "fb1a6d88-d2f7-4cb2-d397-d3838e4d06df",
        "colab": {
          "base_uri": "https://localhost:8080/"
        }
      },
      "execution_count": 5,
      "outputs": [
        {
          "output_type": "stream",
          "name": "stdout",
          "text": [
            "60000 10000\n"
          ]
        }
      ]
    },
    {
      "cell_type": "code",
      "source": [
        "#5. funcion normalizadora de los pixeles de 0 - 255 que sean valores de 0 - 1\n",
        "def normalizacion(img, label):\n",
        "  img = tf.cast(img, tf.float32)\n",
        "  img /= 255 #236/255 = 0.004237288\n",
        "  return img, label"
      ],
      "metadata": {
        "id": "k6dXo4wGLjdF"
      },
      "execution_count": 6,
      "outputs": []
    },
    {
      "cell_type": "code",
      "source": [
        "#6. Llamamos la funcion normlizadora\n",
        "datos_entrenamiento = datos_entrenamiento.map(normalizacion)\n",
        "datos_prueba = datos_prueba.map(normalizacion)\n",
        "\n",
        "#for img in datos_entrenamiento.take(1):\n",
        "  #print(img[0])#5.58150468e-08 => 0.0000000558150468"
      ],
      "metadata": {
        "id": "sicwtLr6LlDx"
      },
      "execution_count": 7,
      "outputs": []
    },
    {
      "cell_type": "code",
      "source": [
        "#7\n",
        "modelo = tf.keras.Sequential([\n",
        "    tf.keras.layers.Flatten(input_shape =(28,28,1)),\n",
        "    tf.keras.layers.Dense(64, activation = tf.nn.relu),\n",
        "    tf.keras.layers.Dense(64, activation = tf.nn.relu),\n",
        "    tf.keras.layers.Dense(10, activation = tf.nn.softmax)\n",
        "])"
      ],
      "metadata": {
        "id": "T7dvDBnRAZdZ"
      },
      "execution_count": 9,
      "outputs": []
    },
    {
      "cell_type": "code",
      "source": [
        "#8\n",
        "modelo.compile(\n",
        "    optimizer= \"adam\",\n",
        "    loss = \"sparse_categorical_crossentropy\",\n",
        "    metrics =['accuracy']\n",
        ")"
      ],
      "metadata": {
        "id": "Bf7yxs6aBUJN"
      },
      "execution_count": 10,
      "outputs": []
    },
    {
      "cell_type": "code",
      "source": [
        "#9\n",
        "size_lote = 32\n",
        "datos_entrenamiento = datos_entrenamiento.repeat().shuffle(cantidad_numeros_entrenamiento).batch(size_lote)\n",
        "datos_prueba = datos_prueba.repeat().shuffle(cantidad_numeros_prueba).batch(size_lote)"
      ],
      "metadata": {
        "id": "BiZDs2VVCKdv"
      },
      "execution_count": 15,
      "outputs": []
    },
    {
      "cell_type": "code",
      "source": [
        "#10\n",
        "modelo.fit(datos_entrenamiento,epochs= 5,\n",
        "           steps_per_epoch=math.ceil(cantidad_numeros_entrenamiento/size_lote))"
      ],
      "metadata": {
        "id": "SViPa7TyDYh_",
        "outputId": "802b6810-68da-4b22-d2f9-ff308ede4c16",
        "colab": {
          "base_uri": "https://localhost:8080/"
        }
      },
      "execution_count": 26,
      "outputs": [
        {
          "output_type": "stream",
          "name": "stdout",
          "text": [
            "Epoch 1/5\n",
            "1875/1875 [==============================] - 10s 4ms/step - loss: 0.0474 - accuracy: 0.9848\n",
            "Epoch 2/5\n",
            "1875/1875 [==============================] - 7s 4ms/step - loss: 0.0417 - accuracy: 0.9864\n",
            "Epoch 3/5\n",
            "1875/1875 [==============================] - 7s 4ms/step - loss: 0.0373 - accuracy: 0.9884\n",
            "Epoch 4/5\n",
            "1875/1875 [==============================] - 7s 4ms/step - loss: 0.0326 - accuracy: 0.9899\n",
            "Epoch 5/5\n",
            "1875/1875 [==============================] - 8s 4ms/step - loss: 0.0283 - accuracy: 0.9909\n"
          ]
        },
        {
          "output_type": "execute_result",
          "data": {
            "text/plain": [
              "<keras.callbacks.History at 0x7f6243d05050>"
            ]
          },
          "metadata": {},
          "execution_count": 26
        }
      ]
    },
    {
      "cell_type": "code",
      "source": [
        "test_loss,test_accuracy = modelo.evaluate(datos_prueba,steps=math.ceil(cantidad_numeros_prueba/size_lote))\n",
        "print(\"Resultados de las pruebas\", test_loss, test_accuracy) "
      ],
      "metadata": {
        "id": "IS-RQOZ-DvOQ",
        "outputId": "beaa6675-968e-40c8-c5da-1f3bd7760e0e",
        "colab": {
          "base_uri": "https://localhost:8080/"
        }
      },
      "execution_count": 25,
      "outputs": [
        {
          "output_type": "stream",
          "name": "stdout",
          "text": [
            "313/313 [==============================] - 1s 3ms/step - loss: 0.0915 - accuracy: 0.9722\n",
            "Resultados de las pruebas 0.0914793610572815 0.972244381904602\n"
          ]
        }
      ]
    },
    {
      "cell_type": "code",
      "source": [
        "def graficar_imagen(i,predictions_array,true_labels,images):\n",
        "  predictions_array,true_labels,img = predictions_array[i], true_labels[i],images[i]\n",
        "  plt.grid (False)\n",
        "  plt.xticks([])\n",
        "  plt.yticks([])\n",
        "  plt.imshow(img[...,0],cmap = plt.cm.binary)\n",
        "\n",
        "  predicted_label = np.argmax(predictions_array)\n",
        "  if predicted_label == true_labels:\n",
        "    color = \"blue\"\n",
        "  else:\n",
        "     plt.xlabel(\"prediccion: {}\".format(numeros_letras[predicted_label]), color=color)"
      ],
      "metadata": {
        "id": "ZhMtez_ZH6B7"
      },
      "execution_count": 43,
      "outputs": []
    },
    {
      "cell_type": "code",
      "source": [
        "for imagenes_prueba,etiquetas_prueba in datos_prueba.take(1):\n",
        "  imagenes_prueba = imagenes_prueba.numpy()\n",
        "  etiquetas_prueba = etiquetas_prueba.numpy()\n",
        "  predicciones = modelo.predict(imagenes_prueba)"
      ],
      "metadata": {
        "id": "6z3OuDnKKeIq"
      },
      "execution_count": 44,
      "outputs": []
    },
    {
      "cell_type": "code",
      "source": [
        "def graficar_valores_array(i, predictions_array,true_label):\n",
        "  predictions_array,true_label = predictions_array[i],true_label[i]\n",
        "  plt.grid(False)\n",
        "  plt.xticks([])\n",
        "  plt.yticks([])\n",
        "  thisplot =plt.bar(range(10),predictions_array,color= \"#888888\")\n",
        "  plt.ylim([0,1])\n",
        "  predicted_label = np.argmax(predictions_array)\n",
        "  thisplot[predicted_label]. set_color('red')\n",
        "  thisplot[true_label]. set_color('blue')"
      ],
      "metadata": {
        "id": "LeDtP5CILK5O"
      },
      "execution_count": 45,
      "outputs": []
    },
    {
      "cell_type": "code",
      "source": [
        "numrows = 5\n",
        "numcols = 3\n",
        "numimages = numrows * numcols\n",
        "\n",
        "plt.figure(figsize=(2*2*numcols,2*numrows))\n",
        "for i in range(numimages):\n",
        "  plt.subplot(numrows,2*numcols,2*i+1)\n",
        "  graficar_imagen(i, predicciones, etiquetas_prueba, imagenes_prueba)\n",
        "  plt.subplot(numrows,2*numcols,2*i+2)\n",
        "  graficar_valores_array(i,predicciones,etiquetas_prueba)\n",
        "\n",
        "plt.show()"
      ],
      "metadata": {
        "id": "5aoNw1GzMT3q",
        "outputId": "4d985ec1-a594-45b1-e4f9-aae3924e093a",
        "colab": {
          "base_uri": "https://localhost:8080/",
          "height": 578
        }
      },
      "execution_count": 46,
      "outputs": [
        {
          "output_type": "display_data",
          "data": {
            "text/plain": [
              "<Figure size 864x720 with 30 Axes>"
            ],
            "image/png": "[encoded data removed]"
          },
          "metadata": {}
        }
      ]
    }
  ],
  "metadata": {
    "colab": {
      "collapsed_sections": [],
      "provenance": [],
      "include_colab_link": true
    },
    "kernelspec": {
      "display_name": "Python 3",
      "name": "python3"
    },
    "gpuClass": "standard",
    "widgets": {
      "application/vnd.jupyter.widget-state+json": {
        "4ffecb7971e24e128a596bf98e1b67d5": {
          "model_module": "@jupyter-widgets/controls",
          "model_name": "HBoxModel",
          "model_module_version": "1.5.0",
          "state": {
            "_dom_classes": [],
            "_model_module": "@jupyter-widgets/controls",
            "_model_module_version": "1.5.0",
            "_model_name": "HBoxModel",
            "_view_count": null,
            "_view_module": "@jupyter-widgets/controls",
            "_view_module_version": "1.5.0",
            "_view_name": "HBoxView",
            "box_style": "",
            "children": [
              "IPY_MODEL_7aad3da8c4b1486ba98f1fb618728caa",
              "IPY_MODEL_a6a6e4e21c5e4c48a7c9b97b0890d3bb",
              "IPY_MODEL_53798fb94838418c88bd77edbbfa4602"
            ],
            "layout": "IPY_MODEL_c4574730b6c24b15b7385a7afe0aa166"
          }
        },
        "7aad3da8c4b1486ba98f1fb618728caa": {
          "model_module": "@jupyter-widgets/controls",
          "model_name": "HTMLModel",
          "model_module_version": "1.5.0",
          "state": {
            "_dom_classes": [],
            "_model_module": "@jupyter-widgets/controls",
            "_model_module_version": "1.5.0",
            "_model_name": "HTMLModel",
            "_view_count": null,
            "_view_module": "@jupyter-widgets/controls",
            "_view_module_version": "1.5.0",
            "_view_name": "HTMLView",
            "description": "",
            "description_tooltip": null,
            "layout": "IPY_MODEL_ba90ffc2d1fa43789a1b7ea014fefcd4",
            "placeholder": "​",
            "style": "IPY_MODEL_543a6fd241ff4257a935ad3444d8fc74",
            "value": "Dl Completed...: 100%"
          }
        },
        "a6a6e4e21c5e4c48a7c9b97b0890d3bb": {
          "model_module": "@jupyter-widgets/controls",
          "model_name": "FloatProgressModel",
          "model_module_version": "1.5.0",
          "state": {
            "_dom_classes": [],
            "_model_module": "@jupyter-widgets/controls",
            "_model_module_version": "1.5.0",
            "_model_name": "FloatProgressModel",
            "_view_count": null,
            "_view_module": "@jupyter-widgets/controls",
            "_view_module_version": "1.5.0",
            "_view_name": "ProgressView",
            "bar_style": "success",
            "description": "",
            "description_tooltip": null,
            "layout": "IPY_MODEL_2216ceec66864ae9a6c99a970745bd54",
            "max": 4,
            "min": 0,
            "orientation": "horizontal",
            "style": "IPY_MODEL_ba48c0d3a5e342d5b4226984596d7d63",
            "value": 4
          }
        },
        "53798fb94838418c88bd77edbbfa4602": {
          "model_module": "@jupyter-widgets/controls",
          "model_name": "HTMLModel",
          "model_module_version": "1.5.0",
          "state": {
            "_dom_classes": [],
            "_model_module": "@jupyter-widgets/controls",
            "_model_module_version": "1.5.0",
            "_model_name": "HTMLModel",
            "_view_count": null,
            "_view_module": "@jupyter-widgets/controls",
            "_view_module_version": "1.5.0",
            "_view_name": "HTMLView",
            "description": "",
            "description_tooltip": null,
            "layout": "IPY_MODEL_4f55a4d33e0c4db080b0c13c6f10bf94",
            "placeholder": "​",
            "style": "IPY_MODEL_9212e2fea717433185eec99dbd77e876",
            "value": " 4/4 [00:00&lt;00:00,  6.80 file/s]"
          }
        },
        "c4574730b6c24b15b7385a7afe0aa166": {
          "model_module": "@jupyter-widgets/base",
          "model_name": "LayoutModel",
          "model_module_version": "1.2.0",
          "state": {
            "_model_module": "@jupyter-widgets/base",
            "_model_module_version": "1.2.0",
            "_model_name": "LayoutModel",
            "_view_count": null,
            "_view_module": "@jupyter-widgets/base",
            "_view_module_version": "1.2.0",
            "_view_name": "LayoutView",
            "align_content": null,
            "align_items": null,
            "align_self": null,
            "border": null,
            "bottom": null,
            "display": null,
            "flex": null,
            "flex_flow": null,
            "grid_area": null,
            "grid_auto_columns": null,
            "grid_auto_flow": null,
            "grid_auto_rows": null,
            "grid_column": null,
            "grid_gap": null,
            "grid_row": null,
            "grid_template_areas": null,
            "grid_template_columns": null,
            "grid_template_rows": null,
            "height": null,
            "justify_content": null,
            "justify_items": null,
            "left": null,
            "margin": null,
            "max_height": null,
            "max_width": null,
            "min_height": null,
            "min_width": null,
            "object_fit": null,
            "object_position": null,
            "order": null,
            "overflow": null,
            "overflow_x": null,
            "overflow_y": null,
            "padding": null,
            "right": null,
            "top": null,
            "visibility": null,
            "width": null
          }
        },
        "ba90ffc2d1fa43789a1b7ea014fefcd4": {
          "model_module": "@jupyter-widgets/base",
          "model_name": "LayoutModel",
          "model_module_version": "1.2.0",
          "state": {
            "_model_module": "@jupyter-widgets/base",
            "_model_module_version": "1.2.0",
            "_model_name": "LayoutModel",
            "_view_count": null,
            "_view_module": "@jupyter-widgets/base",
            "_view_module_version": "1.2.0",
            "_view_name": "LayoutView",
            "align_content": null,
            "align_items": null,
            "align_self": null,
            "border": null,
            "bottom": null,
            "display": null,
            "flex": null,
            "flex_flow": null,
            "grid_area": null,
            "grid_auto_columns": null,
            "grid_auto_flow": null,
            "grid_auto_rows": null,
            "grid_column": null,
            "grid_gap": null,
            "grid_row": null,
            "grid_template_areas": null,
            "grid_template_columns": null,
            "grid_template_rows": null,
            "height": null,
            "justify_content": null,
            "justify_items": null,
            "left": null,
            "margin": null,
            "max_height": null,
            "max_width": null,
            "min_height": null,
            "min_width": null,
            "object_fit": null,
            "object_position": null,
            "order": null,
            "overflow": null,
            "overflow_x": null,
            "overflow_y": null,
            "padding": null,
            "right": null,
            "top": null,
            "visibility": null,
            "width": null
          }
        },
        "543a6fd241ff4257a935ad3444d8fc74": {
          "model_module": "@jupyter-widgets/controls",
          "model_name": "DescriptionStyleModel",
          "model_module_version": "1.5.0",
          "state": {
            "_model_module": "@jupyter-widgets/controls",
            "_model_module_version": "1.5.0",
            "_model_name": "DescriptionStyleModel",
            "_view_count": null,
            "_view_module": "@jupyter-widgets/base",
            "_view_module_version": "1.2.0",
            "_view_name": "StyleView",
            "description_width": ""
          }
        },
        "2216ceec66864ae9a6c99a970745bd54": {
          "model_module": "@jupyter-widgets/base",
          "model_name": "LayoutModel",
          "model_module_version": "1.2.0",
          "state": {
            "_model_module": "@jupyter-widgets/base",
            "_model_module_version": "1.2.0",
            "_model_name": "LayoutModel",
            "_view_count": null,
            "_view_module": "@jupyter-widgets/base",
            "_view_module_version": "1.2.0",
            "_view_name": "LayoutView",
            "align_content": null,
            "align_items": null,
            "align_self": null,
            "border": null,
            "bottom": null,
            "display": null,
            "flex": null,
            "flex_flow": null,
            "grid_area": null,
            "grid_auto_columns": null,
            "grid_auto_flow": null,
            "grid_auto_rows": null,
            "grid_column": null,
            "grid_gap": null,
            "grid_row": null,
            "grid_template_areas": null,
            "grid_template_columns": null,
            "grid_template_rows": null,
            "height": null,
            "justify_content": null,
            "justify_items": null,
            "left": null,
            "margin": null,
            "max_height": null,
            "max_width": null,
            "min_height": null,
            "min_width": null,
            "object_fit": null,
            "object_position": null,
            "order": null,
            "overflow": null,
            "overflow_x": null,
            "overflow_y": null,
            "padding": null,
            "right": null,
            "top": null,
            "visibility": null,
            "width": null
          }
        },
        "ba48c0d3a5e342d5b4226984596d7d63": {
          "model_module": "@jupyter-widgets/controls",
          "model_name": "ProgressStyleModel",
          "model_module_version": "1.5.0",
          "state": {
            "_model_module": "@jupyter-widgets/controls",
            "_model_module_version": "1.5.0",
            "_model_name": "ProgressStyleModel",
            "_view_count": null,
            "_view_module": "@jupyter-widgets/base",
            "_view_module_version": "1.2.0",
            "_view_name": "StyleView",
            "bar_color": null,
            "description_width": ""
          }
        },
        "4f55a4d33e0c4db080b0c13c6f10bf94": {
          "model_module": "@jupyter-widgets/base",
          "model_name": "LayoutModel",
          "model_module_version": "1.2.0",
          "state": {
            "_model_module": "@jupyter-widgets/base",
            "_model_module_version": "1.2.0",
            "_model_name": "LayoutModel",
            "_view_count": null,
            "_view_module": "@jupyter-widgets/base",
            "_view_module_version": "1.2.0",
            "_view_name": "LayoutView",
            "align_content": null,
            "align_items": null,
            "align_self": null,
            "border": null,
            "bottom": null,
            "display": null,
            "flex": null,
            "flex_flow": null,
            "grid_area": null,
            "grid_auto_columns": null,
            "grid_auto_flow": null,
            "grid_auto_rows": null,
            "grid_column": null,
            "grid_gap": null,
            "grid_row": null,
            "grid_template_areas": null,
            "grid_template_columns": null,
            "grid_template_rows": null,
            "height": null,
            "justify_content": null,
            "justify_items": null,
            "left": null,
            "margin": null,
            "max_height": null,
            "max_width": null,
            "min_height": null,
            "min_width": null,
            "object_fit": null,
            "object_position": null,
            "order": null,
            "overflow": null,
            "overflow_x": null,
            "overflow_y": null,
            "padding": null,
            "right": null,
            "top": null,
            "visibility": null,
            "width": null
          }
        },
        "9212e2fea717433185eec99dbd77e876": {
          "model_module": "@jupyter-widgets/controls",
          "model_name": "DescriptionStyleModel",
          "model_module_version": "1.5.0",
          "state": {
            "_model_module": "@jupyter-widgets/controls",
            "_model_module_version": "1.5.0",
            "_model_name": "DescriptionStyleModel",
            "_view_count": null,
            "_view_module": "@jupyter-widgets/base",
            "_view_module_version": "1.2.0",
            "_view_name": "StyleView",
            "description_width": ""
          }
        }
      }
    }
  },
  "nbformat": 4,
  "nbformat_minor": 0
}