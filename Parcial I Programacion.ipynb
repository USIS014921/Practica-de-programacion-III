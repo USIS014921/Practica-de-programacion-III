{
  "cells": [
    {
      "cell_type": "markdown",
      "metadata": {
        "id": "view-in-github",
        "colab_type": "text"
      },
      "source": [
        "<a href=\"https://colab.research.google.com/github/USIS014921/Practica-de-programacion-III/blob/main/Parcial%20I%20Programacion.ipynb\" target=\"_parent\"><img src=\"https://colab.research.google.com/assets/colab-badge.svg\" alt=\"Open In Colab\"/></a>"
      ]
    },
    {
      "cell_type": "code",
      "source": [
        "#CONVERSORES___________________________________________________________________________\n",
        "#1___________________________________________________________________________\n",
        "def pies2_metros2 ():\n",
        "  pies2 = int(input(\"Ingrese la cantidad de pies cuadrados a convertir \"))\n",
        "  metros2 = pies2 / 10.764\n",
        "  print (pies2,\"Pies^2 equivalen a \",metros2,\"metros^2.\")\n",
        "#2___________________________________________________________________________\n",
        "def metros2_hectareas ():\n",
        "  metros2 = int(input(\"Ingrese la cantidad de metros cuadrados a convertir \"))\n",
        "  hectareas = metros2 / 10000\n",
        "  print (metros2,\"metros^2 equivalen a \",hectareas,\"hectareas.\")\n",
        "#3___________________________________________________________________________\n",
        "def metros2_pies2 ():\n",
        "  metros2 = int(input(\"Ingrese la cantidad de metros cuadrados a convertir \"))\n",
        "  pies2 = metros2 * 10.764\n",
        "  print (metros2,\"metros^2 equivalen a \",pies2,\"pies^2.\")\n",
        "#4___________________________________________________________________________\n",
        "def yardas2_pies2 ():\n",
        "  yardas2 = int(input(\"Ingrese la cantidad de yardas cuadradas a convertir \"))\n",
        "  pies2 = yardas2 * 9\n",
        "  print (yardas2,\"yardas^2 equivalen a \",pies2,\"pies^2.\")\n",
        "#5___________________________________________________________________________\n",
        "def hectareas_yardas2 ():\n",
        "  hectareas = int(input(\"Ingrese la cantidad de hectareas a convertir \"))\n",
        "  yardas2 = hectareas * 11960\n",
        "  print (hectareas,\"hectareas equivalen a \",yardas2,\"yardas^2.\")\n",
        "#6___________________________________________________________________________\n",
        "def manzanas_varas2 ():\n",
        "  manzanas = int(input(\"Ingrese la cantidad de manzanas a convertir \"))\n",
        "  varas2 = manzanas * 0.84\n",
        "  print (manzanas,\"manzanas equivalen a \",varas2,\"varas^2.\")\n",
        "#7___________________________________________________________________________\n",
        "def tarea_metro2 ():\n",
        "  tarea = int(input(\"Ingrese la cantidad de tareas a convertir \"))\n",
        "  metro2 = tarea * 628.86\n",
        "  print (tarea,\"tareas equivalen a \",metro2,\"metros^2.\")\n",
        "#8___________________________________________________________________________\n",
        "def metros2_varas2 ():\n",
        "  metros2 = int(input(\"Ingrese la cantidad de metros cuadrados a convertir \"))\n",
        "  varas2 = metros2 / 0.7\n",
        "  print (metros2,\"metros2 equivalen a \",varas2,\"varas^2.\")\n",
        "#9___________________________________________________________________________\n",
        "def tarea_hectarea ():\n",
        "  tarea = int(input(\"Ingrese la cantidad de tareas a convertir \"))\n",
        "  hectareas = tarea * 0.06288\n",
        "  print (tarea,\"tareas equivalen a \",hectareas,\"hectareas.\")\n",
        "#10___________________________________________________________________________\n",
        "def tarea_manzana ():\n",
        "  tarea = int(input(\"Ingrese la cantidad de tareas a convertir \"))\n",
        "  manzana= tarea * 0.06288\n",
        "  print (tarea,\"tareas equivalen a \",manzana,\"manzanas.\")\n",
        "\n",
        "#MENU___________________________________________________________________________\n",
        "opcion = int( input(\"\\n***MENU***\\n\\n\"\n",
        "                    \"1. Pies^2 a Metros^2 \\n\"\n",
        "                    \"2. Metros^2 a Hectareas \\n\"\n",
        "                    \"3. Metros^2 a Pies^2 \\n\"\n",
        "                    \"4. Yardas^2 a Pies^2 \\n\"\n",
        "                    \"5. Hectareas a Yardas^2 \\n\"\n",
        "                    \"6. Manzanas a Varas^2 \\n\"\n",
        "                    \"7. Tareas a Metros^2 \\n\"\n",
        "                    \"8. Metros^2 a Varas^2 \\n\"\n",
        "                    \"9. Tareas a Hectareas \\n\"\n",
        "                    \"10. Tareas a Manzanas \\n\"\n",
        "                    \"Ingrese al opcion que desea \\n\\n\"))\n",
        "#DICCIONARIO___________________________________________________________________________\n",
        "Diccionario = {1:pies2_metros2,\n",
        "               2:metros2_hectareas,\n",
        "               3:metros2_pies2,\n",
        "               4:yardas2_pies2,\n",
        "               5:hectareas_yardas2,\n",
        "               6:manzanas_varas2,\n",
        "               7:tarea_metro2,\n",
        "               8:metros2_varas2,\n",
        "               9:tarea_hectarea,\n",
        "               10:tarea_manzana}\n",
        "\n",
        "try:\n",
        "  Diccionario[opcion]()\n",
        "except:\n",
        "  print(\"No ha elegido una opcion valida. \")"
      ],
      "metadata": {
        "colab": {
          "base_uri": "https://localhost:8080/"
        },
        "id": "jIyjaVUyQYHr",
        "outputId": "1356e7bd-ae34-4f42-a77b-4477e95db318"
      },
      "execution_count": 37,
      "outputs": [
        {
          "output_type": "stream",
          "name": "stdout",
          "text": [
            "\n",
            "***MENU***\n",
            "\n",
            "1. Pies^2 a Metros^2 \n",
            "2. Metros^2 a Hectareas \n",
            "3. Metros^2 a Pies^2 \n",
            "4. Yardas^2 a Pies^2 \n",
            "5. Hectareas a Yardas^2 \n",
            "6. Manzanas a Varas^2 \n",
            "7. Tareas a Metros^2 \n",
            "8. Metros^2 a Varas^2 \n",
            "9. Tareas a Hectareas \n",
            "10. Tareas a Manzanas \n",
            "Ingrese al opcion que desea \n",
            "\n",
            "10\n",
            "Ingrese la cantidad de tareas a convertir 1\n",
            "1 tareas equivalen a  0.06288 manzanas.\n"
          ]
        }
      ]
    }
  ],
  "metadata": {
    "colab": {
      "collapsed_sections": [],
      "name": "Te damos la bienvenida a Colaboratory",
      "provenance": [],
      "include_colab_link": true
    },
    "kernelspec": {
      "display_name": "Python 3",
      "name": "python3"
    }
  },
  "nbformat": 4,
  "nbformat_minor": 0
}