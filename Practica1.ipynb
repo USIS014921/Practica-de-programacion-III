{
  "cells": [
    {
      "cell_type": "markdown",
      "metadata": {
        "id": "view-in-github",
        "colab_type": "text"
      },
      "source": [
        "<a href=\"https://colab.research.google.com/github/USIS014921/Practica-de-programacion-III/blob/main/Practica1.ipynb\" target=\"_parent\"><img src=\"https://colab.research.google.com/assets/colab-badge.svg\" alt=\"Open In Colab\"/></a>"
      ]
    },
    {
      "cell_type": "code",
      "source": [
        "F = 27"
      ],
      "metadata": {
        "id": "ojqzMXJ7mSlF"
      },
      "execution_count": null,
      "outputs": []
    },
    {
      "cell_type": "code",
      "source": [
        "def convertirFaC(F):\n",
        " return (F - 32) * 0.55555 "
      ],
      "metadata": {
        "id": "TZS6SC5xm60d"
      },
      "execution_count": null,
      "outputs": []
    },
    {
      "cell_type": "code",
      "source": [
        "print(\"Farenheit a C: \", convertirFaC(F))"
      ],
      "metadata": {
        "colab": {
          "base_uri": "https://localhost:8080/"
        },
        "id": "jbNH_A1Cohwf",
        "outputId": "f5ad8bdb-3d55-4be6-e255-e98699b44c4f"
      },
      "execution_count": null,
      "outputs": [
        {
          "output_type": "stream",
          "name": "stdout",
          "text": [
            "Farenheit a C:  -2.77775\n"
          ]
        }
      ]
    },
    {
      "cell_type": "code",
      "source": [
        "gradosCiudades = [27,30,32,35,40,45]"
      ],
      "metadata": {
        "id": "yqgQTzO8qBnL"
      },
      "execution_count": null,
      "outputs": []
    },
    {
      "cell_type": "code",
      "source": [
        "print(gradosCiudades,\"respuesta: \",list(map(convertirFaC,gradosCiudades)))"
      ],
      "metadata": {
        "colab": {
          "base_uri": "https://localhost:8080/"
        },
        "id": "myNRJ0OcqiQL",
        "outputId": "b97b6f4b-2f04-42aa-98e4-a4f5651322c8"
      },
      "execution_count": null,
      "outputs": [
        {
          "output_type": "stream",
          "name": "stdout",
          "text": [
            "[27, 30, 32, 35, 40, 45] respuesta:  [-2.77775, -1.1111, 0.0, 1.66665, 4.4444, 7.22215]\n"
          ]
        }
      ]
    },
    {
      "cell_type": "code",
      "source": [
        "C = 30"
      ],
      "metadata": {
        "id": "hcNyo-ebup5m"
      },
      "execution_count": null,
      "outputs": []
    },
    {
      "cell_type": "code",
      "source": [
        "def convertirCaF(C):\n",
        " return (C * 9/5) + 32"
      ],
      "metadata": {
        "id": "c3g1kcbsuv1-"
      },
      "execution_count": null,
      "outputs": []
    },
    {
      "cell_type": "code",
      "source": [
        "print(\"Celsius a F: \", convertirCaF(C))"
      ],
      "metadata": {
        "colab": {
          "base_uri": "https://localhost:8080/"
        },
        "id": "pOIN-dWTu_pX",
        "outputId": "a594a620-a5c5-42a0-afb4-cb7193588103"
      },
      "execution_count": null,
      "outputs": [
        {
          "output_type": "stream",
          "name": "stdout",
          "text": [
            "Celsius a F:  86.0\n"
          ]
        }
      ]
    },
    {
      "cell_type": "code",
      "source": [
        "gradosCiudades = [-2.77775, -1.1111, 0.0, 1.66665, 4.4444, 7.22215]"
      ],
      "metadata": {
        "id": "6Gq1E8TYvH8m"
      },
      "execution_count": null,
      "outputs": []
    },
    {
      "cell_type": "code",
      "source": [
        "print(gradosCiudades,\"respuesta: \",list(map(convertirCaF,gradosCiudades)))"
      ],
      "metadata": {
        "colab": {
          "base_uri": "https://localhost:8080/"
        },
        "id": "uGrSgkxjvRtR",
        "outputId": "e1a8793e-1549-4624-d9af-f0a0e7fb726f"
      },
      "execution_count": null,
      "outputs": [
        {
          "output_type": "stream",
          "name": "stdout",
          "text": [
            "[-2.77775, -1.1111, 0.0, 1.66665, 4.4444, 7.22215] respuesta:  [27.00005, 30.00002, 32.0, 34.99997, 39.99992, 44.99987]\n"
          ]
        }
      ]
    },
    {
      "cell_type": "code",
      "source": [
        "gradosCel= lambda c : c *  9/5 + 32\n",
        "grados=float(input(\"Ingrese un numero: \"))\n",
        "print(\"grados: \", gradosCel(grados))"
      ],
      "metadata": {
        "colab": {
          "base_uri": "https://localhost:8080/"
        },
        "id": "2DWXITyixTUI",
        "outputId": "24a2d19b-8d69-47e0-e5df-e421110a5933"
      },
      "execution_count": null,
      "outputs": [
        {
          "output_type": "stream",
          "name": "stdout",
          "text": [
            "Ingrese un numero: 40\n",
            "grados:  104.0\n"
          ]
        }
      ]
    },
    {
      "cell_type": "code",
      "source": [
        "#Celsius a Kelvin Lambda\n",
        "gradosC = lambda c : c + 273.15\n",
        "Celsius = float(input(\"Ingrese un grados Celsius: \"))\n",
        "print(\"Grados En Kelvin: \", gradosC(Celsius))"
      ],
      "metadata": {
        "colab": {
          "base_uri": "https://localhost:8080/"
        },
        "id": "gSeAUY57OU6I",
        "outputId": "68c24479-015e-44f1-b653-7507f40fb68b"
      },
      "execution_count": null,
      "outputs": [
        {
          "output_type": "stream",
          "name": "stdout",
          "text": [
            "Ingrese un grados Celsius: 45\n",
            "Grados En Kelvin:  318.15\n"
          ]
        }
      ]
    },
    {
      "cell_type": "code",
      "source": [
        "#Celsius a Kelvin Funciones de Usuario\n",
        "K = float(input(\"Ingrese un grados Celius: \"))\n",
        "def convertirCaK(K):\n",
        "  return K + 273.15\n",
        "\n",
        "print(\" Respuesta: \",convertirCaK(K))"
      ],
      "metadata": {
        "id": "Vim0M4_ef0jc",
        "outputId": "c603f699-d36e-46d9-ec28-1f67c1cc9c10",
        "colab": {
          "base_uri": "https://localhost:8080/"
        }
      },
      "execution_count": null,
      "outputs": [
        {
          "output_type": "stream",
          "name": "stdout",
          "text": [
            "Ingrese un grados Celius: 45\n",
            " Respuesta:  318.15\n"
          ]
        }
      ]
    },
    {
      "cell_type": "code",
      "source": [
        "#kelvin a Celsius Lambda\n",
        "gradosK = lambda c : c - 273.15\n",
        "kelvin = float(input(\"Ingrese un grados Kelvin: \")) \n",
        "print(\"Grados En Celsius: \", gradosK(kelvin))"
      ],
      "metadata": {
        "colab": {
          "base_uri": "https://localhost:8080/"
        },
        "id": "5UW-Gfa8O_X_",
        "outputId": "d72b207c-a55c-4bff-cb7f-a593d7f9833a"
      },
      "execution_count": null,
      "outputs": [
        {
          "output_type": "stream",
          "name": "stdout",
          "text": [
            "Ingrese un grados Kelvin: 45\n",
            "Grados En Celsius:  -228.14999999999998\n"
          ]
        }
      ]
    },
    {
      "cell_type": "code",
      "source": [
        "#kelvin a Celsius Funciones de Usuario\n",
        "C = float(input(\"Ingrese un grados Kelvin: \"))\n",
        "def convertirKaC(C):\n",
        "  return C - 273.15\n",
        "\n",
        "print(\" Respuesta: \",convertirKaC(C))"
      ],
      "metadata": {
        "id": "qOYaES54tjdt",
        "outputId": "5859d44d-e63e-4ea8-e7de-15b4ef9c7b34",
        "colab": {
          "base_uri": "https://localhost:8080/"
        }
      },
      "execution_count": null,
      "outputs": [
        {
          "output_type": "stream",
          "name": "stdout",
          "text": [
            "Ingrese un grados Kelvin: 45\n",
            " Respuesta:  -228.14999999999998\n"
          ]
        }
      ]
    },
    {
      "cell_type": "code",
      "source": [
        "calcularNotaC1 = lambda n1: (n1 * 0.3)"
      ],
      "metadata": {
        "id": "NAPyHW6l5BCR"
      },
      "execution_count": null,
      "outputs": []
    },
    {
      "cell_type": "code",
      "source": [
        "#calcularora de notas con lambda\n",
        "print(\"Ingrese la nota del Primer Computo: \")\n",
        "lab1C1 = float(input())\n",
        "lab2C1 = float(input())\n",
        "Parcial1 = float(input())\n",
        "print(\"Ingrese la nota del Segundo Computo: \")\n",
        "lab1C2 = float(input())\n",
        "lab2C2 = float(input())\n",
        "Parcial2 = float(input())\n",
        "print(\"Ingrese la nota del Tercer Computo: \")\n",
        "lab1C3 = float(input())\n",
        "lab2C3 = float(input())\n",
        "Parcial3 = float(input())\n",
        "\n",
        "notas = lambda a,b,c: ( a * 0.3 ) + ( b * 0.3 ) + ( c * 0.4 )\n",
        "\n",
        "comp1=notas(lab1C1,lab2C1,Parcial1)\n",
        "comp2=notas(lab1C2,lab2C2,Parcial2)\n",
        "comp3=notas(lab1C3,lab2C3,Parcial3)\n",
        "\n",
        "notaFinal = (comp1 + comp2 + comp3)/3\n",
        "\n",
        "print(\"Su nota Final es: \",notaFinal)"
      ],
      "metadata": {
        "id": "C1Iwab2n5Yzx",
        "outputId": "99758ba6-b043-4f83-c6e7-05318407d454",
        "colab": {
          "base_uri": "https://localhost:8080/"
        }
      },
      "execution_count": null,
      "outputs": [
        {
          "output_type": "stream",
          "name": "stdout",
          "text": [
            "Ingrese la nota del Primer Computo: \n",
            "8\n",
            "8\n",
            "8\n",
            "Ingrese la nota del Segundo Computo: \n",
            "9\n",
            "10\n",
            "8\n",
            "Ingrese la nota del Tercer Computo: \n",
            "9\n",
            "8\n",
            "8\n",
            " Su nota Final es:  8.4\n"
          ]
        }
      ]
    },
    {
      "cell_type": "code",
      "source": [
        "#calcularora de notas con Funciones de usuario\n",
        "print(\"Ingrese la nota del Primer Computo: \")\n",
        "lab1C1 = float(input())\n",
        "lab2C1 = float(input())\n",
        "Parcial1 = float(input())\n",
        "print(\"Ingrese la nota del Segundo Computo: \")\n",
        "lab1C2 = float(input())\n",
        "lab2C2 = float(input())\n",
        "Parcial2 = float(input())\n",
        "print(\"Ingrese la nota del Tercer Computo: \")\n",
        "lab1C3 = float(input())\n",
        "lab2C3 = float(input())\n",
        "Parcial3 = float(input())\n",
        "\n",
        "def notas (a,b,c) : \n",
        "  return ( a * 0.3 ) + ( b * 0.3 ) + ( c * 0.4 )\n",
        "\n",
        "comp1=notas(lab1C1,lab2C1,Parcial1)\n",
        "comp2=notas(lab1C2,lab2C2,Parcial2)\n",
        "comp3=notas(lab1C3,lab2C3,Parcial3)\n",
        "\n",
        "notaFinal = (comp1 + comp2 + comp3)/3\n",
        "\n",
        "print(\"Su nota Final es: \",notaFinal)"
      ],
      "metadata": {
        "id": "LGld8zIT2EvM",
        "outputId": "a8a2b2c1-0e5e-499e-fc96-d2ba5666f2a2",
        "colab": {
          "base_uri": "https://localhost:8080/"
        }
      },
      "execution_count": null,
      "outputs": [
        {
          "output_type": "stream",
          "name": "stdout",
          "text": [
            "Ingrese la nota del Primer Computo: \n",
            "8\n",
            "8\n",
            "8\n",
            "Ingrese la nota del Segundo Computo: \n",
            "9\n",
            "7\n",
            "9\n",
            "Ingrese la nota del Tercer Computo: \n",
            "10\n",
            "8\n",
            "9\n",
            "Su nota Final es:  8.466666666666667\n"
          ]
        }
      ]
    },
    {
      "cell_type": "code",
      "source": [
        "#MESES_______________________________________\n",
        "sueldo=float(input(\"su salario es: \"))\n",
        "ISSS= sueldo*0.03\n",
        "AFP= sueldo*0.0625\n",
        "descuento=(ISSS+AFP) \n",
        "salario_liquido= sueldo-(ISSS+AFP) \n",
        "\n",
        "print(\"su des cuento de AFP es: \",AFP,\"Su decuento de ISSS es:\",ISSS)\n",
        "\n",
        "if (salario_liquido<=472.00): \n",
        "  print(\"su salario neto es: \",salario_liquido)\n",
        "  print(\"libre de Impuestos\")\n",
        "elif(salario_liquido<=895.24):\n",
        "    tramoII=salario_liquido*0.10\n",
        "    salario_sobre_renta = (salario_liquido-tramoII)\n",
        "    print(\"Su Impuesto a pagar es de: \",tramoII)\n",
        "    print(\"su salario es: \",salario_sobre_renta)\n",
        "elif(salario_liquido<=2038.10):\n",
        "   tramoIII=salario_liquido*0.20\n",
        "   salario_sobre_renta = (salario_liquido-tramoIII)\n",
        "   print(\"Su impuesto a pagar es de:\",tramoIII)\n",
        "   print(\"su salario es: \",salario_sobre_renta)\n",
        "elif(salario_liquido>=2038.11):\n",
        "    tramoIV=salario_liquido*0.30\n",
        "    salario_sobre_renta = (salario_liquido-tramoIV)\n",
        "    print(\"Su Impuesto a pagar es: \",tramoIV)\n",
        "    print(\"su salario es: \",salario_sobre_renta)\n",
        "else:\n",
        "  print(\"libre de impuestos\")\n",
        "\n",
        "#segundo ejercicio\n",
        "agua_consumida= int(input(\"ingrese la cantidad de metros consumidos: \"))\n",
        "cuota_fija=6\n",
        "\n",
        "if(agua_consumida<=18):\n",
        "  print(\"la tarifa a pagar es de: 6 dolares\")\n",
        "elif(agua_consumida<=28):\n",
        "  sobre_cargo= (agua_consumida-18)*0.45+(cuota_fija)\n",
        "  print(\"su tarifa a pagar es:\",sobre_cargo,\"dolaes\")\n",
        "elif(agua_consumida>=29):\n",
        "  sobre_cargodos=((agua_consumida-28)*0.65)+4.50+cuota_fija\n",
        "  print(\"su tarifa a pagar es:\",sobre_cargodos,\"dolares\")\n",
        "else:\n",
        "  print(\"fin de la coversion\")"
      ],
      "metadata": {
        "colab": {
          "base_uri": "https://localhost:8080/"
        },
        "id": "O6shqAJE8EE6",
        "outputId": "11582298-178d-4aaf-ca3a-8ef17d249334"
      },
      "execution_count": 1,
      "outputs": [
        {
          "output_type": "stream",
          "name": "stdout",
          "text": [
            "su salario es: 500\n",
            "su des cuento de AFP es:  31.25 Su decuento de ISSS es: 15.0\n",
            "su salario neto es:  453.75\n",
            "libre de Impuestos\n",
            "ingrese la cantidad de metros consumidos: 30\n",
            "su tarifa a pagar es: 11.8 dolares\n"
          ]
        }
      ]
    },
    {
      "cell_type": "code",
      "source": [
        "#Medidas De Longitud, Volumen y Masa con Condicionales.\n",
        "\n",
        "#MENU\n",
        "opcion_medida = int (input(\"***MENU PRINCIPAL*** \\n\"\n",
        "                           \"1. Medidas de Longitud \\n\"\n",
        "                           \"2. Medidas Volumen \\n\"\n",
        "                           \"3. Medidas de Masa \\n\"\n",
        "                           \"4. Medidas de Almacenamiento \\n\"\n",
        "                           \"5. Medidas de Tiempo \\n\"\n",
        "                           \"6. Medidas de Areas \\n\"\n",
        "                           \"Escoja la pcion que desea: \"))\n",
        "#MEDIDAS DE LONGITUD\n",
        "if opcion_medida == 1:\n",
        "  print (\"\\n***MEDIDAS DE LONGITUD***\")\n",
        "  opcion_submenu = int(input(\"1. Pulgadas a Milimetros \\n\"\n",
        "                             \"2. Yardas a Metros \\n\"\n",
        "                             \"3. Pulgadas a Centimetros \\n\"\n",
        "                             \"4. Kilometros a Milla Nautica \\n\"\n",
        "                             \"5. Kilometros a Millas \\n\"\n",
        "                             \"6. Pies a Yardas \\n\"\n",
        "                             \"7. Acres a Hectareas \\n\"\n",
        "                             \"8. Millas a Metros \\n\"\n",
        "                             \"9. Pies a Centrimetros \\n\"\n",
        "                             \"10. Milimetros a Pulgadas \\n\"\n",
        "                             \"Escoja la opcion que desea: \"))\n",
        "#Pulgadas a Milimetros\n",
        "  if opcion_submenu == 1:\n",
        "    print(\"-----------------------------------------------------------------------------\")\n",
        "    pulgadas = int(input(\"Ingrese la cantidad de Pulgadas a convertir: \"))\n",
        "    milimetros = pulgadas * 25.4\n",
        "    print(pulgadas, \"Pulgadas equivalen a: \", milimetros,\" Milimetros\")\n",
        "\n",
        "#Yardas a Metros\n",
        "  elif opcion_submenu == 2:\n",
        "    print(\"-----------------------------------------------------------------------------\")\n",
        "    yardas = int(input(\"Ingrese la cantidad de Yardas a convertir: \"))\n",
        "    metros = yardas * 0.9144\n",
        "    print(yardas, \"Yardas equivalen a: \", metros,\" Metros\")\n",
        "\n",
        "#Pulgadas a Centimetros\n",
        "  elif opcion_submenu == 3:\n",
        "    print(\"-----------------------------------------------------------------------------\")\n",
        "    pulgadas = int(input(\"Ingrese la cantidad de Pulgadas a convertir: \"))\n",
        "    centimetros = pulgadas * 2.54\n",
        "    print(pulgadas, \"Pulgadas equivalen a: \", centimetros,\" Centimetros\")\n",
        "\n",
        "#Kilometros a Millas Nauticas\n",
        "  elif opcion_submenu == 4:\n",
        "    print(\"-----------------------------------------------------------------------------\")\n",
        "    kilometros = int(input(\"Ingrese la cantidad de Kilometros a convertir: \"))\n",
        "    milla_nautica = kilometros / 1.852\n",
        "    print(kilometros, \"Kilometros equivalen a: \", milla_nautica,\" Millas Nauticas\")\n",
        "\n",
        "#Kilometros a Millas\n",
        "  elif opcion_submenu == 5:\n",
        "    print(\"-----------------------------------------------------------------------------\")\n",
        "    kilometros = int(input(\"Ingrese la cantidad de Kilometros a convertir: \"))\n",
        "    milla = kilometros / 1.609\n",
        "    print(kilometros, \"Kilometros equivalen a: \", milla,\" Millas\")\n",
        "\n",
        "#Pies a Yardas\n",
        "  elif opcion_submenu == 6:\n",
        "    print(\"-----------------------------------------------------------------------------\")\n",
        "    pies = int(input(\"Ingrese la cantidad de Pies a convertir: \"))\n",
        "    yarda = pies / 3\n",
        "    print(pies, \"Pies equivalen a: \", yarda,\" Yarda\")\n",
        "\n",
        "#Acres a Hectareas\n",
        "  elif opcion_submenu == 7:\n",
        "    print(\"-----------------------------------------------------------------------------\")\n",
        "    acres = int(input(\"Ingrese la cantidad de Acres  a convertir: \"))\n",
        "    hectareas = acres  * 0.4047\n",
        "    print(acres , \"Acres  equivalen a: \", hectareas,\" Hectareas\")\n",
        "\n",
        "#Millas a Metros\n",
        "  elif opcion_submenu == 8:\n",
        "    print(\"-----------------------------------------------------------------------------\")\n",
        "    millas = int(input(\"Ingrese la cantidad de Millas a convertir: \"))\n",
        "    metros = millas * 1609\n",
        "    print(millas, \"Millas equivalen a: \", metros,\" Metros\")\n",
        "\n",
        " #Pies a Centimetros\n",
        "  elif opcion_submenu == 9:\n",
        "    print(\"-----------------------------------------------------------------------------\")\n",
        "    pies = int(input(\"Ingrese la cantidad de Pies a convertir: \"))\n",
        "    centimetros = pies * 30.48\n",
        "    print(pies, \"Pies equivalen a: \", centimetros,\" Centimetros\")   \n",
        "\n",
        " #Milimetros a Pulgadas \n",
        "  elif opcion_submenu == 10:\n",
        "    print(\"-----------------------------------------------------------------------------\")\n",
        "    milimetros = int(input(\"Ingrese la cantidad de Milimetros a convertir: \"))\n",
        "    pulgadas = milimetros / 25.4\n",
        "    print(milimetros, \"Milimetros equivalen a: \", pulgadas,\" Pulgadas\")   \n",
        "\n",
        "  else: \n",
        "    print(\"La opcion que escogio no existe\")\n",
        "\n",
        "#_______________________________________________________________________________________________________________\n",
        "#MEDIDAS DE VOLUMEN\n",
        "elif opcion_medida == 2:\n",
        "  print (\"\\n***MEDIDAS DE VOLUMEN***\")\n",
        "  opcion_submenu = int(input(\"1. Pies^3 a Metros^3 \\n\"\n",
        "                             \"2. Yardas^3 a Metros^3 \\n\"\n",
        "                             \"3. Galon a Litro \\n\"\n",
        "                             \"4. Pies^3 a Pulgadas^3 \\n\"\n",
        "                             \"5. Tazas a Cucharadas \\n\"\n",
        "                             \"6. Pinta a Litro \\n\"\n",
        "                             \"7. Metro^3 a Pulgada^3 \\n\"\n",
        "                             \"8. Taza a Litro \\n\"\n",
        "                             \"9. Onza al Mililitro \\n\"\n",
        "                             \"10. Cucharadas a Mililitros \\n\"\n",
        "                             \"Escoja la pcion que desea: \"))\n",
        "#Pies^3 a Metros^3\n",
        "  if opcion_submenu == 1:\n",
        "    print(\"-----------------------------------------------------------------------------\")\n",
        "    pies_3 = int(input(\"Ingrese la cantidad de Pies^3 a convertir: \"))\n",
        "    metros_3 = pies_3 * 0.02382\n",
        "    print(pies_3, \"Pies^3 equivalen a: \", metros_3,\" Metros^3\")\n",
        "\n",
        "#Yardas^3 a Metros^3\n",
        "  elif opcion_submenu == 2:\n",
        "    print(\"-----------------------------------------------------------------------------\")\n",
        "    yardas_3 = int(input(\"Ingrese la cantidad de Yardas^3 a convertir: \"))\n",
        "    metros_3 = yardas_3 * 0.7646\n",
        "    print(yardas_3, \"Yardas equivalen a: \", metros_3,\" Metros\")\n",
        "\n",
        "#Galon a Litro\n",
        "  elif opcion_submenu == 3:\n",
        "    print(\"-----------------------------------------------------------------------------\")\n",
        "    galon = int(input(\"Ingrese la cantidad de Galon a convertir: \"))\n",
        "    litro = galon * 3.785\n",
        "    print(galon, \"Galon equivalen a: \", litro,\" Litro\")\n",
        "\n",
        "#Pies^3 a Pulgadas^3\n",
        "  elif opcion_submenu == 4:\n",
        "    print(\"-----------------------------------------------------------------------------\")\n",
        "    pies_3 = int(input(\"Ingrese la cantidad de Pies^3 a convertir: \"))\n",
        "    pulgadas_3 = pies_3 * 1728\n",
        "    print(pies_3, \"Pies^3 equivalen a: \", pulgadas_3,\" Pulgadas^3\")\n",
        "\n",
        "#Tazas a Cucharadas\n",
        "  elif opcion_submenu == 5:\n",
        "    print(\"-----------------------------------------------------------------------------\")\n",
        "    tazas = int(input(\"Ingrese la cantidad de Tazas a convertir: \"))\n",
        "    cucharadas = tazas * 16.231\n",
        "    print(tazas, \"Tazas equivalen a: \", cucharadas,\" Cucharadas\")\n",
        "\n",
        "#Pinta a Litro\n",
        "  elif opcion_submenu == 6:\n",
        "    print(\"-----------------------------------------------------------------------------\")\n",
        "    pinta = int(input(\"Ingrese la cantidad de Pintas a convertir: \"))\n",
        "    litro = pinta / 2.113\n",
        "    print(pinta, \"Pintas equivalen a: \", litro,\" Litros\")\n",
        "\n",
        "#Metro^3 a Pulgada^3\n",
        "  elif opcion_submenu == 7:\n",
        "    print(\"-----------------------------------------------------------------------------\")\n",
        "    metro_3 = int(input(\"Ingrese la cantidad de Metros^3 a convertir: \"))\n",
        "    pulgada_3 = metro_3 * 61020\n",
        "    print(metro_3, \"Metros^3 equivalen a: \", pulgada_3,\" Pulgadas^3\")\n",
        "\n",
        "#Taza a Litro\n",
        "  elif opcion_submenu == 8:\n",
        "    print(\"-----------------------------------------------------------------------------\")\n",
        "    taza = int(input(\"Ingrese la cantidad de Tazas a convertir: \"))\n",
        "    litro = taza * 4.167\n",
        "    print(taza, \"Tazas equivalen a: \", litro,\" Litros\")\n",
        "\n",
        "#Onza al Mililitro\n",
        "  elif opcion_submenu == 9:\n",
        "    print(\"-----------------------------------------------------------------------------\")\n",
        "    onza = int(input(\"Ingrese la cantidad de Onzas a convertir: \"))\n",
        "    mililitro = onza * 29.574\n",
        "    print(onza, \"Onzas equivalen a: \", mililitro,\" Mililitros\")\n",
        "\n",
        "#Cucharadas a Mililitros\n",
        "  elif opcion_submenu == 10:\n",
        "    print(\"-----------------------------------------------------------------------------\")\n",
        "    cucharadas = int(input(\"Ingrese la cantidad de Cucharadas a convertir: \"))\n",
        "    mililitros = cucharadas * 0.45359\n",
        "    print(cucharadas, \"Cucharadas equivalen a: \", mililitros,\" Mililitros\")\n",
        "\n",
        "  else: \n",
        "    print(\"La opcion que escogio no existe\")\n",
        "\n",
        "#_______________________________________________________________________________________________________________\n",
        "#MEDIDAD DE MASA\n",
        "elif opcion_medida == 3:\n",
        "  print (\"\\n***MEDIDAS DE MASA***\")\n",
        "  opcion_submenu = int(input(\"1. Onzas a Gramos \\n\"\n",
        "                             \"2. Libras a Kilogramos \\n\"\n",
        "                             \"3. Toneladas a Onzas \\n\"\n",
        "                             \"4. Gramos a Miligramos \\n\"\n",
        "                             \"5. Toneladas a Libras \\n\"\n",
        "                             \"6. Onzas a Libras  \\n\"\n",
        "                             \"7. Toneladas a Kilogramos \\n\"\n",
        "                             \"8. Kilogramos a Libras \\n\"\n",
        "                             \"9. Libras a Gramos \\n\"\n",
        "                             \"10. Gramos a Libras\\n\"\n",
        "                             \"Escoja la pcion que desea: \"))\n",
        "#Onzas a Gramos\n",
        "  if opcion_submenu == 1:\n",
        "    print(\"-----------------------------------------------------------------------------\")\n",
        "    onzas = int(input(\"Ingrese la cantidad de Onzas a convertir: \"))\n",
        "    gramos = onzas * 28.35\n",
        "    print(onzas, \"Onzas equivalen a: \", gramos,\" Gramos\")\n",
        "\n",
        "#Libras a Kilogramos\n",
        "  elif opcion_submenu == 2:\n",
        "    print(\"-----------------------------------------------------------------------------\")\n",
        "    libras = int(input(\"Ingrese la cantidad de Libras a convertir: \"))\n",
        "    kilogramos = libras * 0.45359\n",
        "    print(libras, \"Libras equivalen a: \", kilogramos,\" Kilogramos\")\n",
        "\n",
        "#Toneladas a Onzas\n",
        "  elif opcion_submenu == 3:\n",
        "    print(\"-----------------------------------------------------------------------------\")\n",
        "    tonelada = int(input(\"Ingrese la cantidad de Toneladas a convertir: \"))\n",
        "    onza = tonelada * 35270\n",
        "    print(tonelada, \"Toneladas equivalen a: \", onza,\" Onzas\")\n",
        "\n",
        "#Gramos a Miligramos\n",
        "  elif opcion_submenu == 4:\n",
        "    print(\"-----------------------------------------------------------------------------\")\n",
        "    gramo = int(input(\"Ingrese la cantidad de Gramos a convertir: \"))\n",
        "    miligramo = gramo * 1000\n",
        "    print(gramo, \"Gramos equivalen a: \", miligramo ,\" Miligramos\")\n",
        "\n",
        "#Toneladas a Libras\n",
        "  elif opcion_submenu == 5:\n",
        "    print(\"-----------------------------------------------------------------------------\")\n",
        "    toneladas = int(input(\"Ingrese la cantidad de Toneladas a convertir: \"))\n",
        "    libras = toneladas * 2240\n",
        "    print(toneladas, \"Toneladas equivalen a: \", libras,\" Libras\")\n",
        "\n",
        "#Onzas a Libras \n",
        "  elif opcion_submenu == 6:\n",
        "    print(\"-----------------------------------------------------------------------------\")\n",
        "    onzas = int(input(\"Ingrese la cantidad de Onzas a convertir: \"))\n",
        "    libras = onzas / 16\n",
        "    print(onzas, \"Onzas equivalen a: \", libras,\" Libras\")\n",
        "\n",
        "#Toneladas a Kilogramos\n",
        "  elif opcion_submenu == 7:\n",
        "    print(\"-----------------------------------------------------------------------------\")\n",
        "    toneladas = int(input(\"Ingrese la cantidad de Toneladas a convertir: \"))\n",
        "    kilogramos = toneladas * 1000\n",
        "    print(toneladas, \"Toneladas equivalen a: \", kilogramos,\" Kilogramos\")\n",
        "\n",
        "#Kilogramos a Libras\n",
        "  elif opcion_submenu == 8:\n",
        "    print(\"-----------------------------------------------------------------------------\")\n",
        "    kilogramos = int(input(\"Ingrese la cantidad de Kilogramos a convertir: \"))\n",
        "    libras = kilogramos * 2.205\n",
        "    print(kilogramos, \"Kilogramos equivalen a: \", libras,\" Libras\")\n",
        "\n",
        "#Libras a Gramos\n",
        "  elif opcion_submenu == 9:\n",
        "    print(\"-----------------------------------------------------------------------------\")\n",
        "    libras = int(input(\"Ingrese la cantidad de Libras a convertir: \"))\n",
        "    gramos = libras * 453.6\n",
        "    print(libras, \"Libras equivalen a: \", gramos,\" Gramos\")\n",
        "\n",
        "#Gramos a Libras\n",
        "  elif opcion_submenu == 10:\n",
        "    print(\"-----------------------------------------------------------------------------\")\n",
        "    gramos = int(input(\"Ingrese la cantidad de Gramos a convertir: \"))\n",
        "    libras = gramos / 453.6\n",
        "    print(gramos, \"Gramos equivalen a: \", libras,\" Libras\")\n",
        "\n",
        "  else: \n",
        "    print(\"La opcion que escogio no existe\")\n",
        "\n",
        "#_______________________________________________________________________________________________________________\n",
        "#MEDIDAD DE ALMACCENAMIENTO\n",
        "elif opcion_medida == 4:\n",
        "  print (\"\\n***MEDIDAS DE ALMACENAMIENTO***\")\n",
        "  opcion_submenu = int(input(\"1. Megabyte a Gigabyte \\n\"\n",
        "                             \"2. Gigabyte a Terabite \\n\"\n",
        "                             \"3. Byte a kilobyte \\n\"\n",
        "                             \"4. Kibibyte a kilobyte \\n\"\n",
        "                             \"5. Gigabyte a Gibibyte \\n\"\n",
        "                             \"6. Petabit a Gibibyte \\n\"\n",
        "                             \"7. Tebibit a Gibibyte \\n\"\n",
        "                             \"8. Terabyte a Gigabyte \\n\"\n",
        "                             \"9. Mebibyte a Kibibyte \\n\"\n",
        "                             \"10. Gramos a Libras\\n\"\n",
        "                             \"Escoja la pcion que desea: \"))\n",
        "\n",
        "#Megabyte a Gigabyte\n",
        "  if opcion_submenu == 1:\n",
        "    print(\"-----------------------------------------------------------------------------\")\n",
        "    Megabyte = int(input(\"Ingrese la cantidad de Megabyte a convertir: \"))\n",
        "    Gigabyte = Megabyte / 1000\n",
        "    print(Megabyte, \"Megabyte equivalen a: \", Gigabyte,\" Gigabyte\")\n",
        "\n",
        "#Gigabyte a Terabite\n",
        "  elif opcion_submenu == 2:\n",
        "    print(\"-----------------------------------------------------------------------------\")\n",
        "    Gigabyte = int(input(\"Ingrese la cantidad de Gigabyte a convertir: \"))\n",
        "    Terabite = Gigabyte / 125\n",
        "    print(Gigabyte, \"Gigabyte equivalen a: \", Terabite,\" Terabite\")\n",
        "\n",
        "#Byte a kilobyte\n",
        "  elif opcion_submenu == 3:\n",
        "    print(\"-----------------------------------------------------------------------------\")\n",
        "    Byte = int(input(\"Ingrese la cantidad de Byte a convertir: \"))\n",
        "    kilobyte = Byte / 1000\n",
        "    print(Byte, \"Byte equivalen a: \", kilobyte,\" kilobyte\")\n",
        "\n",
        "#Kibibyte a kilobyte\n",
        "  elif opcion_submenu == 4:\n",
        "    print(\"-----------------------------------------------------------------------------\")\n",
        "    Kibibyte = int(input(\"Ingrese la cantidad de Kibibyte a convertir: \"))\n",
        "    kilobyte = Kibibyte * 1.024\n",
        "    print(Kibibyte, \"Kibibyte equivalen a: \", kilobyte,\" kilobyte\")\n",
        "\n",
        "#Gigabyte a Gibibyte\n",
        "  elif opcion_submenu == 5:\n",
        "    print(\"-----------------------------------------------------------------------------\")\n",
        "    Gigabyte = int(input(\"Ingrese la cantidad de Gigabyte a convertir: \"))\n",
        "    Gibibyte = Gigabyte / 1.074\n",
        "    print(Gigabyte, \"Gigabyte equivalen a: \", Gibibyte,\" Gibibyte\")\n",
        "\n",
        "#Petabit a Gibibyte\n",
        "  elif opcion_submenu == 6:\n",
        "    print(\"-----------------------------------------------------------------------------\")\n",
        "    Petabit = int(input(\"Ingrese la cantidad de Petabit a convertir: \"))\n",
        "    Gibibyte = Petabit * 116400\n",
        "    print(Petabit, \"Petabit equivalen a: \", Gibibyte,\" Gibibyte\")\n",
        "\n",
        "#Tebibit a Gibibyte\n",
        "  elif opcion_submenu == 7:\n",
        "    print(\"-----------------------------------------------------------------------------\")\n",
        "    Tebibit = int(input(\"Ingrese la cantidad de Tebibit a convertir: \"))\n",
        "    Gibibyte = Tebibit * 128\n",
        "    print(Tebibit, \"Tebibit equivalen a: \", Gibibyte,\" Gibibyte\")\n",
        "\n",
        "#Terabyte a Gigabyte\n",
        "  elif opcion_submenu == 8:\n",
        "    print(\"-----------------------------------------------------------------------------\")\n",
        "    Terabyte = int(input(\"Ingrese la cantidad de Terabyte a convertir: \"))\n",
        "    Gigabyte = Terabyte * 1000\n",
        "    print(Terabyte, \"Terabyte equivalen a: \", Gigabyte,\" Gigabyte\")\n",
        "\n",
        "#Mebibyte a Kibibyte\n",
        "  elif opcion_submenu == 9:\n",
        "    print(\"-----------------------------------------------------------------------------\")\n",
        "    Mebibyte = int(input(\"Ingrese la cantidad de Mebibyte a convertir: \"))\n",
        "    Kibibyte = Mebibyte * 1024\n",
        "    print(Mebibyte, \"Mebibyte equivalen a: \", Kibibyte,\" Kibibyte\")\n",
        "\n",
        "#Mebibit a Gibibyte\n",
        "  elif opcion_submenu == 10:\n",
        "    print(\"-----------------------------------------------------------------------------\")\n",
        "    Mebibit = int(input(\"Ingrese la cantidad de Mebibit a convertir: \"))\n",
        "    Gibibyte = Mebibit / 8192\n",
        "    print(Mebibit, \"Mebibit equivalen a: \", Gibibyte,\" Gibibyte\")\n",
        "\n",
        "  else: \n",
        "    print(\"La opcion que escogio no existe\")\n",
        "\n",
        "#_______________________________________________________________________________________________________________\n",
        "#MEDIDAD DE TIEMPO\n",
        "elif opcion_medida == 5:\n",
        "  print (\"\\n***MEDIDAS DE TIEMPO***\")\n",
        "  opcion_submenu = int(input(\"1. Dias a Minutos \\n\"\n",
        "                             \"2. Segundos a Minutos \\n\"\n",
        "                             \"3. Horas a Segundos \\n\"\n",
        "                             \"4. Semanas a Segundos \\n\"\n",
        "                             \"5. Meses a Semanas \\n\"\n",
        "                             \"6. Años a Meses \\n\"\n",
        "                             \"7. Años a Dias \\n\"\n",
        "                             \"8. Años a Decada \\n\"\n",
        "                             \"9. Segundos a Milisegundos \\n\"\n",
        "                             \"10. Decadas a Siglos \\n\"\n",
        "                             \"Escoja la pcion que desea: \"))\n",
        "\n",
        "#Dias a Minutos\n",
        "  if opcion_submenu == 1:\n",
        "    print(\"-----------------------------------------------------------------------------\")\n",
        "    Dia = int(input(\"Ingrese la cantidad de Dias a convertir: \"))\n",
        "    Minuto = Dia * 1440\n",
        "    print(Dia, \"Dia equivalen a: \", Minuto,\" Minuto\")\n",
        "\n",
        "#Segundos a Minutos\n",
        "  elif opcion_submenu == 2:\n",
        "    print(\"-----------------------------------------------------------------------------\")\n",
        "    Segundo = int(input(\"Ingrese la cantidad de Segundos a convertir: \"))\n",
        "    Minuto = Segundo / 60\n",
        "    print(Segundo, \"Segundo equivalen a: \", Minuto,\" Minuto\")\n",
        "\n",
        "#Horas a Segundos\n",
        "  elif opcion_submenu == 3:\n",
        "    print(\"-----------------------------------------------------------------------------\")\n",
        "    Horas = int(input(\"Ingrese la cantidad de Horas a convertir: \"))\n",
        "    Segundos = Horas / 60\n",
        "    print(Horas, \"Horas equivalen a: \", Segundos,\" Segundos\")\n",
        "\n",
        "#Semanas a Segundos\n",
        "  elif opcion_submenu == 4:\n",
        "    print(\"-----------------------------------------------------------------------------\")\n",
        "    Semanas = int(input(\"Ingrese la cantidad de Semanas a convertir: \"))\n",
        "    Segundos = Semanas * 604800\n",
        "    print(Semanas, \"Semanas equivalen a: \", Segundos,\" Segundos\")\n",
        "\n",
        "#Meses a Semanas\n",
        "  elif opcion_submenu == 5:\n",
        "    print(\"-----------------------------------------------------------------------------\")\n",
        "    Meses = int(input(\"Ingrese la cantidad de Meses a convertir: \"))\n",
        "    Semanas = Meses * 4.345\n",
        "    print(Meses, \"Meses equivalen a: \", Semanas,\" Semanas\")\n",
        "\n",
        "#Años a Meses\n",
        "  elif opcion_submenu == 6:\n",
        "    print(\"-----------------------------------------------------------------------------\")\n",
        "    Años = int(input(\"Ingrese la cantidad de Años a convertir: \"))\n",
        "    Meses = Años * 12\n",
        "    print(Años, \"Años equivalen a: \", Meses,\" Meses\")\n",
        "\n",
        "#Años a Dias\n",
        "  elif opcion_submenu == 7:\n",
        "    print(\"-----------------------------------------------------------------------------\")\n",
        "    Años = int(input(\"Ingrese la cantidad de Años a convertir: \"))\n",
        "    Dias = Años * 365\n",
        "    print(Años, \"Años equivalen a: \", Dias,\" Dias\")\n",
        "\n",
        "#Años a Decada\n",
        "  elif opcion_submenu == 8:\n",
        "    print(\"-----------------------------------------------------------------------------\")\n",
        "    Años = int(input(\"Ingrese la cantidad de Años a convertir: \"))\n",
        "    Decada = Años / 10\n",
        "    print(Años, \"Años equivalen a: \", Decada,\" Decada\")\n",
        "\n",
        "#Segundos a Milisegundos\n",
        "  elif opcion_submenu == 9:\n",
        "    print(\"-----------------------------------------------------------------------------\")\n",
        "    Segundos = int(input(\"Ingrese la cantidad de Segundos a convertir: \"))\n",
        "    Milisegundos = Segundos * 1000\n",
        "    print(Segundos, \"Segundos equivalen a: \", Milisegundos,\" Milisegundos\")\n",
        "\n",
        "#Decadas a Siglos\n",
        "  elif opcion_submenu == 10:\n",
        "    print(\"-----------------------------------------------------------------------------\")\n",
        "    Decadas = int(input(\"Ingrese la cantidad de Decadas a convertir: \"))\n",
        "    Siglos = Decadas / 10\n",
        "    print(Decadas, \"Decadas equivalen a: \", Siglos,\" Siglos\")\n",
        "\n",
        "  else:\n",
        "   print(\"La opcion que escogio no existe\")\n",
        "\n",
        "#_______________________________________________________________________________________________________________\n",
        "#MEDIDAD DE AREA\n",
        "elif opcion_medida == 6:\n",
        "  print (\"\\n***MEDIDAS DE AREA***\")\n",
        "  opcion_submenu = int(input(\"1. Metros^2 a Pulgadas^2 \\n\"\n",
        "                             \"2. Millas^2 a Kilometros^2 \\n\"\n",
        "                             \"3. Yardas^2 a Pies^2 \\n\"\n",
        "                             \"4. Kilometros^2 a Hectareas \\n\"\n",
        "                             \"5. Kilometros^2 a Acres \\n\"\n",
        "                             \"6. Herctareas a Acres \\n\"\n",
        "                             \"7. Pulgadas^2 a Pies^2 \\n\"\n",
        "                             \"8. Yardas^2 a Metros^2 \\n\"\n",
        "                             \"9. Metros^2 a Yardas^2 \\n\"\n",
        "                             \"10. Metros^2 a Pies^2 \\n\"\n",
        "                             \"Escoja la pcion que desea: \"))\n",
        "\n",
        "#Metros^2 a Pulgadas^2\n",
        "  if opcion_submenu == 1:\n",
        "    print(\"-----------------------------------------------------------------------------\")\n",
        "    metro_2 = int(input(\"Ingrese la cantidad de Metros^2 a convertir: \"))\n",
        "    pulgada_2 = metro_2 * 1550\n",
        "    print(metro_2, \"Metros^2 equivalen a: \", pulgada_2,\" Pulgadas^2\")\n",
        "\n",
        "#Millas^2 a Kilometros^2\n",
        "  if opcion_submenu == 2:\n",
        "    print(\"-----------------------------------------------------------------------------\")\n",
        "    Millas_2 = int(input(\"Ingrese la cantidad de Millas^2 a convertir: \"))\n",
        "    Kilometros_2 = Millas_2 * 2.59\n",
        "    print(Millas_2, \"Millas^2 equivalen a: \", Kilometros_2,\" Kilometros^2\")\n",
        "\n",
        "#Yardas^2 a Pies^2\n",
        "  if opcion_submenu == 3:\n",
        "    print(\"-----------------------------------------------------------------------------\")\n",
        "    Yardas_2 = int(input(\"Ingrese la cantidad de Yardas^2 a convertir: \"))\n",
        "    Pies_2 = Yardas_2 * 9\n",
        "    print(Yardas_2, \"Yardas^2 equivalen a: \", Pies_2,\" Pies^2\")\n",
        "\n",
        "#Kilometros^2 a Hectareas\n",
        "  if opcion_submenu == 4:\n",
        "    print(\"-----------------------------------------------------------------------------\")\n",
        "    Kilometros_2 = int(input(\"Ingrese la cantidad de Kilometros^2 a convertir: \"))\n",
        "    Hectareas = Kilometros_2 * 100\n",
        "    print(Kilometros_2, \"Kilometros^2 equivalen a: \", Hectareas,\" Hectareas\")\n",
        "\n",
        "#Kilometros^2 a Acres\n",
        "  if opcion_submenu == 5:\n",
        "    print(\"-----------------------------------------------------------------------------\")\n",
        "    Kilometros_2 = int(input(\"Ingrese la cantidad de Kilometros^2 a convertir: \"))\n",
        "    Acre = Kilometros_2 * 247.1\n",
        "    print(Kilometros_2, \"Kilometros^2 equivalen a: \", Acre,\" Acre\")\n",
        "\n",
        "#Herctareas a Acres\n",
        "  if opcion_submenu == 6:\n",
        "    print(\"-----------------------------------------------------------------------------\")\n",
        "    Herctareas = int(input(\"Ingrese la cantidad de Herctareas a convertir: \"))\n",
        "    Acre = Herctareas * 2.471\n",
        "    print(Herctareas, \"Herctareas equivalen a: \", Acre,\" Acre\")\n",
        "\n",
        "#Pulgadas^2 a Pies^2\n",
        "  if opcion_submenu == 7:\n",
        "    print(\"-----------------------------------------------------------------------------\")\n",
        "    Pulgadas_2 = int(input(\"Ingrese la cantidad de Pulgadas^2 a convertir: \"))\n",
        "    Pies_2 = Pulgadas_2 / 144\n",
        "    print(Pulgadas_2, \"Pulgadas^2 equivalen a: \", Pies_2,\" Pies^2\")\n",
        "\n",
        "#Yardas^2 a Metros^2\n",
        "  if opcion_submenu == 8:\n",
        "    print(\"-----------------------------------------------------------------------------\")\n",
        "    Yardas_2 = int(input(\"Ingrese la cantidad de Yardas^2 a convertir: \"))\n",
        "    Metros_2 = Yardas_2 / 1.196\n",
        "    print(Yardas_2, \"Yardas^2 equivalen a: \", Metros_2,\" Metros^2\")\n",
        "\n",
        "#Metros^2 a Yardas^2\n",
        "  if opcion_submenu == 9:\n",
        "    print(\"-----------------------------------------------------------------------------\")\n",
        "    Metros_2 = int(input(\"Ingrese la cantidad de Metros^2 a convertir: \"))\n",
        "    Yardas_2 = Metros_2 * 1.196\n",
        "    print(Metros_2, \"Metros^2 equivalen a: \", Yardas_2,\" Yardas^2\")\n",
        "\n",
        "#Metros^2 a Pies^2\n",
        "  if opcion_submenu == 10:\n",
        "    print(\"-----------------------------------------------------------------------------\")\n",
        "    Metros_2 = int(input(\"Ingrese la cantidad de Pies^2 a convertir: \"))\n",
        "    Pies_2 = Pies_2 * 10.764\n",
        "    print(Pies_2, \"Pies^2 equivalen a: \", Yardas_2,\" Yardas^2\")\n",
        "\n",
        "  else:\n",
        "   print(\"La opcion que escogio no existe\")\n",
        "\n",
        "else:\n",
        "  print(\"La opcion que escogio no existe\")"
      ],
      "metadata": {
        "colab": {
          "base_uri": "https://localhost:8080/"
        },
        "id": "I48aKXM9ADmq",
        "outputId": "f6926207-d414-4c0e-8bc4-58668e271f24"
      },
      "execution_count": 2,
      "outputs": [
        {
          "output_type": "stream",
          "name": "stdout",
          "text": [
            "***MENU PRINCIPAL*** \n",
            "1. Medidas de Longitud \n",
            "2. Medidas Volumen \n",
            "3. Medidas de Masa \n",
            "4. Medidas de Almacenamiento \n",
            "5. MEdidas de Tiempo \n",
            "Escoja la pcion que desea: 5\n",
            "\n",
            "***MEDIDAS DE Alacenamiento***\n",
            "1. Dias a Minutos \n",
            "2. Segundos a Minutos \n",
            "3. Horas a Segundos \n",
            "4. Semanas a Segundos \n",
            "5. Meses a Semanas \n",
            "6. Años a Meses \n",
            "7. Años a Dias \n",
            "8. Años a Decada \n",
            "9. Segundos a Milisegundos \n",
            "10. Decadas a Siglos \n",
            "Escoja la pcion que desea: 9\n",
            "-----------------------------------------------------------------------------\n",
            "Ingrese la cantidad de Segundos a convertir: 30000\n",
            "30000 Segundos equivalen a:  30000000  Milisegundos\n"
          ]
        }
      ]
    },
    {
      "cell_type": "code",
      "source": [
        "#CAJAS A UNIDADES___________________________________________\n",
        "#Conversion de caja a unidades\n",
        "print(\"1 caja equivale a 25 unidades\")\n",
        "print(\"\")\n",
        "caja = float(input(\"Ingrese una cantidad de cajas: \"))\n",
        "unidades = caja * 25\n",
        "print(caja,\"cajas equivalen a\",unidades,\"unidades\")\n",
        "\n",
        "#Viseversa\n",
        "u = float(input(\"Ingrese una cantidad de unidades: \"))\n",
        "c = u / 25\n",
        "print(u,\"unidades equivalen a\",c,\"cajas\")"
      ],
      "metadata": {
        "id": "oAJBbCUpQuOj",
        "outputId": "884fad67-303f-48e8-ddae-25ac2bc7368a",
        "colab": {
          "base_uri": "https://localhost:8080/"
        }
      },
      "execution_count": 8,
      "outputs": [
        {
          "output_type": "stream",
          "name": "stdout",
          "text": [
            "1 caja equivale a 25 unidades\n",
            "\n",
            "Ingrese una cantidad de cajas: 5\n",
            "5.0 cajas equivalen a 125.0 unidades\n",
            "Ingrese una cantidad de unidades: 600\n",
            "600.0 unidades equivalen a 24.0 cajas\n"
          ]
        }
      ]
    },
    {
      "cell_type": "code",
      "source": [
        "#SACOS A LIBRAS___________________________________________\n",
        "#Conversion de Sacos a Libras\n",
        "print(\"1 Saco equivale a 25 Libras\")\n",
        "print(\"\")\n",
        "Saco = float(input(\"Ingrese una cantidad de Sacos: \"))\n",
        "Libras = Saco * 50\n",
        "print(Saco,\"Sacos equivalen a\",Libras,\"Libras\")\n",
        "\n",
        "#Viseversa\n",
        "l = float(input(\"Ingrese una cantidad de Libras: \"))\n",
        "s = l / 50\n",
        "print(l,\"Libras equivalen a\",s,\"Sacos\")"
      ],
      "metadata": {
        "id": "5Ty11mTZRrAa",
        "outputId": "1ee01c1e-e292-4355-d55b-6ade93db7d1a",
        "colab": {
          "base_uri": "https://localhost:8080/"
        }
      },
      "execution_count": 9,
      "outputs": [
        {
          "output_type": "stream",
          "name": "stdout",
          "text": [
            "1 Saco equivale a 25 Libras\n",
            "\n",
            "Ingrese una cantidad de Sacos: 45\n",
            "45.0 Sacos equivalen a 2250.0 Libras\n",
            "Ingrese una cantidad de Libras: 50000\n",
            "50000.0 Libras equivalen a 1000.0 Sacos\n"
          ]
        }
      ]
    },
    {
      "cell_type": "code",
      "source": [
        "#FARDOS A UNIDADES___________________________________________\n",
        "#Conversion de Fardos a unidades\n",
        "print(\"1 Fardos equivale a 25 unidades\")\n",
        "print(\"\")\n",
        "Fardos = float(input(\"Ingrese una cantidad de Fardos: \"))\n",
        "unidades = Fardos * 5\n",
        "print(Fardos,\"Fardos equivalen a\",unidades,\"unidades\")\n",
        "\n",
        "#Viseversa\n",
        "u = float(input(\"Ingrese una cantidad de unidades: \"))\n",
        "f = u / 5\n",
        "print(u,\"unidades equivalen a\",f,\"Fardos\")"
      ],
      "metadata": {
        "id": "QFJobxNtSBdC",
        "outputId": "e268d251-59b5-483e-8e05-631ebccf8a96",
        "colab": {
          "base_uri": "https://localhost:8080/"
        }
      },
      "execution_count": 10,
      "outputs": [
        {
          "output_type": "stream",
          "name": "stdout",
          "text": [
            "1 Fardos equivale a 25 unidades\n",
            "\n",
            "Ingrese una cantidad de Fardos: 4\n",
            "4.0 Fardos equivalen a 20.0 unidades\n",
            "Ingrese una cantidad de unidades: 30\n",
            "30.0 unidades equivalen a 6.0 Fardos\n"
          ]
        }
      ]
    }
  ],
  "metadata": {
    "colab": {
      "collapsed_sections": [],
      "name": "Te damos la bienvenida a Colaboratory",
      "provenance": [],
      "include_colab_link": true
    },
    "kernelspec": {
      "display_name": "Python 3",
      "name": "python3"
    },
    "gpuClass": "standard"
  },
  "nbformat": 4,
  "nbformat_minor": 0
}